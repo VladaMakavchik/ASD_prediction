{
 "cells": [
  {
   "cell_type": "markdown",
   "metadata": {},
   "source": [
    "### Recognition of Autism Spectrum Disorder based on AQ-10 Test Results"
   ]
  },
  {
   "cell_type": "markdown",
   "metadata": {},
   "source": [
    "The AQ-10 (Autism Spectrum Quotient-10) test is a tool designed for the preliminary assessment of the possibility of Autism Spectrum Disorder (ASD) in adults who do not have moderate or severe learning disabilities. It consists of 10 questions and provides a brief assessment of the likelihood of autism features.\n",
    "\n",
    "It is important to note that AQ-10 is not a conclusive diagnostic procedure, but its results can serve as a basis for determining whether a more detailed and comprehensive examination for ASD is warranted. AQ-10 serves only as an instrument for initial assessment and does not provide definitive certainty in the diagnosis."
   ]
  },
  {
   "cell_type": "markdown",
   "metadata": {},
   "source": [
    "#### Type of Task:\n",
    "Binary Classification\n",
    "\n",
    "#### Target Label Class Values::\n",
    "* Predict the confirmation of ASD in patients after taking the AQ-10 test.\n",
    "\n",
    "* Target class label values:\n",
    "    \n",
    "    Class/ASD = 1 , ASD diagnosed\n",
    "    \n",
    "    Class/ASD = 0 , ASD not diagnosed"
   ]
  },
  {
   "cell_type": "markdown",
   "metadata": {},
   "source": [
    "Import of necessary libraries"
   ]
  },
  {
   "cell_type": "code",
   "execution_count": 1,
   "metadata": {},
   "outputs": [],
   "source": [
    "import pandas as pd\n",
    "import matplotlib.pyplot as plt\n",
    "import seaborn as sns\n",
    "\n",
    "from sklearn.preprocessing import OneHotEncoder\n",
    "from sklearn.preprocessing import StandardScaler\n",
    "from sklearn.model_selection import train_test_split\n",
    "from sklearn.metrics import confusion_matrix\n",
    "from sklearn.metrics import accuracy_score\n",
    "\n",
    "from sklearn.linear_model import LogisticRegression\n",
    "from sklearn.tree import DecisionTreeClassifier\n",
    "from sklearn.ensemble import RandomForestClassifier\n",
    "from sklearn.model_selection import GridSearchCV\n",
    "from sklearn.linear_model import SGDClassifier\n",
    "from sklearn import svm\n",
    "from sklearn.ensemble import AdaBoostClassifier\n",
    "from sklearn.ensemble import VotingClassifier\n",
    "\n",
    "import tensorflow as tf\n",
    "from tensorflow.keras import models\n",
    "from tensorflow.keras import layers"
   ]
  },
  {
   "cell_type": "markdown",
   "metadata": {},
   "source": [
    "Loading the Dataset"
   ]
  },
  {
   "cell_type": "code",
   "execution_count": 2,
   "metadata": {},
   "outputs": [],
   "source": [
    "df = pd.read_csv(\"autism-prediction/Autism-prediction/ASD.csv\", sep=';')"
   ]
  },
  {
   "cell_type": "code",
   "execution_count": 3,
   "metadata": {},
   "outputs": [
    {
     "data": {
      "text/html": [
       "<div>\n",
       "<style scoped>\n",
       "    .dataframe tbody tr th:only-of-type {\n",
       "        vertical-align: middle;\n",
       "    }\n",
       "\n",
       "    .dataframe tbody tr th {\n",
       "        vertical-align: top;\n",
       "    }\n",
       "\n",
       "    .dataframe thead th {\n",
       "        text-align: right;\n",
       "    }\n",
       "</style>\n",
       "<table border=\"1\" class=\"dataframe\">\n",
       "  <thead>\n",
       "    <tr style=\"text-align: right;\">\n",
       "      <th></th>\n",
       "      <th>ID</th>\n",
       "      <th>A1_Score</th>\n",
       "      <th>A2_Score</th>\n",
       "      <th>A3_Score</th>\n",
       "      <th>A4_Score</th>\n",
       "      <th>A5_Score</th>\n",
       "      <th>A6_Score</th>\n",
       "      <th>A7_Score</th>\n",
       "      <th>A8_Score</th>\n",
       "      <th>A9_Score</th>\n",
       "      <th>...</th>\n",
       "      <th>gender</th>\n",
       "      <th>ethnicity</th>\n",
       "      <th>jaundice</th>\n",
       "      <th>austim</th>\n",
       "      <th>contry_of_res</th>\n",
       "      <th>used_app_before</th>\n",
       "      <th>result</th>\n",
       "      <th>age_desc</th>\n",
       "      <th>relation</th>\n",
       "      <th>Class/ASD</th>\n",
       "    </tr>\n",
       "  </thead>\n",
       "  <tbody>\n",
       "    <tr>\n",
       "      <th>0</th>\n",
       "      <td>1</td>\n",
       "      <td>1</td>\n",
       "      <td>0</td>\n",
       "      <td>1</td>\n",
       "      <td>1</td>\n",
       "      <td>1</td>\n",
       "      <td>1</td>\n",
       "      <td>0</td>\n",
       "      <td>1</td>\n",
       "      <td>1</td>\n",
       "      <td>...</td>\n",
       "      <td>f</td>\n",
       "      <td>White-European</td>\n",
       "      <td>no</td>\n",
       "      <td>no</td>\n",
       "      <td>United States</td>\n",
       "      <td>no</td>\n",
       "      <td>7.819715</td>\n",
       "      <td>18 and more</td>\n",
       "      <td>Self</td>\n",
       "      <td>0</td>\n",
       "    </tr>\n",
       "    <tr>\n",
       "      <th>1</th>\n",
       "      <td>2</td>\n",
       "      <td>0</td>\n",
       "      <td>0</td>\n",
       "      <td>0</td>\n",
       "      <td>0</td>\n",
       "      <td>0</td>\n",
       "      <td>0</td>\n",
       "      <td>0</td>\n",
       "      <td>0</td>\n",
       "      <td>0</td>\n",
       "      <td>...</td>\n",
       "      <td>f</td>\n",
       "      <td>South Asian</td>\n",
       "      <td>no</td>\n",
       "      <td>no</td>\n",
       "      <td>Australia</td>\n",
       "      <td>no</td>\n",
       "      <td>10.544296</td>\n",
       "      <td>18 and more</td>\n",
       "      <td>?</td>\n",
       "      <td>0</td>\n",
       "    </tr>\n",
       "    <tr>\n",
       "      <th>2</th>\n",
       "      <td>3</td>\n",
       "      <td>1</td>\n",
       "      <td>1</td>\n",
       "      <td>1</td>\n",
       "      <td>1</td>\n",
       "      <td>1</td>\n",
       "      <td>1</td>\n",
       "      <td>0</td>\n",
       "      <td>0</td>\n",
       "      <td>1</td>\n",
       "      <td>...</td>\n",
       "      <td>f</td>\n",
       "      <td>White-European</td>\n",
       "      <td>no</td>\n",
       "      <td>no</td>\n",
       "      <td>United Kingdom</td>\n",
       "      <td>no</td>\n",
       "      <td>13.167506</td>\n",
       "      <td>18 and more</td>\n",
       "      <td>Self</td>\n",
       "      <td>1</td>\n",
       "    </tr>\n",
       "    <tr>\n",
       "      <th>3</th>\n",
       "      <td>4</td>\n",
       "      <td>0</td>\n",
       "      <td>0</td>\n",
       "      <td>0</td>\n",
       "      <td>1</td>\n",
       "      <td>0</td>\n",
       "      <td>0</td>\n",
       "      <td>0</td>\n",
       "      <td>0</td>\n",
       "      <td>0</td>\n",
       "      <td>...</td>\n",
       "      <td>f</td>\n",
       "      <td>South Asian</td>\n",
       "      <td>no</td>\n",
       "      <td>no</td>\n",
       "      <td>New Zealand</td>\n",
       "      <td>no</td>\n",
       "      <td>1.530098</td>\n",
       "      <td>18 and more</td>\n",
       "      <td>?</td>\n",
       "      <td>0</td>\n",
       "    </tr>\n",
       "    <tr>\n",
       "      <th>4</th>\n",
       "      <td>5</td>\n",
       "      <td>0</td>\n",
       "      <td>0</td>\n",
       "      <td>0</td>\n",
       "      <td>0</td>\n",
       "      <td>1</td>\n",
       "      <td>0</td>\n",
       "      <td>0</td>\n",
       "      <td>0</td>\n",
       "      <td>1</td>\n",
       "      <td>...</td>\n",
       "      <td>m</td>\n",
       "      <td>Black</td>\n",
       "      <td>no</td>\n",
       "      <td>yes</td>\n",
       "      <td>Italy</td>\n",
       "      <td>no</td>\n",
       "      <td>7.949723</td>\n",
       "      <td>18 and more</td>\n",
       "      <td>Self</td>\n",
       "      <td>0</td>\n",
       "    </tr>\n",
       "  </tbody>\n",
       "</table>\n",
       "<p>5 rows × 22 columns</p>\n",
       "</div>"
      ],
      "text/plain": [
       "   ID  A1_Score  A2_Score  A3_Score  A4_Score  A5_Score  A6_Score  A7_Score  \\\n",
       "0   1         1         0         1         1         1         1         0   \n",
       "1   2         0         0         0         0         0         0         0   \n",
       "2   3         1         1         1         1         1         1         0   \n",
       "3   4         0         0         0         1         0         0         0   \n",
       "4   5         0         0         0         0         1         0         0   \n",
       "\n",
       "   A8_Score  A9_Score  ...  gender       ethnicity jaundice austim  \\\n",
       "0         1         1  ...       f  White-European       no     no   \n",
       "1         0         0  ...       f     South Asian       no     no   \n",
       "2         0         1  ...       f  White-European       no     no   \n",
       "3         0         0  ...       f     South Asian       no     no   \n",
       "4         0         1  ...       m           Black       no    yes   \n",
       "\n",
       "    contry_of_res used_app_before     result     age_desc  relation Class/ASD  \n",
       "0   United States              no   7.819715  18 and more      Self         0  \n",
       "1       Australia              no  10.544296  18 and more         ?         0  \n",
       "2  United Kingdom              no  13.167506  18 and more      Self         1  \n",
       "3     New Zealand              no   1.530098  18 and more         ?         0  \n",
       "4           Italy              no   7.949723  18 and more      Self         0  \n",
       "\n",
       "[5 rows x 22 columns]"
      ]
     },
     "execution_count": 3,
     "metadata": {},
     "output_type": "execute_result"
    }
   ],
   "source": [
    "df.head()"
   ]
  },
  {
   "cell_type": "markdown",
   "metadata": {},
   "source": [
    "* ID - ID of the patient\n",
    "\n",
    "* A1_Score - A10_Score - Score based on Autism Spectrum Quotient (AQ) 10 item screening tool\n",
    "\n",
    "* age - Age of the patient in years\n",
    "\n",
    "* gender - Gender of the patient\n",
    "\n",
    "* ethnicity - Ethnicity of the patient\n",
    "\n",
    "* jaundice - Whether the patient had jaundice at the time of birth\n",
    "\n",
    "* autism - Whether an immediate family member has been diagnosed with autism \n",
    "\n",
    "* country_of_res - Country of residence of the patient\n",
    "\n",
    "* used_app_before - Whether the patient has undergone a screening test before\n",
    "\n",
    "* result - Score for AQ1-10 screening test\n",
    "\n",
    "* age_desc - Age of the patient\n",
    "\n",
    "* relation - Relation of patient who completed the test\n",
    "\n",
    "* Class/ASD - Class/ASD - Classified result as 0 or 1. Here 0 represents No and 1 represents Yes. This is the target column, and during submission submit the values as 0 or 1 only."
   ]
  },
  {
   "cell_type": "markdown",
   "metadata": {},
   "source": [
    "Let's look at general information about our dataset"
   ]
  },
  {
   "cell_type": "code",
   "execution_count": 4,
   "metadata": {},
   "outputs": [
    {
     "name": "stdout",
     "output_type": "stream",
     "text": [
      "<class 'pandas.core.frame.DataFrame'>\n",
      "RangeIndex: 1000 entries, 0 to 999\n",
      "Data columns (total 22 columns):\n",
      " #   Column           Non-Null Count  Dtype  \n",
      "---  ------           --------------  -----  \n",
      " 0   ID               1000 non-null   int64  \n",
      " 1   A1_Score         1000 non-null   int64  \n",
      " 2   A2_Score         1000 non-null   int64  \n",
      " 3   A3_Score         1000 non-null   int64  \n",
      " 4   A4_Score         1000 non-null   int64  \n",
      " 5   A5_Score         1000 non-null   int64  \n",
      " 6   A6_Score         1000 non-null   int64  \n",
      " 7   A7_Score         1000 non-null   int64  \n",
      " 8   A8_Score         1000 non-null   int64  \n",
      " 9   A9_Score         1000 non-null   int64  \n",
      " 10  A10_Score        1000 non-null   int64  \n",
      " 11  age              1000 non-null   float64\n",
      " 12  gender           1000 non-null   object \n",
      " 13  ethnicity        1000 non-null   object \n",
      " 14  jaundice         1000 non-null   object \n",
      " 15  austim           1000 non-null   object \n",
      " 16  contry_of_res    1000 non-null   object \n",
      " 17  used_app_before  1000 non-null   object \n",
      " 18  result           1000 non-null   float64\n",
      " 19  age_desc         1000 non-null   object \n",
      " 20  relation         1000 non-null   object \n",
      " 21  Class/ASD        1000 non-null   int64  \n",
      "dtypes: float64(2), int64(12), object(8)\n",
      "memory usage: 172.0+ KB\n"
     ]
    }
   ],
   "source": [
    "df.info()"
   ]
  },
  {
   "cell_type": "markdown",
   "metadata": {},
   "source": [
    "Remove the 'ID' column as we won't need the patient IDs."
   ]
  },
  {
   "cell_type": "code",
   "execution_count": 5,
   "metadata": {},
   "outputs": [],
   "source": [
    "df = df.drop('ID', axis=1)"
   ]
  },
  {
   "cell_type": "markdown",
   "metadata": {},
   "source": [
    "Examine the unique values contained in each of the columns."
   ]
  },
  {
   "cell_type": "code",
   "execution_count": 6,
   "metadata": {},
   "outputs": [
    {
     "name": "stdout",
     "output_type": "stream",
     "text": [
      "Unique values in the column 'A1_Score': [1 0]\n",
      "Unique values in the column 'A2_Score': [0 1]\n",
      "Unique values in the column 'A3_Score': [1 0]\n",
      "Unique values in the column 'A4_Score': [1 0]\n",
      "Unique values in the column 'A5_Score': [1 0]\n",
      "Unique values in the column 'A6_Score': [1 0]\n",
      "Unique values in the column 'A7_Score': [0 1]\n",
      "Unique values in the column 'A8_Score': [1 0]\n",
      "Unique values in the column 'A9_Score': [1 0]\n",
      "Unique values in the column 'A10_Score': [1 0]\n",
      "Unique values in the column 'gender': ['f' 'm']\n",
      "Unique values in the column 'ethnicity': ['White-European' 'South Asian' 'Black' 'Asian' 'Middle Eastern ' '?'\n",
      " 'others' 'Latino' 'Turkish' 'Others' 'Hispanic' 'Pasifika']\n",
      "Unique values in the column 'jaundice': ['no' 'yes']\n",
      "Unique values in the column 'austim': ['no' 'yes']\n",
      "Unique values in the column 'contry_of_res': ['United States' 'Australia' 'United Kingdom' 'New Zealand' 'Italy'\n",
      " 'Nicaragua' 'Canada' 'United Arab Emirates' 'Netherlands' 'Sri Lanka'\n",
      " 'India' 'Armenia' 'Sierra Leone' 'Argentina' 'Azerbaijan' 'Iceland'\n",
      " 'Egypt' 'Serbia' 'Afghanistan' 'Costa Rica' 'Jordan' 'Angola' 'Pakistan'\n",
      " 'Brazil' 'Ireland' 'Kazakhstan' 'Viet Nam' 'Ethiopia' 'Austria' 'Finland'\n",
      " 'France' 'Malaysia' 'Japan' 'Spain' 'Philippines' 'Iran' 'Czech Republic'\n",
      " 'Russia' 'Romania' 'Mexico' 'Belgium' 'Aruba' 'Uruguay' 'Indonesia'\n",
      " 'Ukraine' 'AmericanSamoa' 'Germany' 'China' 'Iraq' 'Tonga' 'South Africa'\n",
      " 'Saudi Arabia' 'Hong Kong' 'Bahamas' 'Ecuador' 'Cyprus' 'Bangladesh'\n",
      " 'Oman' 'Bolivia' 'Sweden' 'Niger' 'Burundi' 'Lebanon']\n",
      "Unique values in the column 'used_app_before': ['no' 'yes']\n",
      "Unique values in the column 'age_desc': ['18 and more']\n",
      "Unique values in the column 'relation': ['Self' '?' 'Health care professional' 'Parent' 'Relative' 'Others']\n",
      "Unique values in the column 'Class/ASD': [0 1]\n"
     ]
    }
   ],
   "source": [
    "for column in df.columns:\n",
    "    if column not in ['age', 'result']:\n",
    "        unique_values = df[column].unique()\n",
    "        print(f\"Unique values in the column '{column}': {unique_values}\")"
   ]
  },
  {
   "cell_type": "markdown",
   "metadata": {},
   "source": [
    "Let's replace incorrect column names in our dataset."
   ]
  },
  {
   "cell_type": "code",
   "execution_count": 7,
   "metadata": {},
   "outputs": [],
   "source": [
    "df = df.rename(columns = {'austim': 'autism', 'contry_of_res':'country_of_res'}, errors=\"raise\")"
   ]
  },
  {
   "cell_type": "markdown",
   "metadata": {},
   "source": [
    "In the 'ethnicity' field, replace '?' values with 'Unknown' and 'others' with 'Others.'\n",
    "\n",
    "For the 'relation' field, replace '?' values with 'Unknown.'"
   ]
  },
  {
   "cell_type": "code",
   "execution_count": 8,
   "metadata": {},
   "outputs": [],
   "source": [
    "df.loc[df['ethnicity'] == '?', 'ethnicity'] = 'Unknown'\n",
    "df.loc[df['ethnicity'] == 'others', 'ethnicity'] = 'Others'\n",
    "\n",
    "df.loc[df['relation'] == '?', 'relation'] = 'Unknown'"
   ]
  },
  {
   "cell_type": "markdown",
   "metadata": {},
   "source": [
    "Upon reviewing our dataset, we observe that the 'age_desc' column is not significant as it contains identical values throughout the dataset. Therefore, we will remove it."
   ]
  },
  {
   "cell_type": "code",
   "execution_count": 9,
   "metadata": {},
   "outputs": [],
   "source": [
    "df = df.drop(['age_desc'], axis=1)"
   ]
  },
  {
   "cell_type": "markdown",
   "metadata": {},
   "source": [
    "In our dataset, there is a field 'age' representing the patients' age in floating-point numbers. For ease of analysis and in accordance with the tradition of measuring age in integer numbers, we will transform this field by replacing fractional values with integer data reflecting the patients' ages."
   ]
  },
  {
   "cell_type": "code",
   "execution_count": 10,
   "metadata": {},
   "outputs": [],
   "source": [
    "df['age'] = df['age'].astype(int)"
   ]
  },
  {
   "cell_type": "code",
   "execution_count": 11,
   "metadata": {},
   "outputs": [
    {
     "data": {
      "text/html": [
       "<div>\n",
       "<style scoped>\n",
       "    .dataframe tbody tr th:only-of-type {\n",
       "        vertical-align: middle;\n",
       "    }\n",
       "\n",
       "    .dataframe tbody tr th {\n",
       "        vertical-align: top;\n",
       "    }\n",
       "\n",
       "    .dataframe thead th {\n",
       "        text-align: right;\n",
       "    }\n",
       "</style>\n",
       "<table border=\"1\" class=\"dataframe\">\n",
       "  <thead>\n",
       "    <tr style=\"text-align: right;\">\n",
       "      <th></th>\n",
       "      <th>A1_Score</th>\n",
       "      <th>A2_Score</th>\n",
       "      <th>A3_Score</th>\n",
       "      <th>A4_Score</th>\n",
       "      <th>A5_Score</th>\n",
       "      <th>A6_Score</th>\n",
       "      <th>A7_Score</th>\n",
       "      <th>A8_Score</th>\n",
       "      <th>A9_Score</th>\n",
       "      <th>A10_Score</th>\n",
       "      <th>age</th>\n",
       "      <th>gender</th>\n",
       "      <th>ethnicity</th>\n",
       "      <th>jaundice</th>\n",
       "      <th>autism</th>\n",
       "      <th>country_of_res</th>\n",
       "      <th>used_app_before</th>\n",
       "      <th>result</th>\n",
       "      <th>relation</th>\n",
       "      <th>Class/ASD</th>\n",
       "    </tr>\n",
       "  </thead>\n",
       "  <tbody>\n",
       "    <tr>\n",
       "      <th>0</th>\n",
       "      <td>1</td>\n",
       "      <td>0</td>\n",
       "      <td>1</td>\n",
       "      <td>1</td>\n",
       "      <td>1</td>\n",
       "      <td>1</td>\n",
       "      <td>0</td>\n",
       "      <td>1</td>\n",
       "      <td>1</td>\n",
       "      <td>1</td>\n",
       "      <td>18</td>\n",
       "      <td>f</td>\n",
       "      <td>White-European</td>\n",
       "      <td>no</td>\n",
       "      <td>no</td>\n",
       "      <td>United States</td>\n",
       "      <td>no</td>\n",
       "      <td>7.819715</td>\n",
       "      <td>Self</td>\n",
       "      <td>0</td>\n",
       "    </tr>\n",
       "    <tr>\n",
       "      <th>1</th>\n",
       "      <td>0</td>\n",
       "      <td>0</td>\n",
       "      <td>0</td>\n",
       "      <td>0</td>\n",
       "      <td>0</td>\n",
       "      <td>0</td>\n",
       "      <td>0</td>\n",
       "      <td>0</td>\n",
       "      <td>0</td>\n",
       "      <td>1</td>\n",
       "      <td>13</td>\n",
       "      <td>f</td>\n",
       "      <td>South Asian</td>\n",
       "      <td>no</td>\n",
       "      <td>no</td>\n",
       "      <td>Australia</td>\n",
       "      <td>no</td>\n",
       "      <td>10.544296</td>\n",
       "      <td>Unknown</td>\n",
       "      <td>0</td>\n",
       "    </tr>\n",
       "    <tr>\n",
       "      <th>2</th>\n",
       "      <td>1</td>\n",
       "      <td>1</td>\n",
       "      <td>1</td>\n",
       "      <td>1</td>\n",
       "      <td>1</td>\n",
       "      <td>1</td>\n",
       "      <td>0</td>\n",
       "      <td>0</td>\n",
       "      <td>1</td>\n",
       "      <td>1</td>\n",
       "      <td>14</td>\n",
       "      <td>f</td>\n",
       "      <td>White-European</td>\n",
       "      <td>no</td>\n",
       "      <td>no</td>\n",
       "      <td>United Kingdom</td>\n",
       "      <td>no</td>\n",
       "      <td>13.167506</td>\n",
       "      <td>Self</td>\n",
       "      <td>1</td>\n",
       "    </tr>\n",
       "    <tr>\n",
       "      <th>3</th>\n",
       "      <td>0</td>\n",
       "      <td>0</td>\n",
       "      <td>0</td>\n",
       "      <td>1</td>\n",
       "      <td>0</td>\n",
       "      <td>0</td>\n",
       "      <td>0</td>\n",
       "      <td>0</td>\n",
       "      <td>0</td>\n",
       "      <td>0</td>\n",
       "      <td>61</td>\n",
       "      <td>f</td>\n",
       "      <td>South Asian</td>\n",
       "      <td>no</td>\n",
       "      <td>no</td>\n",
       "      <td>New Zealand</td>\n",
       "      <td>no</td>\n",
       "      <td>1.530098</td>\n",
       "      <td>Unknown</td>\n",
       "      <td>0</td>\n",
       "    </tr>\n",
       "    <tr>\n",
       "      <th>4</th>\n",
       "      <td>0</td>\n",
       "      <td>0</td>\n",
       "      <td>0</td>\n",
       "      <td>0</td>\n",
       "      <td>1</td>\n",
       "      <td>0</td>\n",
       "      <td>0</td>\n",
       "      <td>0</td>\n",
       "      <td>1</td>\n",
       "      <td>1</td>\n",
       "      <td>14</td>\n",
       "      <td>m</td>\n",
       "      <td>Black</td>\n",
       "      <td>no</td>\n",
       "      <td>yes</td>\n",
       "      <td>Italy</td>\n",
       "      <td>no</td>\n",
       "      <td>7.949723</td>\n",
       "      <td>Self</td>\n",
       "      <td>0</td>\n",
       "    </tr>\n",
       "  </tbody>\n",
       "</table>\n",
       "</div>"
      ],
      "text/plain": [
       "   A1_Score  A2_Score  A3_Score  A4_Score  A5_Score  A6_Score  A7_Score  \\\n",
       "0         1         0         1         1         1         1         0   \n",
       "1         0         0         0         0         0         0         0   \n",
       "2         1         1         1         1         1         1         0   \n",
       "3         0         0         0         1         0         0         0   \n",
       "4         0         0         0         0         1         0         0   \n",
       "\n",
       "   A8_Score  A9_Score  A10_Score  age gender       ethnicity jaundice autism  \\\n",
       "0         1         1          1   18      f  White-European       no     no   \n",
       "1         0         0          1   13      f     South Asian       no     no   \n",
       "2         0         1          1   14      f  White-European       no     no   \n",
       "3         0         0          0   61      f     South Asian       no     no   \n",
       "4         0         1          1   14      m           Black       no    yes   \n",
       "\n",
       "   country_of_res used_app_before     result relation  Class/ASD  \n",
       "0   United States              no   7.819715     Self          0  \n",
       "1       Australia              no  10.544296  Unknown          0  \n",
       "2  United Kingdom              no  13.167506     Self          1  \n",
       "3     New Zealand              no   1.530098  Unknown          0  \n",
       "4           Italy              no   7.949723     Self          0  "
      ]
     },
     "execution_count": 11,
     "metadata": {},
     "output_type": "execute_result"
    }
   ],
   "source": [
    "df.head()"
   ]
  },
  {
   "cell_type": "markdown",
   "metadata": {},
   "source": [
    "Let's count the number of positive and negative ASD diagnostic results and compare them."
   ]
  },
  {
   "cell_type": "code",
   "execution_count": 12,
   "metadata": {},
   "outputs": [],
   "source": [
    "ASD_pos = (df['Class/ASD'] == 1).sum()\n",
    "ASD_neg = (df['Class/ASD'] == 0).sum()"
   ]
  },
  {
   "cell_type": "code",
   "execution_count": 13,
   "metadata": {},
   "outputs": [
    {
     "name": "stdout",
     "output_type": "stream",
     "text": [
      "Number of patients with a positive test result: 275\n",
      "Number of patients with a negative test result: 725\n"
     ]
    }
   ],
   "source": [
    "print('Number of patients with a positive test result:', ASD_pos)\n",
    "print('Number of patients with a negative test result:', ASD_neg)"
   ]
  },
  {
   "cell_type": "code",
   "execution_count": 14,
   "metadata": {},
   "outputs": [
    {
     "data": {
      "image/png": "[encoded data removed]",
      "text/plain": [
       "<Figure size 720x432 with 1 Axes>"
      ]
     },
     "metadata": {},
     "output_type": "display_data"
    }
   ],
   "source": [
    "plt.figure(figsize=(10, 6))\n",
    "values = [ASD_pos, ASD_neg]\n",
    "plt.pie(values, labels=['ASD Diagnosed', 'ASD Not Diagnosed'], autopct='%1.1f%%', startangle=140)\n",
    "plt.title('Comparison of Positive and Negative ASD Diagnostic Results')\n",
    "plt.show()"
   ]
  },
  {
   "cell_type": "markdown",
   "metadata": {},
   "source": [
    "275 individuals (27.5%) in our dataset have a positive ASD diagnosis, while 725 individuals (72.5%) have a negative ASD diagnosis."
   ]
  },
  {
   "cell_type": "markdown",
   "metadata": {},
   "source": [
    "Let's analyze the ASD diagnostic results based on other characteristics."
   ]
  },
  {
   "cell_type": "markdown",
   "metadata": {},
   "source": [
    "##### Patient's Age"
   ]
  },
  {
   "cell_type": "code",
   "execution_count": 15,
   "metadata": {},
   "outputs": [
    {
     "data": {
      "image/png": "[encoded data removed]",
      "text/plain": [
       "<Figure size 1296x576 with 1 Axes>"
      ]
     },
     "metadata": {
      "needs_background": "light"
     },
     "output_type": "display_data"
    }
   ],
   "source": [
    "age_counts = df.groupby(['age', 'Class/ASD']).size().unstack(fill_value=0)\n",
    "\n",
    "age_counts.plot(kind='bar', figsize=(18, 8))\n",
    "plt.title('ASD Presence Chart by Age')\n",
    "plt.xlabel('Age')\n",
    "plt.ylabel('Number of Patients')\n",
    "plt.legend(['Negative Result', 'Positive Result'], title='Test Result')\n",
    "plt.xticks(rotation=0)\n",
    "plt.show()"
   ]
  },
  {
   "cell_type": "markdown",
   "metadata": {},
   "source": [
    "Let's take a closer look at the distribution of positive and negative test results for each age group."
   ]
  },
  {
   "cell_type": "code",
   "execution_count": 16,
   "metadata": {},
   "outputs": [
    {
     "data": {
      "image/png": "[encoded data removed]",
      "text/plain": [
       "<Figure size 1440x720 with 1 Axes>"
      ]
     },
     "metadata": {
      "needs_background": "light"
     },
     "output_type": "display_data"
    }
   ],
   "source": [
    "grouped_data = df.groupby(['age', 'Class/ASD']).size().unstack(fill_value=0)\n",
    "\n",
    "total_counts = grouped_data.sum(axis=1)\n",
    "\n",
    "grouped_data['Negative Percentage'] = (grouped_data[0] / total_counts * 100).round(2)\n",
    "grouped_data['Positive Percentage'] = (grouped_data[1] / total_counts * 100).round(2)\n",
    "\n",
    "grouped_data[['Negative Percentage', 'Positive Percentage']].plot(kind='bar', stacked=True, figsize=(20, 10))\n",
    "\n",
    "plt.legend(['Negative Percentage', 'Positive Percentage'], title='Test Result', bbox_to_anchor=(0.5, -0.10), loc='upper center', fontsize='large')\n",
    "plt.axhline(y=50, color='r', linestyle='--') # line indicating 50%\n",
    "plt.title('Diagram by Age and Result')\n",
    "plt.xlabel('Age')\n",
    "plt.ylabel('Percentage of Records')\n",
    "plt.xticks(rotation=0)\n",
    "\n",
    "plt.show()"
   ]
  },
  {
   "cell_type": "code",
   "execution_count": 17,
   "metadata": {},
   "outputs": [],
   "source": [
    "grouped_data['Count of patients'] = grouped_data[0] + grouped_data[1]"
   ]
  },
  {
   "cell_type": "code",
   "execution_count": 18,
   "metadata": {},
   "outputs": [
    {
     "data": {
      "text/html": [
       "<div>\n",
       "<style scoped>\n",
       "    .dataframe tbody tr th:only-of-type {\n",
       "        vertical-align: middle;\n",
       "    }\n",
       "\n",
       "    .dataframe tbody tr th {\n",
       "        vertical-align: top;\n",
       "    }\n",
       "\n",
       "    .dataframe thead th {\n",
       "        text-align: right;\n",
       "    }\n",
       "</style>\n",
       "<table border=\"1\" class=\"dataframe\">\n",
       "  <thead>\n",
       "    <tr style=\"text-align: right;\">\n",
       "      <th>Class/ASD</th>\n",
       "      <th>0</th>\n",
       "      <th>1</th>\n",
       "      <th>Negative Percentage</th>\n",
       "      <th>Positive Percentage</th>\n",
       "      <th>Count of patients</th>\n",
       "    </tr>\n",
       "    <tr>\n",
       "      <th>age</th>\n",
       "      <th></th>\n",
       "      <th></th>\n",
       "      <th></th>\n",
       "      <th></th>\n",
       "      <th></th>\n",
       "    </tr>\n",
       "  </thead>\n",
       "  <tbody>\n",
       "    <tr>\n",
       "      <th>7</th>\n",
       "      <td>0</td>\n",
       "      <td>1</td>\n",
       "      <td>0.00</td>\n",
       "      <td>100.00</td>\n",
       "      <td>1</td>\n",
       "    </tr>\n",
       "    <tr>\n",
       "      <th>9</th>\n",
       "      <td>1</td>\n",
       "      <td>0</td>\n",
       "      <td>100.00</td>\n",
       "      <td>0.00</td>\n",
       "      <td>1</td>\n",
       "    </tr>\n",
       "    <tr>\n",
       "      <th>10</th>\n",
       "      <td>2</td>\n",
       "      <td>2</td>\n",
       "      <td>50.00</td>\n",
       "      <td>50.00</td>\n",
       "      <td>4</td>\n",
       "    </tr>\n",
       "    <tr>\n",
       "      <th>11</th>\n",
       "      <td>3</td>\n",
       "      <td>3</td>\n",
       "      <td>50.00</td>\n",
       "      <td>50.00</td>\n",
       "      <td>6</td>\n",
       "    </tr>\n",
       "    <tr>\n",
       "      <th>12</th>\n",
       "      <td>20</td>\n",
       "      <td>6</td>\n",
       "      <td>76.92</td>\n",
       "      <td>23.08</td>\n",
       "      <td>26</td>\n",
       "    </tr>\n",
       "  </tbody>\n",
       "</table>\n",
       "</div>"
      ],
      "text/plain": [
       "Class/ASD   0  1  Negative Percentage  Positive Percentage  Count of patients\n",
       "age                                                                          \n",
       "7           0  1                 0.00               100.00                  1\n",
       "9           1  0               100.00                 0.00                  1\n",
       "10          2  2                50.00                50.00                  4\n",
       "11          3  3                50.00                50.00                  6\n",
       "12         20  6                76.92                23.08                 26"
      ]
     },
     "execution_count": 18,
     "metadata": {},
     "output_type": "execute_result"
    }
   ],
   "source": [
    "grouped_data.head()"
   ]
  },
  {
   "cell_type": "code",
   "execution_count": 19,
   "metadata": {},
   "outputs": [
    {
     "name": "stdout",
     "output_type": "stream",
     "text": [
      "Average number of patients aged 12 to 31 who underwent testing: 33.0\n"
     ]
    }
   ],
   "source": [
    "print('Average number of patients aged 12 to 31 who underwent testing: ' + str(grouped_data['Count of patients'][3:26].mean()))"
   ]
  },
  {
   "cell_type": "code",
   "execution_count": 20,
   "metadata": {},
   "outputs": [
    {
     "name": "stdout",
     "output_type": "stream",
     "text": [
      "Average number of patients older than 31 who underwent testing: 6.0256410256410255\n"
     ]
    }
   ],
   "source": [
    "print('Average number of patients older than 31 who underwent testing: ' + str(grouped_data['Count of patients'][26:66].mean()))"
   ]
  },
  {
   "cell_type": "markdown",
   "metadata": {},
   "source": [
    "Let's calculate the average percentage of patients with negative and positive test results:"
   ]
  },
  {
   "cell_type": "code",
   "execution_count": 21,
   "metadata": {},
   "outputs": [
    {
     "name": "stdout",
     "output_type": "stream",
     "text": [
      "Average percentage of negative test results: 69.15938461538462\n",
      "Average percentage of positive test results: 30.840615384615386\n"
     ]
    }
   ],
   "source": [
    "print('Average percentage of negative test results: ' + str(grouped_data['Negative Percentage'].mean()))\n",
    "print('Average percentage of positive test results: ' + str(grouped_data['Positive Percentage'].mean()))"
   ]
  },
  {
   "cell_type": "code",
   "execution_count": 22,
   "metadata": {},
   "outputs": [
    {
     "name": "stdout",
     "output_type": "stream",
     "text": [
      "Average percentage of positive test results for patients aged 12 to 31: 26.110869565217385\n"
     ]
    }
   ],
   "source": [
    "print('Average percentage of positive test results for patients aged 12 to 31: ' + str(grouped_data['Positive Percentage'][3:26].mean()))"
   ]
  },
  {
   "cell_type": "code",
   "execution_count": 23,
   "metadata": {},
   "outputs": [
    {
     "name": "stdout",
     "output_type": "stream",
     "text": [
      "Average percentage of positive test results for patients older than 31: 32.15615384615385\n"
     ]
    }
   ],
   "source": [
    "print('Average percentage of positive test results for patients older than 31: ' + str(grouped_data['Positive Percentage'][26:66].mean()))"
   ]
  },
  {
   "cell_type": "markdown",
   "metadata": {},
   "source": [
    "The main group of tested patients falls within the age range of 12 to 31 years, with an average count of 33 individuals. Meanwhile, for patients older than 31 years, this average count decreases to 6 individuals. This indicates a more active participation in testing among the younger age group.\n",
    "\n",
    "Analyzing the test results, we observe that the average percentage of patients with a positive ASD diagnosis is 30.84%, while 69.16% have a negative diagnosis.\n",
    "\n",
    "When examining these results by age groups, we notice that in the age range of 12 to 31 years, the average percentage of positively diagnosed ASD slightly decreases to 26.11%. Meanwhile, for patients older than 31 years, the average percentage of positive diagnoses increases to 32.16%."
   ]
  },
  {
   "cell_type": "markdown",
   "metadata": {},
   "source": [
    "##### Gender"
   ]
  },
  {
   "cell_type": "code",
   "execution_count": 24,
   "metadata": {},
   "outputs": [
    {
     "data": {
      "image/png": "[encoded data removed]",
      "text/plain": [
       "<Figure size 1080x432 with 1 Axes>"
      ]
     },
     "metadata": {
      "needs_background": "light"
     },
     "output_type": "display_data"
    }
   ],
   "source": [
    "gender_counts = df.groupby(['gender', 'Class/ASD']).size().unstack(fill_value=0)\n",
    "\n",
    "gender_counts.plot(kind='bar', figsize=(15, 6))\n",
    "plt.title('ASD Presence Chart by Gender')\n",
    "plt.xlabel('Gender')\n",
    "plt.ylabel('Number of Patients')\n",
    "plt.legend(['Negative Result', 'Positive Result'], title='Test Result')\n",
    "plt.xticks(rotation=0)\n",
    "plt.show()"
   ]
  },
  {
   "cell_type": "markdown",
   "metadata": {},
   "source": [
    "Calculate the total number of patients by gender"
   ]
  },
  {
   "cell_type": "code",
   "execution_count": 25,
   "metadata": {},
   "outputs": [],
   "source": [
    "gender_counts['Patients'] = gender_counts[0] + gender_counts[1]"
   ]
  },
  {
   "cell_type": "markdown",
   "metadata": {},
   "source": [
    "Calculate the percentage of positive and negative ASD diagnoses for each gender"
   ]
  },
  {
   "cell_type": "code",
   "execution_count": 26,
   "metadata": {},
   "outputs": [],
   "source": [
    "gender_counts['Percentage Negative'] = (gender_counts[0] / gender_counts['Patients'] * 100).round(2)\n",
    "gender_counts['Percentage Positive'] = (gender_counts[1] / gender_counts['Patients'] * 100).round(2)"
   ]
  },
  {
   "cell_type": "code",
   "execution_count": 27,
   "metadata": {},
   "outputs": [
    {
     "data": {
      "text/html": [
       "<div>\n",
       "<style scoped>\n",
       "    .dataframe tbody tr th:only-of-type {\n",
       "        vertical-align: middle;\n",
       "    }\n",
       "\n",
       "    .dataframe tbody tr th {\n",
       "        vertical-align: top;\n",
       "    }\n",
       "\n",
       "    .dataframe thead th {\n",
       "        text-align: right;\n",
       "    }\n",
       "</style>\n",
       "<table border=\"1\" class=\"dataframe\">\n",
       "  <thead>\n",
       "    <tr style=\"text-align: right;\">\n",
       "      <th>Class/ASD</th>\n",
       "      <th>0</th>\n",
       "      <th>1</th>\n",
       "      <th>Patients</th>\n",
       "      <th>Percentage Negative</th>\n",
       "      <th>Percentage Positive</th>\n",
       "    </tr>\n",
       "    <tr>\n",
       "      <th>gender</th>\n",
       "      <th></th>\n",
       "      <th></th>\n",
       "      <th></th>\n",
       "      <th></th>\n",
       "      <th></th>\n",
       "    </tr>\n",
       "  </thead>\n",
       "  <tbody>\n",
       "    <tr>\n",
       "      <th>f</th>\n",
       "      <td>355</td>\n",
       "      <td>170</td>\n",
       "      <td>525</td>\n",
       "      <td>67.62</td>\n",
       "      <td>32.38</td>\n",
       "    </tr>\n",
       "    <tr>\n",
       "      <th>m</th>\n",
       "      <td>370</td>\n",
       "      <td>105</td>\n",
       "      <td>475</td>\n",
       "      <td>77.89</td>\n",
       "      <td>22.11</td>\n",
       "    </tr>\n",
       "  </tbody>\n",
       "</table>\n",
       "</div>"
      ],
      "text/plain": [
       "Class/ASD    0    1  Patients  Percentage Negative  Percentage Positive\n",
       "gender                                                                 \n",
       "f          355  170       525                67.62                32.38\n",
       "m          370  105       475                77.89                22.11"
      ]
     },
     "execution_count": 27,
     "metadata": {},
     "output_type": "execute_result"
    }
   ],
   "source": [
    "gender_counts"
   ]
  },
  {
   "cell_type": "code",
   "execution_count": 28,
   "metadata": {},
   "outputs": [
    {
     "name": "stdout",
     "output_type": "stream",
     "text": [
      "Percentage of female patients among all patients: 52.5\n"
     ]
    }
   ],
   "source": [
    "print('Percentage of female patients among all patients: ' + str(gender_counts['Patients'][0] / (gender_counts['Patients'][0] + gender_counts['Patients'][1]) * 100))"
   ]
  },
  {
   "cell_type": "code",
   "execution_count": 29,
   "metadata": {},
   "outputs": [
    {
     "name": "stdout",
     "output_type": "stream",
     "text": [
      "Percentage of positive ASD diagnoses among the total number of females: 32.38\n"
     ]
    }
   ],
   "source": [
    "print('Percentage of positive ASD diagnoses among the total number of females: ' + str(gender_counts['Percentage Positive'][0]))"
   ]
  },
  {
   "cell_type": "code",
   "execution_count": 30,
   "metadata": {},
   "outputs": [
    {
     "name": "stdout",
     "output_type": "stream",
     "text": [
      "Percentage of positive ASD diagnoses among the total number of males: 22.11\n"
     ]
    }
   ],
   "source": [
    "print('Percentage of positive ASD diagnoses among the total number of males: ' + str(gender_counts['Percentage Positive'][1]))"
   ]
  },
  {
   "cell_type": "markdown",
   "metadata": {},
   "source": [
    "In our dataset, there are more females than males. Females constitute 52.5% of the total number of patients, while males constitute 47.5%. This may be associated with higher sensitivity in females to early symptoms or more frequent medical consultations.\n",
    "\n",
    "Analyzing the results of autism spectrum disorder (ASD) diagnosis, it is evident that the percentage of positive diagnoses among females is 32.38%, while among males, this percentage is lower at 22.11%. Thus, more females are diagnosed with ASD compared to males, despite the gender distribution being approximately equal."
   ]
  },
  {
   "cell_type": "markdown",
   "metadata": {},
   "source": [
    "##### Ethnicity"
   ]
  },
  {
   "cell_type": "code",
   "execution_count": 31,
   "metadata": {},
   "outputs": [
    {
     "data": {
      "image/png": "[encoded data removed]",
      "text/plain": [
       "<Figure size 1296x432 with 1 Axes>"
      ]
     },
     "metadata": {
      "needs_background": "light"
     },
     "output_type": "display_data"
    }
   ],
   "source": [
    "ethnicity_counts = df.groupby(['ethnicity', 'Class/ASD']).size().unstack(fill_value=0)\n",
    "\n",
    "ethnicity_counts.plot(kind='bar', figsize=(18, 6))\n",
    "plt.title('ASD Presence Chart by Ethnicity')\n",
    "plt.xlabel('Ethnicity')\n",
    "plt.ylabel('Number of Patients')\n",
    "plt.legend(['Negative Result', 'Positive Result'], title='Test Result')\n",
    "plt.xticks(rotation=0)\n",
    "plt.show()"
   ]
  },
  {
   "cell_type": "markdown",
   "metadata": {},
   "source": [
    "Calculate the number of patients for each ethnic group"
   ]
  },
  {
   "cell_type": "code",
   "execution_count": 32,
   "metadata": {},
   "outputs": [],
   "source": [
    "ethnicity_counts['Total Patients'] = ethnicity_counts[0] + ethnicity_counts[1]"
   ]
  },
  {
   "cell_type": "markdown",
   "metadata": {},
   "source": [
    "Calculate the percentage of positively diagnosed patients for each ethnic group"
   ]
  },
  {
   "cell_type": "code",
   "execution_count": 33,
   "metadata": {},
   "outputs": [],
   "source": [
    "ethnicity_counts['% Positive'] = (ethnicity_counts[1] / ethnicity_counts['Total Patients'] * 100).round(2)"
   ]
  },
  {
   "cell_type": "markdown",
   "metadata": {},
   "source": [
    "Calculate the percentage of patients for each ethnic group relative to all patients"
   ]
  },
  {
   "cell_type": "code",
   "execution_count": 34,
   "metadata": {},
   "outputs": [],
   "source": [
    "ethnicity_counts['% of Total Patients'] = (ethnicity_counts['Total Patients'] / 1000 * 100).round(2)"
   ]
  },
  {
   "cell_type": "markdown",
   "metadata": {},
   "source": [
    "Let's examine the positively diagnosed patients in each ethnic group relative to all patients."
   ]
  },
  {
   "cell_type": "markdown",
   "metadata": {},
   "source": [
    "We will calculate the percentage of positive patients in this ethnic group relative to all ethnic groups."
   ]
  },
  {
   "cell_type": "code",
   "execution_count": 35,
   "metadata": {},
   "outputs": [],
   "source": [
    "ethnicity_counts['% Positive Patients in Ethnic Group'] = (ethnicity_counts[1] / 1000 * 100).round(2)"
   ]
  },
  {
   "cell_type": "markdown",
   "metadata": {},
   "source": [
    "Calculate the percentage of positively diagnosed patients in each ethnic group relative to all positively diagnosed patients"
   ]
  },
  {
   "cell_type": "code",
   "execution_count": 36,
   "metadata": {},
   "outputs": [],
   "source": [
    "ethnicity_counts['% Positive Patients in Ethnic Group Relative to All Positive'] = (ethnicity_counts[1] / ASD_pos * 100).round(2)"
   ]
  },
  {
   "cell_type": "code",
   "execution_count": 37,
   "metadata": {},
   "outputs": [
    {
     "data": {
      "text/html": [
       "<div>\n",
       "<style scoped>\n",
       "    .dataframe tbody tr th:only-of-type {\n",
       "        vertical-align: middle;\n",
       "    }\n",
       "\n",
       "    .dataframe tbody tr th {\n",
       "        vertical-align: top;\n",
       "    }\n",
       "\n",
       "    .dataframe thead th {\n",
       "        text-align: right;\n",
       "    }\n",
       "</style>\n",
       "<table border=\"1\" class=\"dataframe\">\n",
       "  <thead>\n",
       "    <tr style=\"text-align: right;\">\n",
       "      <th>Class/ASD</th>\n",
       "      <th>0</th>\n",
       "      <th>1</th>\n",
       "      <th>Total Patients</th>\n",
       "      <th>% Positive</th>\n",
       "      <th>% of Total Patients</th>\n",
       "      <th>% Positive Patients in Ethnic Group</th>\n",
       "      <th>% Positive Patients in Ethnic Group Relative to All Positive</th>\n",
       "    </tr>\n",
       "    <tr>\n",
       "      <th>ethnicity</th>\n",
       "      <th></th>\n",
       "      <th></th>\n",
       "      <th></th>\n",
       "      <th></th>\n",
       "      <th></th>\n",
       "      <th></th>\n",
       "      <th></th>\n",
       "    </tr>\n",
       "  </thead>\n",
       "  <tbody>\n",
       "    <tr>\n",
       "      <th>Asian</th>\n",
       "      <td>135</td>\n",
       "      <td>30</td>\n",
       "      <td>165</td>\n",
       "      <td>18.18</td>\n",
       "      <td>16.5</td>\n",
       "      <td>3.0</td>\n",
       "      <td>10.91</td>\n",
       "    </tr>\n",
       "    <tr>\n",
       "      <th>Black</th>\n",
       "      <td>44</td>\n",
       "      <td>11</td>\n",
       "      <td>55</td>\n",
       "      <td>20.00</td>\n",
       "      <td>5.5</td>\n",
       "      <td>1.1</td>\n",
       "      <td>4.00</td>\n",
       "    </tr>\n",
       "    <tr>\n",
       "      <th>Hispanic</th>\n",
       "      <td>15</td>\n",
       "      <td>5</td>\n",
       "      <td>20</td>\n",
       "      <td>25.00</td>\n",
       "      <td>2.0</td>\n",
       "      <td>0.5</td>\n",
       "      <td>1.82</td>\n",
       "    </tr>\n",
       "    <tr>\n",
       "      <th>Latino</th>\n",
       "      <td>31</td>\n",
       "      <td>20</td>\n",
       "      <td>51</td>\n",
       "      <td>39.22</td>\n",
       "      <td>5.1</td>\n",
       "      <td>2.0</td>\n",
       "      <td>7.27</td>\n",
       "    </tr>\n",
       "    <tr>\n",
       "      <th>Middle Eastern</th>\n",
       "      <td>128</td>\n",
       "      <td>22</td>\n",
       "      <td>150</td>\n",
       "      <td>14.67</td>\n",
       "      <td>15.0</td>\n",
       "      <td>2.2</td>\n",
       "      <td>8.00</td>\n",
       "    </tr>\n",
       "    <tr>\n",
       "      <th>Others</th>\n",
       "      <td>24</td>\n",
       "      <td>8</td>\n",
       "      <td>32</td>\n",
       "      <td>25.00</td>\n",
       "      <td>3.2</td>\n",
       "      <td>0.8</td>\n",
       "      <td>2.91</td>\n",
       "    </tr>\n",
       "    <tr>\n",
       "      <th>Pasifika</th>\n",
       "      <td>20</td>\n",
       "      <td>5</td>\n",
       "      <td>25</td>\n",
       "      <td>20.00</td>\n",
       "      <td>2.5</td>\n",
       "      <td>0.5</td>\n",
       "      <td>1.82</td>\n",
       "    </tr>\n",
       "    <tr>\n",
       "      <th>South Asian</th>\n",
       "      <td>39</td>\n",
       "      <td>5</td>\n",
       "      <td>44</td>\n",
       "      <td>11.36</td>\n",
       "      <td>4.4</td>\n",
       "      <td>0.5</td>\n",
       "      <td>1.82</td>\n",
       "    </tr>\n",
       "    <tr>\n",
       "      <th>Turkish</th>\n",
       "      <td>10</td>\n",
       "      <td>1</td>\n",
       "      <td>11</td>\n",
       "      <td>9.09</td>\n",
       "      <td>1.1</td>\n",
       "      <td>0.1</td>\n",
       "      <td>0.36</td>\n",
       "    </tr>\n",
       "    <tr>\n",
       "      <th>Unknown</th>\n",
       "      <td>158</td>\n",
       "      <td>30</td>\n",
       "      <td>188</td>\n",
       "      <td>15.96</td>\n",
       "      <td>18.8</td>\n",
       "      <td>3.0</td>\n",
       "      <td>10.91</td>\n",
       "    </tr>\n",
       "    <tr>\n",
       "      <th>White-European</th>\n",
       "      <td>121</td>\n",
       "      <td>138</td>\n",
       "      <td>259</td>\n",
       "      <td>53.28</td>\n",
       "      <td>25.9</td>\n",
       "      <td>13.8</td>\n",
       "      <td>50.18</td>\n",
       "    </tr>\n",
       "  </tbody>\n",
       "</table>\n",
       "</div>"
      ],
      "text/plain": [
       "Class/ASD          0    1  Total Patients  % Positive  % of Total Patients  \\\n",
       "ethnicity                                                                    \n",
       "Asian            135   30             165       18.18                 16.5   \n",
       "Black             44   11              55       20.00                  5.5   \n",
       "Hispanic          15    5              20       25.00                  2.0   \n",
       "Latino            31   20              51       39.22                  5.1   \n",
       "Middle Eastern   128   22             150       14.67                 15.0   \n",
       "Others            24    8              32       25.00                  3.2   \n",
       "Pasifika          20    5              25       20.00                  2.5   \n",
       "South Asian       39    5              44       11.36                  4.4   \n",
       "Turkish           10    1              11        9.09                  1.1   \n",
       "Unknown          158   30             188       15.96                 18.8   \n",
       "White-European   121  138             259       53.28                 25.9   \n",
       "\n",
       "Class/ASD        % Positive Patients in Ethnic Group  \\\n",
       "ethnicity                                              \n",
       "Asian                                            3.0   \n",
       "Black                                            1.1   \n",
       "Hispanic                                         0.5   \n",
       "Latino                                           2.0   \n",
       "Middle Eastern                                   2.2   \n",
       "Others                                           0.8   \n",
       "Pasifika                                         0.5   \n",
       "South Asian                                      0.5   \n",
       "Turkish                                          0.1   \n",
       "Unknown                                          3.0   \n",
       "White-European                                  13.8   \n",
       "\n",
       "Class/ASD        % Positive Patients in Ethnic Group Relative to All Positive  \n",
       "ethnicity                                                                      \n",
       "Asian                                                        10.91             \n",
       "Black                                                         4.00             \n",
       "Hispanic                                                      1.82             \n",
       "Latino                                                        7.27             \n",
       "Middle Eastern                                                8.00             \n",
       "Others                                                        2.91             \n",
       "Pasifika                                                      1.82             \n",
       "South Asian                                                   1.82             \n",
       "Turkish                                                       0.36             \n",
       "Unknown                                                      10.91             \n",
       "White-European                                               50.18             "
      ]
     },
     "execution_count": 37,
     "metadata": {},
     "output_type": "execute_result"
    }
   ],
   "source": [
    "ethnicity_counts"
   ]
  },
  {
   "cell_type": "markdown",
   "metadata": {},
   "source": [
    "The ethnic group \"White-European\" has the highest percentage of positive results (13.8%) in the overall dataset and also the highest among all positively diagnosed patients (50.18%), while the ethnic groups \"Pasifika\" (0.5%) and \"Turkish\" (0.1%) have much lower percentages in the overall dataset.\n",
    "\n",
    "There is also a significant percentage of cases with unknown ethnicity. Noticeably, the percentage of positive patients in the \"Unknown\" ethnic group is 10.91% relative to all positively diagnosed patients, which is the second-highest value (sharing this second place with the \"Asian\" ethnic group, which also has 10.91%). Further research is needed to understand the reasons behind such values and to clarify information about ethnicity.\n",
    "\n",
    "When considering each ethnic group separately, the highest percentage of positively diagnosed patients is observed in White-European with 53.28%, followed by Latino with 39.22%."
   ]
  },
  {
   "cell_type": "markdown",
   "metadata": {},
   "source": [
    "##### Jaundice"
   ]
  },
  {
   "cell_type": "code",
   "execution_count": 38,
   "metadata": {
    "scrolled": false
   },
   "outputs": [
    {
     "data": {
      "image/png": "[encoded data removed]",
      "text/plain": [
       "<Figure size 1080x432 with 1 Axes>"
      ]
     },
     "metadata": {
      "needs_background": "light"
     },
     "output_type": "display_data"
    }
   ],
   "source": [
    "jaundice_counts = df.groupby(['jaundice', 'Class/ASD']).size().unstack(fill_value=0)\n",
    "\n",
    "jaundice_counts.plot(kind='bar', figsize=(15, 6))\n",
    "plt.title('ASD Presence Chart by Jaundice at Birth')\n",
    "plt.xlabel('Jaundice at Birth')\n",
    "plt.ylabel('Number of Patients')\n",
    "plt.legend(['Negative Result', 'Positive Result'], title='Test Result')\n",
    "plt.xticks(rotation=0)\n",
    "plt.show()"
   ]
  },
  {
   "cell_type": "markdown",
   "metadata": {},
   "source": [
    "Calculate the total number of patients for those who had jaundice at birth and those who did not"
   ]
  },
  {
   "cell_type": "code",
   "execution_count": 39,
   "metadata": {},
   "outputs": [],
   "source": [
    "jaundice_counts['Total Patients'] = jaundice_counts[0] + jaundice_counts[1]"
   ]
  },
  {
   "cell_type": "markdown",
   "metadata": {},
   "source": [
    "Calculate the percentage of positive diagnoses for each group"
   ]
  },
  {
   "cell_type": "code",
   "execution_count": 40,
   "metadata": {},
   "outputs": [],
   "source": [
    "jaundice_counts['% Positive Diagnoses'] = (jaundice_counts[1] / jaundice_counts['Total Patients'] * 100).round(2)"
   ]
  },
  {
   "cell_type": "markdown",
   "metadata": {},
   "source": [
    "Calculate the percentage of positively diagnosed patients for each group relative to all patients"
   ]
  },
  {
   "cell_type": "code",
   "execution_count": 41,
   "metadata": {},
   "outputs": [],
   "source": [
    "jaundice_counts['% Positive Patients Relative to All'] = (jaundice_counts[1] / 1000 * 100).round(2)"
   ]
  },
  {
   "cell_type": "markdown",
   "metadata": {},
   "source": [
    "Calculate the percentage of positively diagnosed patients for each group relative to all positive patients"
   ]
  },
  {
   "cell_type": "code",
   "execution_count": 42,
   "metadata": {},
   "outputs": [],
   "source": [
    "jaundice_counts['% Positive Patients Relative to Positive'] = (jaundice_counts[1] / ASD_pos * 100).round(2)"
   ]
  },
  {
   "cell_type": "code",
   "execution_count": 43,
   "metadata": {},
   "outputs": [
    {
     "data": {
      "text/html": [
       "<div>\n",
       "<style scoped>\n",
       "    .dataframe tbody tr th:only-of-type {\n",
       "        vertical-align: middle;\n",
       "    }\n",
       "\n",
       "    .dataframe tbody tr th {\n",
       "        vertical-align: top;\n",
       "    }\n",
       "\n",
       "    .dataframe thead th {\n",
       "        text-align: right;\n",
       "    }\n",
       "</style>\n",
       "<table border=\"1\" class=\"dataframe\">\n",
       "  <thead>\n",
       "    <tr style=\"text-align: right;\">\n",
       "      <th>Class/ASD</th>\n",
       "      <th>0</th>\n",
       "      <th>1</th>\n",
       "      <th>Total Patients</th>\n",
       "      <th>% Positive Diagnoses</th>\n",
       "      <th>% Positive Patients Relative to All</th>\n",
       "      <th>% Positive Patients Relative to Positive</th>\n",
       "    </tr>\n",
       "    <tr>\n",
       "      <th>jaundice</th>\n",
       "      <th></th>\n",
       "      <th></th>\n",
       "      <th></th>\n",
       "      <th></th>\n",
       "      <th></th>\n",
       "      <th></th>\n",
       "    </tr>\n",
       "  </thead>\n",
       "  <tbody>\n",
       "    <tr>\n",
       "      <th>no</th>\n",
       "      <td>579</td>\n",
       "      <td>181</td>\n",
       "      <td>760</td>\n",
       "      <td>23.82</td>\n",
       "      <td>18.1</td>\n",
       "      <td>65.82</td>\n",
       "    </tr>\n",
       "    <tr>\n",
       "      <th>yes</th>\n",
       "      <td>146</td>\n",
       "      <td>94</td>\n",
       "      <td>240</td>\n",
       "      <td>39.17</td>\n",
       "      <td>9.4</td>\n",
       "      <td>34.18</td>\n",
       "    </tr>\n",
       "  </tbody>\n",
       "</table>\n",
       "</div>"
      ],
      "text/plain": [
       "Class/ASD    0    1  Total Patients  % Positive Diagnoses  \\\n",
       "jaundice                                                    \n",
       "no         579  181             760                 23.82   \n",
       "yes        146   94             240                 39.17   \n",
       "\n",
       "Class/ASD  % Positive Patients Relative to All  \\\n",
       "jaundice                                         \n",
       "no                                        18.1   \n",
       "yes                                        9.4   \n",
       "\n",
       "Class/ASD  % Positive Patients Relative to Positive  \n",
       "jaundice                                             \n",
       "no                                            65.82  \n",
       "yes                                           34.18  "
      ]
     },
     "execution_count": 43,
     "metadata": {},
     "output_type": "execute_result"
    }
   ],
   "source": [
    "jaundice_counts"
   ]
  },
  {
   "cell_type": "markdown",
   "metadata": {},
   "source": [
    "The percentage of positive diagnoses among patients who had jaundice at birth is 39.17%, significantly higher than among patients without jaundice at birth, where this percentage is 23.82%. This may indicate a connection between the presence of jaundice and the likelihood of a positive ASD diagnosis.\n",
    "\n",
    "Patients who had jaundice at birth and were diagnosed with ASD constitute 34.18% of the total net positive diagnosed patients."
   ]
  },
  {
   "cell_type": "markdown",
   "metadata": {},
   "source": [
    "##### Whether an immediate family member has been diagnosed with autism"
   ]
  },
  {
   "cell_type": "code",
   "execution_count": 44,
   "metadata": {},
   "outputs": [
    {
     "data": {
      "image/png": "[encoded data removed]",
      "text/plain": [
       "<Figure size 1080x432 with 1 Axes>"
      ]
     },
     "metadata": {
      "needs_background": "light"
     },
     "output_type": "display_data"
    }
   ],
   "source": [
    "autism_counts = df.groupby(['autism', 'Class/ASD']).size().unstack(fill_value=0)\n",
    "\n",
    "autism_counts.plot(kind='bar', figsize=(15, 6))\n",
    "plt.title('ASD Presence Chart by Family History of ASD Diagnosis')\n",
    "plt.xlabel('Family History of ASD Diagnosis')\n",
    "plt.ylabel('Number of Patients')\n",
    "plt.legend(['Negative Result', 'Positive Result'], title='Test Result')\n",
    "plt.xticks(rotation=0)\n",
    "plt.show()"
   ]
  },
  {
   "cell_type": "markdown",
   "metadata": {},
   "source": [
    "Calculate the total number of patients in the groups"
   ]
  },
  {
   "cell_type": "code",
   "execution_count": 45,
   "metadata": {},
   "outputs": [],
   "source": [
    "autism_counts['Total Patients in Groups'] = autism_counts[0] + autism_counts[1]"
   ]
  },
  {
   "cell_type": "markdown",
   "metadata": {},
   "source": [
    "Calculate the percentage of patients in the groups relative to all patients"
   ]
  },
  {
   "cell_type": "code",
   "execution_count": 46,
   "metadata": {},
   "outputs": [],
   "source": [
    "autism_counts['% Patients in Groups'] = autism_counts['Total Patients in Groups'] / 1000 * 100"
   ]
  },
  {
   "cell_type": "markdown",
   "metadata": {},
   "source": [
    "Calculate the percentage of positive diagnoses in the groups"
   ]
  },
  {
   "cell_type": "code",
   "execution_count": 47,
   "metadata": {},
   "outputs": [],
   "source": [
    "autism_counts['% Positive Diagnoses in Groups'] = (autism_counts[1] / autism_counts['Total Patients in Groups'] * 100).round(2)"
   ]
  },
  {
   "cell_type": "markdown",
   "metadata": {},
   "source": [
    "Calculate the percentage of positive patients in each group relative to all patients"
   ]
  },
  {
   "cell_type": "code",
   "execution_count": 48,
   "metadata": {},
   "outputs": [],
   "source": [
    "autism_counts['% Positive Patients in Group Relative to Total'] = (autism_counts[1] / 1000 * 100).round(2)"
   ]
  },
  {
   "cell_type": "markdown",
   "metadata": {},
   "source": [
    "Calculate the percentage of positive patients in each group relative to all positive patients"
   ]
  },
  {
   "cell_type": "code",
   "execution_count": 49,
   "metadata": {},
   "outputs": [],
   "source": [
    "autism_counts['% Positive Patients in Group Relative to Positive'] = (autism_counts[1] / ASD_pos * 100).round(2)"
   ]
  },
  {
   "cell_type": "code",
   "execution_count": 50,
   "metadata": {},
   "outputs": [
    {
     "data": {
      "text/html": [
       "<div>\n",
       "<style scoped>\n",
       "    .dataframe tbody tr th:only-of-type {\n",
       "        vertical-align: middle;\n",
       "    }\n",
       "\n",
       "    .dataframe tbody tr th {\n",
       "        vertical-align: top;\n",
       "    }\n",
       "\n",
       "    .dataframe thead th {\n",
       "        text-align: right;\n",
       "    }\n",
       "</style>\n",
       "<table border=\"1\" class=\"dataframe\">\n",
       "  <thead>\n",
       "    <tr style=\"text-align: right;\">\n",
       "      <th>Class/ASD</th>\n",
       "      <th>0</th>\n",
       "      <th>1</th>\n",
       "      <th>Total Patients in Groups</th>\n",
       "      <th>% Patients in Groups</th>\n",
       "      <th>% Positive Diagnoses in Groups</th>\n",
       "      <th>% Positive Patients in Group Relative to Total</th>\n",
       "      <th>% Positive Patients in Group Relative to Positive</th>\n",
       "    </tr>\n",
       "    <tr>\n",
       "      <th>autism</th>\n",
       "      <th></th>\n",
       "      <th></th>\n",
       "      <th></th>\n",
       "      <th></th>\n",
       "      <th></th>\n",
       "      <th></th>\n",
       "      <th></th>\n",
       "    </tr>\n",
       "  </thead>\n",
       "  <tbody>\n",
       "    <tr>\n",
       "      <th>no</th>\n",
       "      <td>668</td>\n",
       "      <td>191</td>\n",
       "      <td>859</td>\n",
       "      <td>85.9</td>\n",
       "      <td>22.24</td>\n",
       "      <td>19.1</td>\n",
       "      <td>69.45</td>\n",
       "    </tr>\n",
       "    <tr>\n",
       "      <th>yes</th>\n",
       "      <td>57</td>\n",
       "      <td>84</td>\n",
       "      <td>141</td>\n",
       "      <td>14.1</td>\n",
       "      <td>59.57</td>\n",
       "      <td>8.4</td>\n",
       "      <td>30.55</td>\n",
       "    </tr>\n",
       "  </tbody>\n",
       "</table>\n",
       "</div>"
      ],
      "text/plain": [
       "Class/ASD    0    1  Total Patients in Groups  % Patients in Groups  \\\n",
       "autism                                                                \n",
       "no         668  191                       859                  85.9   \n",
       "yes         57   84                       141                  14.1   \n",
       "\n",
       "Class/ASD  % Positive Diagnoses in Groups  \\\n",
       "autism                                      \n",
       "no                                  22.24   \n",
       "yes                                 59.57   \n",
       "\n",
       "Class/ASD  % Positive Patients in Group Relative to Total  \\\n",
       "autism                                                      \n",
       "no                                                   19.1   \n",
       "yes                                                   8.4   \n",
       "\n",
       "Class/ASD  % Positive Patients in Group Relative to Positive  \n",
       "autism                                                        \n",
       "no                                                     69.45  \n",
       "yes                                                    30.55  "
      ]
     },
     "execution_count": 50,
     "metadata": {},
     "output_type": "execute_result"
    }
   ],
   "source": [
    "autism_counts"
   ]
  },
  {
   "cell_type": "markdown",
   "metadata": {},
   "source": [
    "The group of patients with no family history of ASD diagnosis constitutes a significant majority - 85.9%. In this group, the percentage of positive diagnoses is 22.24%, and in the context of all positively diagnosed patients, it is 69.45%.\n",
    "\n",
    "The group of patients with a family history of ASD diagnosis is relatively small - 14.1%. However, in this group, there is a high percentage of positive diagnoses - 55.57%, but in the context of all positively diagnosed patients, it is 30.55%."
   ]
  },
  {
   "cell_type": "markdown",
   "metadata": {},
   "source": [
    "##### Country of residence"
   ]
  },
  {
   "cell_type": "code",
   "execution_count": 51,
   "metadata": {},
   "outputs": [
    {
     "data": {
      "image/png": "[encoded data removed]",
      "text/plain": [
       "<Figure size 1296x432 with 1 Axes>"
      ]
     },
     "metadata": {
      "needs_background": "light"
     },
     "output_type": "display_data"
    }
   ],
   "source": [
    "country_of_res_counts = df.groupby(['country_of_res', 'Class/ASD']).size().unstack(fill_value=0)\n",
    "\n",
    "country_of_res_counts.plot(kind='bar', figsize=(18, 6))\n",
    "plt.title('ASD Presence Chart by Patients Country of Residence')\n",
    "plt.xlabel('Country of Residence')\n",
    "plt.ylabel('Number of Patients')\n",
    "plt.legend(['Negative Result', 'Positive Result'], title='Test Result')\n",
    "plt.show()"
   ]
  },
  {
   "cell_type": "markdown",
   "metadata": {},
   "source": [
    "Calculate the total number of patients in groups by country of residence"
   ]
  },
  {
   "cell_type": "code",
   "execution_count": 52,
   "metadata": {},
   "outputs": [],
   "source": [
    "country_of_res_counts['Total Patients in Groups'] = country_of_res_counts[0] + country_of_res_counts[1]"
   ]
  },
  {
   "cell_type": "markdown",
   "metadata": {},
   "source": [
    "Calculate the percentage of patients in groups relative to the total number of patients"
   ]
  },
  {
   "cell_type": "code",
   "execution_count": 53,
   "metadata": {},
   "outputs": [],
   "source": [
    "country_of_res_counts['% Patients in Groups'] = country_of_res_counts['Total Patients in Groups'] / 1000 * 100"
   ]
  },
  {
   "cell_type": "markdown",
   "metadata": {},
   "source": [
    "Calculate the percentage of positive diagnoses in groups"
   ]
  },
  {
   "cell_type": "code",
   "execution_count": 54,
   "metadata": {},
   "outputs": [],
   "source": [
    "country_of_res_counts['% Positive Diagnoses in Groups'] = (country_of_res_counts[1] / country_of_res_counts['Total Patients in Groups'] * 100).round(2)"
   ]
  },
  {
   "cell_type": "markdown",
   "metadata": {},
   "source": [
    "Calculate the percentage of positive patients in each group relative to the total number of patients"
   ]
  },
  {
   "cell_type": "code",
   "execution_count": 55,
   "metadata": {},
   "outputs": [],
   "source": [
    "country_of_res_counts['% Positive Patients in Group Relative to Total'] = (country_of_res_counts[1] / 1000 * 100).round(2)"
   ]
  },
  {
   "cell_type": "markdown",
   "metadata": {},
   "source": [
    "Calculate the percentage of positive patients in each group relative to all positive patients"
   ]
  },
  {
   "cell_type": "code",
   "execution_count": 56,
   "metadata": {},
   "outputs": [],
   "source": [
    "country_of_res_counts['% Positive Patients in Group Relative to Positive'] = (country_of_res_counts[1] / ASD_pos * 100).round(2)"
   ]
  },
  {
   "cell_type": "code",
   "execution_count": 57,
   "metadata": {},
   "outputs": [
    {
     "data": {
      "text/html": [
       "<div>\n",
       "<style scoped>\n",
       "    .dataframe tbody tr th:only-of-type {\n",
       "        vertical-align: middle;\n",
       "    }\n",
       "\n",
       "    .dataframe tbody tr th {\n",
       "        vertical-align: top;\n",
       "    }\n",
       "\n",
       "    .dataframe thead th {\n",
       "        text-align: right;\n",
       "    }\n",
       "</style>\n",
       "<table border=\"1\" class=\"dataframe\">\n",
       "  <thead>\n",
       "    <tr style=\"text-align: right;\">\n",
       "      <th>Class/ASD</th>\n",
       "      <th>0</th>\n",
       "      <th>1</th>\n",
       "      <th>Total Patients in Groups</th>\n",
       "      <th>% Patients in Groups</th>\n",
       "      <th>% Positive Diagnoses in Groups</th>\n",
       "      <th>% Positive Patients in Group Relative to Total</th>\n",
       "      <th>% Positive Patients in Group Relative to Positive</th>\n",
       "    </tr>\n",
       "    <tr>\n",
       "      <th>country_of_res</th>\n",
       "      <th></th>\n",
       "      <th></th>\n",
       "      <th></th>\n",
       "      <th></th>\n",
       "      <th></th>\n",
       "      <th></th>\n",
       "      <th></th>\n",
       "    </tr>\n",
       "  </thead>\n",
       "  <tbody>\n",
       "    <tr>\n",
       "      <th>Afghanistan</th>\n",
       "      <td>23</td>\n",
       "      <td>6</td>\n",
       "      <td>29</td>\n",
       "      <td>2.9</td>\n",
       "      <td>20.69</td>\n",
       "      <td>0.6</td>\n",
       "      <td>2.18</td>\n",
       "    </tr>\n",
       "    <tr>\n",
       "      <th>AmericanSamoa</th>\n",
       "      <td>3</td>\n",
       "      <td>1</td>\n",
       "      <td>4</td>\n",
       "      <td>0.4</td>\n",
       "      <td>25.00</td>\n",
       "      <td>0.1</td>\n",
       "      <td>0.36</td>\n",
       "    </tr>\n",
       "    <tr>\n",
       "      <th>Angola</th>\n",
       "      <td>2</td>\n",
       "      <td>1</td>\n",
       "      <td>3</td>\n",
       "      <td>0.3</td>\n",
       "      <td>33.33</td>\n",
       "      <td>0.1</td>\n",
       "      <td>0.36</td>\n",
       "    </tr>\n",
       "    <tr>\n",
       "      <th>Argentina</th>\n",
       "      <td>3</td>\n",
       "      <td>0</td>\n",
       "      <td>3</td>\n",
       "      <td>0.3</td>\n",
       "      <td>0.00</td>\n",
       "      <td>0.0</td>\n",
       "      <td>0.00</td>\n",
       "    </tr>\n",
       "    <tr>\n",
       "      <th>Armenia</th>\n",
       "      <td>3</td>\n",
       "      <td>4</td>\n",
       "      <td>7</td>\n",
       "      <td>0.7</td>\n",
       "      <td>57.14</td>\n",
       "      <td>0.4</td>\n",
       "      <td>1.45</td>\n",
       "    </tr>\n",
       "    <tr>\n",
       "      <th>Aruba</th>\n",
       "      <td>2</td>\n",
       "      <td>1</td>\n",
       "      <td>3</td>\n",
       "      <td>0.3</td>\n",
       "      <td>33.33</td>\n",
       "      <td>0.1</td>\n",
       "      <td>0.36</td>\n",
       "    </tr>\n",
       "    <tr>\n",
       "      <th>Australia</th>\n",
       "      <td>30</td>\n",
       "      <td>21</td>\n",
       "      <td>51</td>\n",
       "      <td>5.1</td>\n",
       "      <td>41.18</td>\n",
       "      <td>2.1</td>\n",
       "      <td>7.64</td>\n",
       "    </tr>\n",
       "    <tr>\n",
       "      <th>Austria</th>\n",
       "      <td>12</td>\n",
       "      <td>4</td>\n",
       "      <td>16</td>\n",
       "      <td>1.6</td>\n",
       "      <td>25.00</td>\n",
       "      <td>0.4</td>\n",
       "      <td>1.45</td>\n",
       "    </tr>\n",
       "    <tr>\n",
       "      <th>Azerbaijan</th>\n",
       "      <td>2</td>\n",
       "      <td>1</td>\n",
       "      <td>3</td>\n",
       "      <td>0.3</td>\n",
       "      <td>33.33</td>\n",
       "      <td>0.1</td>\n",
       "      <td>0.36</td>\n",
       "    </tr>\n",
       "    <tr>\n",
       "      <th>Bahamas</th>\n",
       "      <td>5</td>\n",
       "      <td>0</td>\n",
       "      <td>5</td>\n",
       "      <td>0.5</td>\n",
       "      <td>0.00</td>\n",
       "      <td>0.0</td>\n",
       "      <td>0.00</td>\n",
       "    </tr>\n",
       "    <tr>\n",
       "      <th>Bangladesh</th>\n",
       "      <td>1</td>\n",
       "      <td>0</td>\n",
       "      <td>1</td>\n",
       "      <td>0.1</td>\n",
       "      <td>0.00</td>\n",
       "      <td>0.0</td>\n",
       "      <td>0.00</td>\n",
       "    </tr>\n",
       "    <tr>\n",
       "      <th>Belgium</th>\n",
       "      <td>3</td>\n",
       "      <td>1</td>\n",
       "      <td>4</td>\n",
       "      <td>0.4</td>\n",
       "      <td>25.00</td>\n",
       "      <td>0.1</td>\n",
       "      <td>0.36</td>\n",
       "    </tr>\n",
       "    <tr>\n",
       "      <th>Bolivia</th>\n",
       "      <td>1</td>\n",
       "      <td>2</td>\n",
       "      <td>3</td>\n",
       "      <td>0.3</td>\n",
       "      <td>66.67</td>\n",
       "      <td>0.2</td>\n",
       "      <td>0.73</td>\n",
       "    </tr>\n",
       "    <tr>\n",
       "      <th>Brazil</th>\n",
       "      <td>8</td>\n",
       "      <td>3</td>\n",
       "      <td>11</td>\n",
       "      <td>1.1</td>\n",
       "      <td>27.27</td>\n",
       "      <td>0.3</td>\n",
       "      <td>1.09</td>\n",
       "    </tr>\n",
       "    <tr>\n",
       "      <th>Burundi</th>\n",
       "      <td>1</td>\n",
       "      <td>0</td>\n",
       "      <td>1</td>\n",
       "      <td>0.1</td>\n",
       "      <td>0.00</td>\n",
       "      <td>0.0</td>\n",
       "      <td>0.00</td>\n",
       "    </tr>\n",
       "    <tr>\n",
       "      <th>Canada</th>\n",
       "      <td>14</td>\n",
       "      <td>6</td>\n",
       "      <td>20</td>\n",
       "      <td>2.0</td>\n",
       "      <td>30.00</td>\n",
       "      <td>0.6</td>\n",
       "      <td>2.18</td>\n",
       "    </tr>\n",
       "    <tr>\n",
       "      <th>China</th>\n",
       "      <td>2</td>\n",
       "      <td>0</td>\n",
       "      <td>2</td>\n",
       "      <td>0.2</td>\n",
       "      <td>0.00</td>\n",
       "      <td>0.0</td>\n",
       "      <td>0.00</td>\n",
       "    </tr>\n",
       "    <tr>\n",
       "      <th>Costa Rica</th>\n",
       "      <td>4</td>\n",
       "      <td>0</td>\n",
       "      <td>4</td>\n",
       "      <td>0.4</td>\n",
       "      <td>0.00</td>\n",
       "      <td>0.0</td>\n",
       "      <td>0.00</td>\n",
       "    </tr>\n",
       "    <tr>\n",
       "      <th>Cyprus</th>\n",
       "      <td>0</td>\n",
       "      <td>1</td>\n",
       "      <td>1</td>\n",
       "      <td>0.1</td>\n",
       "      <td>100.00</td>\n",
       "      <td>0.1</td>\n",
       "      <td>0.36</td>\n",
       "    </tr>\n",
       "    <tr>\n",
       "      <th>Czech Republic</th>\n",
       "      <td>3</td>\n",
       "      <td>0</td>\n",
       "      <td>3</td>\n",
       "      <td>0.3</td>\n",
       "      <td>0.00</td>\n",
       "      <td>0.0</td>\n",
       "      <td>0.00</td>\n",
       "    </tr>\n",
       "    <tr>\n",
       "      <th>Ecuador</th>\n",
       "      <td>1</td>\n",
       "      <td>0</td>\n",
       "      <td>1</td>\n",
       "      <td>0.1</td>\n",
       "      <td>0.00</td>\n",
       "      <td>0.0</td>\n",
       "      <td>0.00</td>\n",
       "    </tr>\n",
       "    <tr>\n",
       "      <th>Egypt</th>\n",
       "      <td>5</td>\n",
       "      <td>1</td>\n",
       "      <td>6</td>\n",
       "      <td>0.6</td>\n",
       "      <td>16.67</td>\n",
       "      <td>0.1</td>\n",
       "      <td>0.36</td>\n",
       "    </tr>\n",
       "    <tr>\n",
       "      <th>Ethiopia</th>\n",
       "      <td>4</td>\n",
       "      <td>1</td>\n",
       "      <td>5</td>\n",
       "      <td>0.5</td>\n",
       "      <td>20.00</td>\n",
       "      <td>0.1</td>\n",
       "      <td>0.36</td>\n",
       "    </tr>\n",
       "    <tr>\n",
       "      <th>Finland</th>\n",
       "      <td>1</td>\n",
       "      <td>0</td>\n",
       "      <td>1</td>\n",
       "      <td>0.1</td>\n",
       "      <td>0.00</td>\n",
       "      <td>0.0</td>\n",
       "      <td>0.00</td>\n",
       "    </tr>\n",
       "    <tr>\n",
       "      <th>France</th>\n",
       "      <td>11</td>\n",
       "      <td>4</td>\n",
       "      <td>15</td>\n",
       "      <td>1.5</td>\n",
       "      <td>26.67</td>\n",
       "      <td>0.4</td>\n",
       "      <td>1.45</td>\n",
       "    </tr>\n",
       "    <tr>\n",
       "      <th>Germany</th>\n",
       "      <td>3</td>\n",
       "      <td>1</td>\n",
       "      <td>4</td>\n",
       "      <td>0.4</td>\n",
       "      <td>25.00</td>\n",
       "      <td>0.1</td>\n",
       "      <td>0.36</td>\n",
       "    </tr>\n",
       "    <tr>\n",
       "      <th>Hong Kong</th>\n",
       "      <td>0</td>\n",
       "      <td>1</td>\n",
       "      <td>1</td>\n",
       "      <td>0.1</td>\n",
       "      <td>100.00</td>\n",
       "      <td>0.1</td>\n",
       "      <td>0.36</td>\n",
       "    </tr>\n",
       "    <tr>\n",
       "      <th>Iceland</th>\n",
       "      <td>3</td>\n",
       "      <td>1</td>\n",
       "      <td>4</td>\n",
       "      <td>0.4</td>\n",
       "      <td>25.00</td>\n",
       "      <td>0.1</td>\n",
       "      <td>0.36</td>\n",
       "    </tr>\n",
       "    <tr>\n",
       "      <th>India</th>\n",
       "      <td>76</td>\n",
       "      <td>12</td>\n",
       "      <td>88</td>\n",
       "      <td>8.8</td>\n",
       "      <td>13.64</td>\n",
       "      <td>1.2</td>\n",
       "      <td>4.36</td>\n",
       "    </tr>\n",
       "    <tr>\n",
       "      <th>Indonesia</th>\n",
       "      <td>1</td>\n",
       "      <td>0</td>\n",
       "      <td>1</td>\n",
       "      <td>0.1</td>\n",
       "      <td>0.00</td>\n",
       "      <td>0.0</td>\n",
       "      <td>0.00</td>\n",
       "    </tr>\n",
       "    <tr>\n",
       "      <th>Iran</th>\n",
       "      <td>6</td>\n",
       "      <td>1</td>\n",
       "      <td>7</td>\n",
       "      <td>0.7</td>\n",
       "      <td>14.29</td>\n",
       "      <td>0.1</td>\n",
       "      <td>0.36</td>\n",
       "    </tr>\n",
       "    <tr>\n",
       "      <th>Iraq</th>\n",
       "      <td>1</td>\n",
       "      <td>1</td>\n",
       "      <td>2</td>\n",
       "      <td>0.2</td>\n",
       "      <td>50.00</td>\n",
       "      <td>0.1</td>\n",
       "      <td>0.36</td>\n",
       "    </tr>\n",
       "    <tr>\n",
       "      <th>Ireland</th>\n",
       "      <td>3</td>\n",
       "      <td>1</td>\n",
       "      <td>4</td>\n",
       "      <td>0.4</td>\n",
       "      <td>25.00</td>\n",
       "      <td>0.1</td>\n",
       "      <td>0.36</td>\n",
       "    </tr>\n",
       "    <tr>\n",
       "      <th>Italy</th>\n",
       "      <td>8</td>\n",
       "      <td>4</td>\n",
       "      <td>12</td>\n",
       "      <td>1.2</td>\n",
       "      <td>33.33</td>\n",
       "      <td>0.4</td>\n",
       "      <td>1.45</td>\n",
       "    </tr>\n",
       "    <tr>\n",
       "      <th>Japan</th>\n",
       "      <td>1</td>\n",
       "      <td>1</td>\n",
       "      <td>2</td>\n",
       "      <td>0.2</td>\n",
       "      <td>50.00</td>\n",
       "      <td>0.1</td>\n",
       "      <td>0.36</td>\n",
       "    </tr>\n",
       "    <tr>\n",
       "      <th>Jordan</th>\n",
       "      <td>47</td>\n",
       "      <td>8</td>\n",
       "      <td>55</td>\n",
       "      <td>5.5</td>\n",
       "      <td>14.55</td>\n",
       "      <td>0.8</td>\n",
       "      <td>2.91</td>\n",
       "    </tr>\n",
       "    <tr>\n",
       "      <th>Kazakhstan</th>\n",
       "      <td>8</td>\n",
       "      <td>1</td>\n",
       "      <td>9</td>\n",
       "      <td>0.9</td>\n",
       "      <td>11.11</td>\n",
       "      <td>0.1</td>\n",
       "      <td>0.36</td>\n",
       "    </tr>\n",
       "    <tr>\n",
       "      <th>Lebanon</th>\n",
       "      <td>1</td>\n",
       "      <td>0</td>\n",
       "      <td>1</td>\n",
       "      <td>0.1</td>\n",
       "      <td>0.00</td>\n",
       "      <td>0.0</td>\n",
       "      <td>0.00</td>\n",
       "    </tr>\n",
       "    <tr>\n",
       "      <th>Malaysia</th>\n",
       "      <td>4</td>\n",
       "      <td>2</td>\n",
       "      <td>6</td>\n",
       "      <td>0.6</td>\n",
       "      <td>33.33</td>\n",
       "      <td>0.2</td>\n",
       "      <td>0.73</td>\n",
       "    </tr>\n",
       "    <tr>\n",
       "      <th>Mexico</th>\n",
       "      <td>6</td>\n",
       "      <td>2</td>\n",
       "      <td>8</td>\n",
       "      <td>0.8</td>\n",
       "      <td>25.00</td>\n",
       "      <td>0.2</td>\n",
       "      <td>0.73</td>\n",
       "    </tr>\n",
       "    <tr>\n",
       "      <th>Netherlands</th>\n",
       "      <td>11</td>\n",
       "      <td>5</td>\n",
       "      <td>16</td>\n",
       "      <td>1.6</td>\n",
       "      <td>31.25</td>\n",
       "      <td>0.5</td>\n",
       "      <td>1.82</td>\n",
       "    </tr>\n",
       "    <tr>\n",
       "      <th>New Zealand</th>\n",
       "      <td>96</td>\n",
       "      <td>17</td>\n",
       "      <td>113</td>\n",
       "      <td>11.3</td>\n",
       "      <td>15.04</td>\n",
       "      <td>1.7</td>\n",
       "      <td>6.18</td>\n",
       "    </tr>\n",
       "    <tr>\n",
       "      <th>Nicaragua</th>\n",
       "      <td>3</td>\n",
       "      <td>1</td>\n",
       "      <td>4</td>\n",
       "      <td>0.4</td>\n",
       "      <td>25.00</td>\n",
       "      <td>0.1</td>\n",
       "      <td>0.36</td>\n",
       "    </tr>\n",
       "    <tr>\n",
       "      <th>Niger</th>\n",
       "      <td>1</td>\n",
       "      <td>0</td>\n",
       "      <td>1</td>\n",
       "      <td>0.1</td>\n",
       "      <td>0.00</td>\n",
       "      <td>0.0</td>\n",
       "      <td>0.00</td>\n",
       "    </tr>\n",
       "    <tr>\n",
       "      <th>Oman</th>\n",
       "      <td>1</td>\n",
       "      <td>0</td>\n",
       "      <td>1</td>\n",
       "      <td>0.1</td>\n",
       "      <td>0.00</td>\n",
       "      <td>0.0</td>\n",
       "      <td>0.00</td>\n",
       "    </tr>\n",
       "    <tr>\n",
       "      <th>Pakistan</th>\n",
       "      <td>3</td>\n",
       "      <td>1</td>\n",
       "      <td>4</td>\n",
       "      <td>0.4</td>\n",
       "      <td>25.00</td>\n",
       "      <td>0.1</td>\n",
       "      <td>0.36</td>\n",
       "    </tr>\n",
       "    <tr>\n",
       "      <th>Philippines</th>\n",
       "      <td>7</td>\n",
       "      <td>0</td>\n",
       "      <td>7</td>\n",
       "      <td>0.7</td>\n",
       "      <td>0.00</td>\n",
       "      <td>0.0</td>\n",
       "      <td>0.00</td>\n",
       "    </tr>\n",
       "    <tr>\n",
       "      <th>Romania</th>\n",
       "      <td>3</td>\n",
       "      <td>1</td>\n",
       "      <td>4</td>\n",
       "      <td>0.4</td>\n",
       "      <td>25.00</td>\n",
       "      <td>0.1</td>\n",
       "      <td>0.36</td>\n",
       "    </tr>\n",
       "    <tr>\n",
       "      <th>Russia</th>\n",
       "      <td>11</td>\n",
       "      <td>2</td>\n",
       "      <td>13</td>\n",
       "      <td>1.3</td>\n",
       "      <td>15.38</td>\n",
       "      <td>0.2</td>\n",
       "      <td>0.73</td>\n",
       "    </tr>\n",
       "    <tr>\n",
       "      <th>Saudi Arabia</th>\n",
       "      <td>4</td>\n",
       "      <td>1</td>\n",
       "      <td>5</td>\n",
       "      <td>0.5</td>\n",
       "      <td>20.00</td>\n",
       "      <td>0.1</td>\n",
       "      <td>0.36</td>\n",
       "    </tr>\n",
       "    <tr>\n",
       "      <th>Serbia</th>\n",
       "      <td>3</td>\n",
       "      <td>0</td>\n",
       "      <td>3</td>\n",
       "      <td>0.3</td>\n",
       "      <td>0.00</td>\n",
       "      <td>0.0</td>\n",
       "      <td>0.00</td>\n",
       "    </tr>\n",
       "    <tr>\n",
       "      <th>Sierra Leone</th>\n",
       "      <td>1</td>\n",
       "      <td>0</td>\n",
       "      <td>1</td>\n",
       "      <td>0.1</td>\n",
       "      <td>0.00</td>\n",
       "      <td>0.0</td>\n",
       "      <td>0.00</td>\n",
       "    </tr>\n",
       "    <tr>\n",
       "      <th>South Africa</th>\n",
       "      <td>5</td>\n",
       "      <td>1</td>\n",
       "      <td>6</td>\n",
       "      <td>0.6</td>\n",
       "      <td>16.67</td>\n",
       "      <td>0.1</td>\n",
       "      <td>0.36</td>\n",
       "    </tr>\n",
       "    <tr>\n",
       "      <th>Spain</th>\n",
       "      <td>4</td>\n",
       "      <td>3</td>\n",
       "      <td>7</td>\n",
       "      <td>0.7</td>\n",
       "      <td>42.86</td>\n",
       "      <td>0.3</td>\n",
       "      <td>1.09</td>\n",
       "    </tr>\n",
       "    <tr>\n",
       "      <th>Sri Lanka</th>\n",
       "      <td>15</td>\n",
       "      <td>3</td>\n",
       "      <td>18</td>\n",
       "      <td>1.8</td>\n",
       "      <td>16.67</td>\n",
       "      <td>0.3</td>\n",
       "      <td>1.09</td>\n",
       "    </tr>\n",
       "    <tr>\n",
       "      <th>Sweden</th>\n",
       "      <td>0</td>\n",
       "      <td>1</td>\n",
       "      <td>1</td>\n",
       "      <td>0.1</td>\n",
       "      <td>100.00</td>\n",
       "      <td>0.1</td>\n",
       "      <td>0.36</td>\n",
       "    </tr>\n",
       "    <tr>\n",
       "      <th>Tonga</th>\n",
       "      <td>1</td>\n",
       "      <td>0</td>\n",
       "      <td>1</td>\n",
       "      <td>0.1</td>\n",
       "      <td>0.00</td>\n",
       "      <td>0.0</td>\n",
       "      <td>0.00</td>\n",
       "    </tr>\n",
       "    <tr>\n",
       "      <th>Ukraine</th>\n",
       "      <td>3</td>\n",
       "      <td>1</td>\n",
       "      <td>4</td>\n",
       "      <td>0.4</td>\n",
       "      <td>25.00</td>\n",
       "      <td>0.1</td>\n",
       "      <td>0.36</td>\n",
       "    </tr>\n",
       "    <tr>\n",
       "      <th>United Arab Emirates</th>\n",
       "      <td>109</td>\n",
       "      <td>12</td>\n",
       "      <td>121</td>\n",
       "      <td>12.1</td>\n",
       "      <td>9.92</td>\n",
       "      <td>1.2</td>\n",
       "      <td>4.36</td>\n",
       "    </tr>\n",
       "    <tr>\n",
       "      <th>United Kingdom</th>\n",
       "      <td>40</td>\n",
       "      <td>32</td>\n",
       "      <td>72</td>\n",
       "      <td>7.2</td>\n",
       "      <td>44.44</td>\n",
       "      <td>3.2</td>\n",
       "      <td>11.64</td>\n",
       "    </tr>\n",
       "  </tbody>\n",
       "</table>\n",
       "</div>"
      ],
      "text/plain": [
       "Class/ASD               0   1  Total Patients in Groups  % Patients in Groups  \\\n",
       "country_of_res                                                                  \n",
       "Afghanistan            23   6                        29                   2.9   \n",
       "AmericanSamoa           3   1                         4                   0.4   \n",
       "Angola                  2   1                         3                   0.3   \n",
       "Argentina               3   0                         3                   0.3   \n",
       "Armenia                 3   4                         7                   0.7   \n",
       "Aruba                   2   1                         3                   0.3   \n",
       "Australia              30  21                        51                   5.1   \n",
       "Austria                12   4                        16                   1.6   \n",
       "Azerbaijan              2   1                         3                   0.3   \n",
       "Bahamas                 5   0                         5                   0.5   \n",
       "Bangladesh              1   0                         1                   0.1   \n",
       "Belgium                 3   1                         4                   0.4   \n",
       "Bolivia                 1   2                         3                   0.3   \n",
       "Brazil                  8   3                        11                   1.1   \n",
       "Burundi                 1   0                         1                   0.1   \n",
       "Canada                 14   6                        20                   2.0   \n",
       "China                   2   0                         2                   0.2   \n",
       "Costa Rica              4   0                         4                   0.4   \n",
       "Cyprus                  0   1                         1                   0.1   \n",
       "Czech Republic          3   0                         3                   0.3   \n",
       "Ecuador                 1   0                         1                   0.1   \n",
       "Egypt                   5   1                         6                   0.6   \n",
       "Ethiopia                4   1                         5                   0.5   \n",
       "Finland                 1   0                         1                   0.1   \n",
       "France                 11   4                        15                   1.5   \n",
       "Germany                 3   1                         4                   0.4   \n",
       "Hong Kong               0   1                         1                   0.1   \n",
       "Iceland                 3   1                         4                   0.4   \n",
       "India                  76  12                        88                   8.8   \n",
       "Indonesia               1   0                         1                   0.1   \n",
       "Iran                    6   1                         7                   0.7   \n",
       "Iraq                    1   1                         2                   0.2   \n",
       "Ireland                 3   1                         4                   0.4   \n",
       "Italy                   8   4                        12                   1.2   \n",
       "Japan                   1   1                         2                   0.2   \n",
       "Jordan                 47   8                        55                   5.5   \n",
       "Kazakhstan              8   1                         9                   0.9   \n",
       "Lebanon                 1   0                         1                   0.1   \n",
       "Malaysia                4   2                         6                   0.6   \n",
       "Mexico                  6   2                         8                   0.8   \n",
       "Netherlands            11   5                        16                   1.6   \n",
       "New Zealand            96  17                       113                  11.3   \n",
       "Nicaragua               3   1                         4                   0.4   \n",
       "Niger                   1   0                         1                   0.1   \n",
       "Oman                    1   0                         1                   0.1   \n",
       "Pakistan                3   1                         4                   0.4   \n",
       "Philippines             7   0                         7                   0.7   \n",
       "Romania                 3   1                         4                   0.4   \n",
       "Russia                 11   2                        13                   1.3   \n",
       "Saudi Arabia            4   1                         5                   0.5   \n",
       "Serbia                  3   0                         3                   0.3   \n",
       "Sierra Leone            1   0                         1                   0.1   \n",
       "South Africa            5   1                         6                   0.6   \n",
       "Spain                   4   3                         7                   0.7   \n",
       "Sri Lanka              15   3                        18                   1.8   \n",
       "Sweden                  0   1                         1                   0.1   \n",
       "Tonga                   1   0                         1                   0.1   \n",
       "Ukraine                 3   1                         4                   0.4   \n",
       "United Arab Emirates  109  12                       121                  12.1   \n",
       "United Kingdom         40  32                        72                   7.2   \n",
       "\n",
       "Class/ASD             % Positive Diagnoses in Groups  \\\n",
       "country_of_res                                         \n",
       "Afghanistan                                    20.69   \n",
       "AmericanSamoa                                  25.00   \n",
       "Angola                                         33.33   \n",
       "Argentina                                       0.00   \n",
       "Armenia                                        57.14   \n",
       "Aruba                                          33.33   \n",
       "Australia                                      41.18   \n",
       "Austria                                        25.00   \n",
       "Azerbaijan                                     33.33   \n",
       "Bahamas                                         0.00   \n",
       "Bangladesh                                      0.00   \n",
       "Belgium                                        25.00   \n",
       "Bolivia                                        66.67   \n",
       "Brazil                                         27.27   \n",
       "Burundi                                         0.00   \n",
       "Canada                                         30.00   \n",
       "China                                           0.00   \n",
       "Costa Rica                                      0.00   \n",
       "Cyprus                                        100.00   \n",
       "Czech Republic                                  0.00   \n",
       "Ecuador                                         0.00   \n",
       "Egypt                                          16.67   \n",
       "Ethiopia                                       20.00   \n",
       "Finland                                         0.00   \n",
       "France                                         26.67   \n",
       "Germany                                        25.00   \n",
       "Hong Kong                                     100.00   \n",
       "Iceland                                        25.00   \n",
       "India                                          13.64   \n",
       "Indonesia                                       0.00   \n",
       "Iran                                           14.29   \n",
       "Iraq                                           50.00   \n",
       "Ireland                                        25.00   \n",
       "Italy                                          33.33   \n",
       "Japan                                          50.00   \n",
       "Jordan                                         14.55   \n",
       "Kazakhstan                                     11.11   \n",
       "Lebanon                                         0.00   \n",
       "Malaysia                                       33.33   \n",
       "Mexico                                         25.00   \n",
       "Netherlands                                    31.25   \n",
       "New Zealand                                    15.04   \n",
       "Nicaragua                                      25.00   \n",
       "Niger                                           0.00   \n",
       "Oman                                            0.00   \n",
       "Pakistan                                       25.00   \n",
       "Philippines                                     0.00   \n",
       "Romania                                        25.00   \n",
       "Russia                                         15.38   \n",
       "Saudi Arabia                                   20.00   \n",
       "Serbia                                          0.00   \n",
       "Sierra Leone                                    0.00   \n",
       "South Africa                                   16.67   \n",
       "Spain                                          42.86   \n",
       "Sri Lanka                                      16.67   \n",
       "Sweden                                        100.00   \n",
       "Tonga                                           0.00   \n",
       "Ukraine                                        25.00   \n",
       "United Arab Emirates                            9.92   \n",
       "United Kingdom                                 44.44   \n",
       "\n",
       "Class/ASD             % Positive Patients in Group Relative to Total  \\\n",
       "country_of_res                                                         \n",
       "Afghanistan                                                      0.6   \n",
       "AmericanSamoa                                                    0.1   \n",
       "Angola                                                           0.1   \n",
       "Argentina                                                        0.0   \n",
       "Armenia                                                          0.4   \n",
       "Aruba                                                            0.1   \n",
       "Australia                                                        2.1   \n",
       "Austria                                                          0.4   \n",
       "Azerbaijan                                                       0.1   \n",
       "Bahamas                                                          0.0   \n",
       "Bangladesh                                                       0.0   \n",
       "Belgium                                                          0.1   \n",
       "Bolivia                                                          0.2   \n",
       "Brazil                                                           0.3   \n",
       "Burundi                                                          0.0   \n",
       "Canada                                                           0.6   \n",
       "China                                                            0.0   \n",
       "Costa Rica                                                       0.0   \n",
       "Cyprus                                                           0.1   \n",
       "Czech Republic                                                   0.0   \n",
       "Ecuador                                                          0.0   \n",
       "Egypt                                                            0.1   \n",
       "Ethiopia                                                         0.1   \n",
       "Finland                                                          0.0   \n",
       "France                                                           0.4   \n",
       "Germany                                                          0.1   \n",
       "Hong Kong                                                        0.1   \n",
       "Iceland                                                          0.1   \n",
       "India                                                            1.2   \n",
       "Indonesia                                                        0.0   \n",
       "Iran                                                             0.1   \n",
       "Iraq                                                             0.1   \n",
       "Ireland                                                          0.1   \n",
       "Italy                                                            0.4   \n",
       "Japan                                                            0.1   \n",
       "Jordan                                                           0.8   \n",
       "Kazakhstan                                                       0.1   \n",
       "Lebanon                                                          0.0   \n",
       "Malaysia                                                         0.2   \n",
       "Mexico                                                           0.2   \n",
       "Netherlands                                                      0.5   \n",
       "New Zealand                                                      1.7   \n",
       "Nicaragua                                                        0.1   \n",
       "Niger                                                            0.0   \n",
       "Oman                                                             0.0   \n",
       "Pakistan                                                         0.1   \n",
       "Philippines                                                      0.0   \n",
       "Romania                                                          0.1   \n",
       "Russia                                                           0.2   \n",
       "Saudi Arabia                                                     0.1   \n",
       "Serbia                                                           0.0   \n",
       "Sierra Leone                                                     0.0   \n",
       "South Africa                                                     0.1   \n",
       "Spain                                                            0.3   \n",
       "Sri Lanka                                                        0.3   \n",
       "Sweden                                                           0.1   \n",
       "Tonga                                                            0.0   \n",
       "Ukraine                                                          0.1   \n",
       "United Arab Emirates                                             1.2   \n",
       "United Kingdom                                                   3.2   \n",
       "\n",
       "Class/ASD             % Positive Patients in Group Relative to Positive  \n",
       "country_of_res                                                           \n",
       "Afghanistan                                                        2.18  \n",
       "AmericanSamoa                                                      0.36  \n",
       "Angola                                                             0.36  \n",
       "Argentina                                                          0.00  \n",
       "Armenia                                                            1.45  \n",
       "Aruba                                                              0.36  \n",
       "Australia                                                          7.64  \n",
       "Austria                                                            1.45  \n",
       "Azerbaijan                                                         0.36  \n",
       "Bahamas                                                            0.00  \n",
       "Bangladesh                                                         0.00  \n",
       "Belgium                                                            0.36  \n",
       "Bolivia                                                            0.73  \n",
       "Brazil                                                             1.09  \n",
       "Burundi                                                            0.00  \n",
       "Canada                                                             2.18  \n",
       "China                                                              0.00  \n",
       "Costa Rica                                                         0.00  \n",
       "Cyprus                                                             0.36  \n",
       "Czech Republic                                                     0.00  \n",
       "Ecuador                                                            0.00  \n",
       "Egypt                                                              0.36  \n",
       "Ethiopia                                                           0.36  \n",
       "Finland                                                            0.00  \n",
       "France                                                             1.45  \n",
       "Germany                                                            0.36  \n",
       "Hong Kong                                                          0.36  \n",
       "Iceland                                                            0.36  \n",
       "India                                                              4.36  \n",
       "Indonesia                                                          0.00  \n",
       "Iran                                                               0.36  \n",
       "Iraq                                                               0.36  \n",
       "Ireland                                                            0.36  \n",
       "Italy                                                              1.45  \n",
       "Japan                                                              0.36  \n",
       "Jordan                                                             2.91  \n",
       "Kazakhstan                                                         0.36  \n",
       "Lebanon                                                            0.00  \n",
       "Malaysia                                                           0.73  \n",
       "Mexico                                                             0.73  \n",
       "Netherlands                                                        1.82  \n",
       "New Zealand                                                        6.18  \n",
       "Nicaragua                                                          0.36  \n",
       "Niger                                                              0.00  \n",
       "Oman                                                               0.00  \n",
       "Pakistan                                                           0.36  \n",
       "Philippines                                                        0.00  \n",
       "Romania                                                            0.36  \n",
       "Russia                                                             0.73  \n",
       "Saudi Arabia                                                       0.36  \n",
       "Serbia                                                             0.00  \n",
       "Sierra Leone                                                       0.00  \n",
       "South Africa                                                       0.36  \n",
       "Spain                                                              1.09  \n",
       "Sri Lanka                                                          1.09  \n",
       "Sweden                                                             0.36  \n",
       "Tonga                                                              0.00  \n",
       "Ukraine                                                            0.36  \n",
       "United Arab Emirates                                               4.36  \n",
       "United Kingdom                                                    11.64  "
      ]
     },
     "execution_count": 57,
     "metadata": {},
     "output_type": "execute_result"
    }
   ],
   "source": [
    "country_of_res_counts.head(60)"
   ]
  },
  {
   "cell_type": "code",
   "execution_count": 58,
   "metadata": {},
   "outputs": [
    {
     "data": {
      "text/html": [
       "<div>\n",
       "<style scoped>\n",
       "    .dataframe tbody tr th:only-of-type {\n",
       "        vertical-align: middle;\n",
       "    }\n",
       "\n",
       "    .dataframe tbody tr th {\n",
       "        vertical-align: top;\n",
       "    }\n",
       "\n",
       "    .dataframe thead th {\n",
       "        text-align: right;\n",
       "    }\n",
       "</style>\n",
       "<table border=\"1\" class=\"dataframe\">\n",
       "  <thead>\n",
       "    <tr style=\"text-align: right;\">\n",
       "      <th>Class/ASD</th>\n",
       "      <th>0</th>\n",
       "      <th>1</th>\n",
       "      <th>Total Patients in Groups</th>\n",
       "      <th>% Patients in Groups</th>\n",
       "      <th>% Positive Diagnoses in Groups</th>\n",
       "      <th>% Positive Patients in Group Relative to Total</th>\n",
       "      <th>% Positive Patients in Group Relative to Positive</th>\n",
       "    </tr>\n",
       "    <tr>\n",
       "      <th>country_of_res</th>\n",
       "      <th></th>\n",
       "      <th></th>\n",
       "      <th></th>\n",
       "      <th></th>\n",
       "      <th></th>\n",
       "      <th></th>\n",
       "      <th></th>\n",
       "    </tr>\n",
       "  </thead>\n",
       "  <tbody>\n",
       "    <tr>\n",
       "      <th>United States</th>\n",
       "      <td>85</td>\n",
       "      <td>97</td>\n",
       "      <td>182</td>\n",
       "      <td>18.2</td>\n",
       "      <td>53.30</td>\n",
       "      <td>9.7</td>\n",
       "      <td>35.27</td>\n",
       "    </tr>\n",
       "    <tr>\n",
       "      <th>Uruguay</th>\n",
       "      <td>1</td>\n",
       "      <td>0</td>\n",
       "      <td>1</td>\n",
       "      <td>0.1</td>\n",
       "      <td>0.00</td>\n",
       "      <td>0.0</td>\n",
       "      <td>0.00</td>\n",
       "    </tr>\n",
       "    <tr>\n",
       "      <th>Viet Nam</th>\n",
       "      <td>6</td>\n",
       "      <td>3</td>\n",
       "      <td>9</td>\n",
       "      <td>0.9</td>\n",
       "      <td>33.33</td>\n",
       "      <td>0.3</td>\n",
       "      <td>1.09</td>\n",
       "    </tr>\n",
       "  </tbody>\n",
       "</table>\n",
       "</div>"
      ],
      "text/plain": [
       "Class/ASD        0   1  Total Patients in Groups  % Patients in Groups  \\\n",
       "country_of_res                                                           \n",
       "United States   85  97                       182                  18.2   \n",
       "Uruguay          1   0                         1                   0.1   \n",
       "Viet Nam         6   3                         9                   0.9   \n",
       "\n",
       "Class/ASD       % Positive Diagnoses in Groups  \\\n",
       "country_of_res                                   \n",
       "United States                            53.30   \n",
       "Uruguay                                   0.00   \n",
       "Viet Nam                                 33.33   \n",
       "\n",
       "Class/ASD       % Positive Patients in Group Relative to Total  \\\n",
       "country_of_res                                                   \n",
       "United States                                              9.7   \n",
       "Uruguay                                                    0.0   \n",
       "Viet Nam                                                   0.3   \n",
       "\n",
       "Class/ASD       % Positive Patients in Group Relative to Positive  \n",
       "country_of_res                                                     \n",
       "United States                                               35.27  \n",
       "Uruguay                                                      0.00  \n",
       "Viet Nam                                                     1.09  "
      ]
     },
     "execution_count": 58,
     "metadata": {},
     "output_type": "execute_result"
    }
   ],
   "source": [
    "country_of_res_counts.tail(3)"
   ]
  },
  {
   "cell_type": "code",
   "execution_count": 59,
   "metadata": {},
   "outputs": [
    {
     "data": {
      "text/plain": [
       "35.27"
      ]
     },
     "execution_count": 59,
     "metadata": {},
     "output_type": "execute_result"
    }
   ],
   "source": [
    "max_value = country_of_res_counts.iloc[:, -1].max()\n",
    "max_value"
   ]
  },
  {
   "cell_type": "code",
   "execution_count": 60,
   "metadata": {},
   "outputs": [],
   "source": [
    "country_with_max_value = country_of_res_counts[country_of_res_counts.iloc[:, -1] == max_value].index[0]"
   ]
  },
  {
   "cell_type": "code",
   "execution_count": 61,
   "metadata": {},
   "outputs": [
    {
     "name": "stdout",
     "output_type": "stream",
     "text": [
      "Country with the highest percentage of positively diagnosed patients among all positive patients: United States with a value of 35.27\n"
     ]
    }
   ],
   "source": [
    "print('Country with the highest percentage of positively diagnosed patients among all positive patients: ' + country_with_max_value + ' with a value of ' + str(max_value))"
   ]
  },
  {
   "cell_type": "markdown",
   "metadata": {},
   "source": [
    "##### Whether the patient has undergone a screening test before"
   ]
  },
  {
   "cell_type": "code",
   "execution_count": 62,
   "metadata": {},
   "outputs": [
    {
     "data": {
      "image/png": "[encoded data removed]",
      "text/plain": [
       "<Figure size 1080x432 with 1 Axes>"
      ]
     },
     "metadata": {
      "needs_background": "light"
     },
     "output_type": "display_data"
    }
   ],
   "source": [
    "used_app_counts = df.groupby(['used_app_before', 'Class/ASD']).size().unstack(fill_value=0)\n",
    "\n",
    "used_app_counts.plot(kind='bar', figsize=(15, 6))\n",
    "plt.title('ASD Results Chart')\n",
    "plt.xlabel('Has the patient undergone testing before')\n",
    "plt.ylabel('Number of Patients')\n",
    "plt.legend(['Negative Result', 'Positive Result'], title='Test Result')\n",
    "plt.xticks(rotation=0)\n",
    "plt.show()"
   ]
  },
  {
   "cell_type": "markdown",
   "metadata": {},
   "source": [
    "Calculate the total number of patients in groups"
   ]
  },
  {
   "cell_type": "code",
   "execution_count": 63,
   "metadata": {},
   "outputs": [],
   "source": [
    "used_app_counts['Total Patients in Groups'] = used_app_counts[0] + used_app_counts[1]"
   ]
  },
  {
   "cell_type": "markdown",
   "metadata": {},
   "source": [
    "Calculate the percentage of positive diagnoses in groups"
   ]
  },
  {
   "cell_type": "code",
   "execution_count": 64,
   "metadata": {},
   "outputs": [],
   "source": [
    "used_app_counts['% Positive Diagnoses in Groups'] = (used_app_counts[1] / used_app_counts['Total Patients in Groups'] * 100).round(2)"
   ]
  },
  {
   "cell_type": "markdown",
   "metadata": {},
   "source": [
    "Calculate the percentage of positive patients in each group relative to the total number of patients"
   ]
  },
  {
   "cell_type": "code",
   "execution_count": 65,
   "metadata": {},
   "outputs": [],
   "source": [
    "used_app_counts['% Positive Patients in Group Relative to Total'] = (used_app_counts[1] / 1000 * 100).round(2)"
   ]
  },
  {
   "cell_type": "markdown",
   "metadata": {},
   "source": [
    "Calculate the percentage of positive patients in each group relative to all positive patients"
   ]
  },
  {
   "cell_type": "code",
   "execution_count": 66,
   "metadata": {},
   "outputs": [],
   "source": [
    "used_app_counts['% Positive Patients in Group Relative to Positive'] = (used_app_counts[1] / ASD_pos * 100).round(2)"
   ]
  },
  {
   "cell_type": "code",
   "execution_count": 67,
   "metadata": {},
   "outputs": [
    {
     "data": {
      "text/html": [
       "<div>\n",
       "<style scoped>\n",
       "    .dataframe tbody tr th:only-of-type {\n",
       "        vertical-align: middle;\n",
       "    }\n",
       "\n",
       "    .dataframe tbody tr th {\n",
       "        vertical-align: top;\n",
       "    }\n",
       "\n",
       "    .dataframe thead th {\n",
       "        text-align: right;\n",
       "    }\n",
       "</style>\n",
       "<table border=\"1\" class=\"dataframe\">\n",
       "  <thead>\n",
       "    <tr style=\"text-align: right;\">\n",
       "      <th>Class/ASD</th>\n",
       "      <th>0</th>\n",
       "      <th>1</th>\n",
       "      <th>Total Patients in Groups</th>\n",
       "      <th>% Positive Diagnoses in Groups</th>\n",
       "      <th>% Positive Patients in Group Relative to Total</th>\n",
       "      <th>% Positive Patients in Group Relative to Positive</th>\n",
       "    </tr>\n",
       "    <tr>\n",
       "      <th>used_app_before</th>\n",
       "      <th></th>\n",
       "      <th></th>\n",
       "      <th></th>\n",
       "      <th></th>\n",
       "      <th></th>\n",
       "      <th></th>\n",
       "    </tr>\n",
       "  </thead>\n",
       "  <tbody>\n",
       "    <tr>\n",
       "      <th>no</th>\n",
       "      <td>691</td>\n",
       "      <td>262</td>\n",
       "      <td>953</td>\n",
       "      <td>27.49</td>\n",
       "      <td>26.2</td>\n",
       "      <td>95.27</td>\n",
       "    </tr>\n",
       "    <tr>\n",
       "      <th>yes</th>\n",
       "      <td>34</td>\n",
       "      <td>13</td>\n",
       "      <td>47</td>\n",
       "      <td>27.66</td>\n",
       "      <td>1.3</td>\n",
       "      <td>4.73</td>\n",
       "    </tr>\n",
       "  </tbody>\n",
       "</table>\n",
       "</div>"
      ],
      "text/plain": [
       "Class/ASD          0    1  Total Patients in Groups  \\\n",
       "used_app_before                                       \n",
       "no               691  262                       953   \n",
       "yes               34   13                        47   \n",
       "\n",
       "Class/ASD        % Positive Diagnoses in Groups  \\\n",
       "used_app_before                                   \n",
       "no                                        27.49   \n",
       "yes                                       27.66   \n",
       "\n",
       "Class/ASD        % Positive Patients in Group Relative to Total  \\\n",
       "used_app_before                                                   \n",
       "no                                                         26.2   \n",
       "yes                                                         1.3   \n",
       "\n",
       "Class/ASD        % Positive Patients in Group Relative to Positive  \n",
       "used_app_before                                                     \n",
       "no                                                           95.27  \n",
       "yes                                                           4.73  "
      ]
     },
     "execution_count": 67,
     "metadata": {},
     "output_type": "execute_result"
    }
   ],
   "source": [
    "used_app_counts"
   ]
  },
  {
   "cell_type": "markdown",
   "metadata": {},
   "source": [
    "Comparing the total number of patients who have not undergone testing before and those who have, it can be seen that almost all positively diagnosed patients are in the group of those who have not undergone testing, constituting 95.27% of the total number of positive patients.\n",
    "\n",
    "Among patients who have not undergone testing before, the percentage of positive diagnoses is 27.49%. For those who have undergone testing before, this percentage is approximately the same and is 27.66%.\n",
    "\n",
    "The proportion of positively diagnosed patients relative to the total number of patients in each group significantly differs. For patients who underwent testing, this proportion is 1.3%, while for those who did not undergo testing, it is higher at 26.2%."
   ]
  },
  {
   "cell_type": "markdown",
   "metadata": {},
   "source": [
    "##### Relation"
   ]
  },
  {
   "cell_type": "code",
   "execution_count": 68,
   "metadata": {},
   "outputs": [
    {
     "data": {
      "image/png": "[encoded data removed]",
      "text/plain": [
       "<Figure size 1080x432 with 1 Axes>"
      ]
     },
     "metadata": {
      "needs_background": "light"
     },
     "output_type": "display_data"
    }
   ],
   "source": [
    "relation_counts = df.groupby(['relation', 'Class/ASD']).size().unstack(fill_value=0)\n",
    "\n",
    "relation_counts.plot(kind='bar', figsize=(15, 6))\n",
    "plt.title('ASD Results Chart')\n",
    "plt.xlabel('Who filled out the test')\n",
    "plt.ylabel('Number of Patients')\n",
    "plt.legend(['Negative Result', 'Positive Result'], title='Test Result')\n",
    "plt.xticks(rotation=0)\n",
    "plt.show()"
   ]
  },
  {
   "cell_type": "markdown",
   "metadata": {},
   "source": [
    "Calculate the total number of patients in groups"
   ]
  },
  {
   "cell_type": "code",
   "execution_count": 69,
   "metadata": {},
   "outputs": [],
   "source": [
    "relation_counts['Total Patients in Groups'] = relation_counts[0] + relation_counts[1]"
   ]
  },
  {
   "cell_type": "markdown",
   "metadata": {},
   "source": [
    "Calculate the percentage of patients in groups"
   ]
  },
  {
   "cell_type": "code",
   "execution_count": 70,
   "metadata": {},
   "outputs": [],
   "source": [
    "relation_counts['% Patients in Groups'] = relation_counts['Total Patients in Groups'] / 1000 * 100"
   ]
  },
  {
   "cell_type": "markdown",
   "metadata": {},
   "source": [
    "Calculate the percentage of positive diagnoses in groups"
   ]
  },
  {
   "cell_type": "code",
   "execution_count": 71,
   "metadata": {},
   "outputs": [],
   "source": [
    "relation_counts['% Positive Diagnoses in Groups'] = (relation_counts[1] / relation_counts['Total Patients in Groups'] * 100).round(2)"
   ]
  },
  {
   "cell_type": "markdown",
   "metadata": {},
   "source": [
    "Calculate the percentage of positive patients in each group relative to the total number of patients"
   ]
  },
  {
   "cell_type": "code",
   "execution_count": 72,
   "metadata": {},
   "outputs": [],
   "source": [
    "relation_counts['% Positive Patients in Group Relative to Total'] = (relation_counts[1] / 1000 * 100).round(2)"
   ]
  },
  {
   "cell_type": "markdown",
   "metadata": {},
   "source": [
    "Calculate the percentage of positive patients in each group relative to all positive patients"
   ]
  },
  {
   "cell_type": "code",
   "execution_count": 73,
   "metadata": {},
   "outputs": [],
   "source": [
    "relation_counts['% Positive Patients in Group Relative to Positive'] = (relation_counts[1] / ASD_pos * 100).round(2)"
   ]
  },
  {
   "cell_type": "code",
   "execution_count": 74,
   "metadata": {},
   "outputs": [
    {
     "data": {
      "text/html": [
       "<div>\n",
       "<style scoped>\n",
       "    .dataframe tbody tr th:only-of-type {\n",
       "        vertical-align: middle;\n",
       "    }\n",
       "\n",
       "    .dataframe tbody tr th {\n",
       "        vertical-align: top;\n",
       "    }\n",
       "\n",
       "    .dataframe thead th {\n",
       "        text-align: right;\n",
       "    }\n",
       "</style>\n",
       "<table border=\"1\" class=\"dataframe\">\n",
       "  <thead>\n",
       "    <tr style=\"text-align: right;\">\n",
       "      <th>Class/ASD</th>\n",
       "      <th>0</th>\n",
       "      <th>1</th>\n",
       "      <th>Total Patients in Groups</th>\n",
       "      <th>% Patients in Groups</th>\n",
       "      <th>% Positive Diagnoses in Groups</th>\n",
       "      <th>% Positive Patients in Group Relative to Total</th>\n",
       "      <th>% Positive Patients in Group Relative to Positive</th>\n",
       "    </tr>\n",
       "    <tr>\n",
       "      <th>relation</th>\n",
       "      <th></th>\n",
       "      <th></th>\n",
       "      <th></th>\n",
       "      <th></th>\n",
       "      <th></th>\n",
       "      <th></th>\n",
       "      <th></th>\n",
       "    </tr>\n",
       "  </thead>\n",
       "  <tbody>\n",
       "    <tr>\n",
       "      <th>Health care professional</th>\n",
       "      <td>8</td>\n",
       "      <td>0</td>\n",
       "      <td>8</td>\n",
       "      <td>0.8</td>\n",
       "      <td>0.00</td>\n",
       "      <td>0.0</td>\n",
       "      <td>0.00</td>\n",
       "    </tr>\n",
       "    <tr>\n",
       "      <th>Others</th>\n",
       "      <td>7</td>\n",
       "      <td>1</td>\n",
       "      <td>8</td>\n",
       "      <td>0.8</td>\n",
       "      <td>12.50</td>\n",
       "      <td>0.1</td>\n",
       "      <td>0.36</td>\n",
       "    </tr>\n",
       "    <tr>\n",
       "      <th>Parent</th>\n",
       "      <td>38</td>\n",
       "      <td>19</td>\n",
       "      <td>57</td>\n",
       "      <td>5.7</td>\n",
       "      <td>33.33</td>\n",
       "      <td>1.9</td>\n",
       "      <td>6.91</td>\n",
       "    </tr>\n",
       "    <tr>\n",
       "      <th>Relative</th>\n",
       "      <td>44</td>\n",
       "      <td>9</td>\n",
       "      <td>53</td>\n",
       "      <td>5.3</td>\n",
       "      <td>16.98</td>\n",
       "      <td>0.9</td>\n",
       "      <td>3.27</td>\n",
       "    </tr>\n",
       "    <tr>\n",
       "      <th>Self</th>\n",
       "      <td>543</td>\n",
       "      <td>240</td>\n",
       "      <td>783</td>\n",
       "      <td>78.3</td>\n",
       "      <td>30.65</td>\n",
       "      <td>24.0</td>\n",
       "      <td>87.27</td>\n",
       "    </tr>\n",
       "    <tr>\n",
       "      <th>Unknown</th>\n",
       "      <td>85</td>\n",
       "      <td>6</td>\n",
       "      <td>91</td>\n",
       "      <td>9.1</td>\n",
       "      <td>6.59</td>\n",
       "      <td>0.6</td>\n",
       "      <td>2.18</td>\n",
       "    </tr>\n",
       "  </tbody>\n",
       "</table>\n",
       "</div>"
      ],
      "text/plain": [
       "Class/ASD                   0    1  Total Patients in Groups  \\\n",
       "relation                                                       \n",
       "Health care professional    8    0                         8   \n",
       "Others                      7    1                         8   \n",
       "Parent                     38   19                        57   \n",
       "Relative                   44    9                        53   \n",
       "Self                      543  240                       783   \n",
       "Unknown                    85    6                        91   \n",
       "\n",
       "Class/ASD                 % Patients in Groups  \\\n",
       "relation                                         \n",
       "Health care professional                   0.8   \n",
       "Others                                     0.8   \n",
       "Parent                                     5.7   \n",
       "Relative                                   5.3   \n",
       "Self                                      78.3   \n",
       "Unknown                                    9.1   \n",
       "\n",
       "Class/ASD                 % Positive Diagnoses in Groups  \\\n",
       "relation                                                   \n",
       "Health care professional                            0.00   \n",
       "Others                                             12.50   \n",
       "Parent                                             33.33   \n",
       "Relative                                           16.98   \n",
       "Self                                               30.65   \n",
       "Unknown                                             6.59   \n",
       "\n",
       "Class/ASD                 % Positive Patients in Group Relative to Total  \\\n",
       "relation                                                                   \n",
       "Health care professional                                             0.0   \n",
       "Others                                                               0.1   \n",
       "Parent                                                               1.9   \n",
       "Relative                                                             0.9   \n",
       "Self                                                                24.0   \n",
       "Unknown                                                              0.6   \n",
       "\n",
       "Class/ASD                 % Positive Patients in Group Relative to Positive  \n",
       "relation                                                                     \n",
       "Health care professional                                               0.00  \n",
       "Others                                                                 0.36  \n",
       "Parent                                                                 6.91  \n",
       "Relative                                                               3.27  \n",
       "Self                                                                  87.27  \n",
       "Unknown                                                                2.18  "
      ]
     },
     "execution_count": 74,
     "metadata": {},
     "output_type": "execute_result"
    }
   ],
   "source": [
    "relation_counts"
   ]
  },
  {
   "cell_type": "markdown",
   "metadata": {},
   "source": [
    "The group of patients who filled out the test themselves (\"Self\") constitutes a significant majority among all relationship groups (78.3% of the total number of patients). This group also has the highest percentage of positive diagnoses among the total number of patients (24.0%) and ranks second in the percentage of positive patients in the group (30.65%).\n",
    "\n",
    "The \"Parent\" and \"Relative\" groups also have a significant number of patients (5.7% and 5.3%, respectively) and a high percentage of positive diagnoses within the group (33.33% and 16.98%, respectively). These groups represent the second and third highest percentage of positive diagnoses relative to positive patients.\n",
    "\n",
    "The \"Health care professional\" group has the lowest percentage of positive diagnoses (0%) and the smallest percentage of patients (0.8%). This may be related to healthcare professionals having more experience and knowledge, allowing them to more accurately identify negative ASD diagnoses.\n",
    "\n",
    "The \"Unknown\" group includes patients whose relationship to the person filling out the test is unknown. This group has a relatively low percentage of positive diagnoses (6.59% positive results in the group and 2.18% relative to the total number of positive patients), and they constitute 9.1% of the total number of patients."
   ]
  },
  {
   "cell_type": "markdown",
   "metadata": {},
   "source": [
    "##### AQ1-10"
   ]
  },
  {
   "cell_type": "code",
   "execution_count": 75,
   "metadata": {},
   "outputs": [
    {
     "data": {
      "image/png": "[encoded data removed]",
      "text/plain": [
       "<Figure size 720x432 with 1 Axes>"
      ]
     },
     "metadata": {
      "needs_background": "light"
     },
     "output_type": "display_data"
    }
   ],
   "source": [
    "A1_Score_counts = df.groupby(['A1_Score', 'Class/ASD']).size().unstack(fill_value=0)\n",
    "\n",
    "A1_Score_counts.plot(kind='bar', figsize=(10, 6))\n",
    "plt.title('ASD Results Chart')\n",
    "plt.xlabel('Answers')\n",
    "plt.ylabel('Number of Patients')\n",
    "plt.legend(['Negative Result', 'Positive Result'], title='Test Result')\n",
    "plt.xticks(rotation=0)\n",
    "plt.show()"
   ]
  },
  {
   "cell_type": "code",
   "execution_count": 76,
   "metadata": {},
   "outputs": [
    {
     "data": {
      "image/png": "[encoded data removed]",
      "text/plain": [
       "<Figure size 720x432 with 1 Axes>"
      ]
     },
     "metadata": {
      "needs_background": "light"
     },
     "output_type": "display_data"
    }
   ],
   "source": [
    "A2_Score_counts = df.groupby(['A2_Score', 'Class/ASD']).size().unstack(fill_value=0)\n",
    "\n",
    "A2_Score_counts.plot(kind='bar', figsize=(10, 6))\n",
    "plt.title('ASD Results Chart')\n",
    "plt.xlabel('Answers')\n",
    "plt.ylabel('Number of Patients')\n",
    "plt.legend(['Negative Result', 'Positive Result'], title='Test Result')\n",
    "plt.xticks(rotation=0)\n",
    "plt.show()"
   ]
  },
  {
   "cell_type": "code",
   "execution_count": 77,
   "metadata": {},
   "outputs": [
    {
     "data": {
      "image/png": "[encoded data removed]",
      "text/plain": [
       "<Figure size 720x432 with 1 Axes>"
      ]
     },
     "metadata": {
      "needs_background": "light"
     },
     "output_type": "display_data"
    }
   ],
   "source": [
    "A3_Score_counts = df.groupby(['A3_Score', 'Class/ASD']).size().unstack(fill_value=0)\n",
    "\n",
    "A3_Score_counts.plot(kind='bar', figsize=(10, 6))\n",
    "plt.title('ASD Results Chart')\n",
    "plt.xlabel('Answers')\n",
    "plt.ylabel('Number of Patients')\n",
    "plt.legend(['Negative Result', 'Positive Result'], title='Test Result')\n",
    "plt.xticks(rotation=0)\n",
    "plt.show()"
   ]
  },
  {
   "cell_type": "code",
   "execution_count": 78,
   "metadata": {},
   "outputs": [
    {
     "data": {
      "image/png": "[encoded data removed]",
      "text/plain": [
       "<Figure size 720x432 with 1 Axes>"
      ]
     },
     "metadata": {
      "needs_background": "light"
     },
     "output_type": "display_data"
    }
   ],
   "source": [
    "A4_Score_counts = df.groupby(['A4_Score', 'Class/ASD']).size().unstack(fill_value=0)\n",
    "\n",
    "A4_Score_counts.plot(kind='bar', figsize=(10, 6))\n",
    "plt.title('ASD Results Chart')\n",
    "plt.xlabel('Answers')\n",
    "plt.ylabel('Number of Patients')\n",
    "plt.legend(['Negative Result', 'Positive Result'], title='Test Result')\n",
    "plt.xticks(rotation=0)\n",
    "plt.show()"
   ]
  },
  {
   "cell_type": "code",
   "execution_count": 79,
   "metadata": {},
   "outputs": [
    {
     "data": {
      "image/png": "[encoded data removed]",
      "text/plain": [
       "<Figure size 720x432 with 1 Axes>"
      ]
     },
     "metadata": {
      "needs_background": "light"
     },
     "output_type": "display_data"
    }
   ],
   "source": [
    "A5_Score_counts = df.groupby(['A5_Score', 'Class/ASD']).size().unstack(fill_value=0)\n",
    "\n",
    "A5_Score_counts.plot(kind='bar', figsize=(10, 6))\n",
    "plt.title('ASD Results Chart')\n",
    "plt.xlabel('Answers')\n",
    "plt.ylabel('Number of Patients')\n",
    "plt.legend(['Negative Result', 'Positive Result'], title='Test Result')\n",
    "plt.xticks(rotation=0)\n",
    "plt.show()"
   ]
  },
  {
   "cell_type": "code",
   "execution_count": 80,
   "metadata": {},
   "outputs": [
    {
     "data": {
      "image/png": "[encoded data removed]",
      "text/plain": [
       "<Figure size 720x432 with 1 Axes>"
      ]
     },
     "metadata": {
      "needs_background": "light"
     },
     "output_type": "display_data"
    }
   ],
   "source": [
    "A6_Score_counts = df.groupby(['A6_Score', 'Class/ASD']).size().unstack(fill_value=0)\n",
    "\n",
    "A6_Score_counts.plot(kind='bar', figsize=(10, 6))\n",
    "plt.title('ASD Results Chart')\n",
    "plt.xlabel('Answers')\n",
    "plt.ylabel('Number of Patients')\n",
    "plt.legend(['Negative Result', 'Positive Result'], title='Test Result')\n",
    "plt.xticks(rotation=0)\n",
    "plt.show()"
   ]
  },
  {
   "cell_type": "code",
   "execution_count": 81,
   "metadata": {},
   "outputs": [
    {
     "data": {
      "image/png": "[encoded data removed]",
      "text/plain": [
       "<Figure size 720x432 with 1 Axes>"
      ]
     },
     "metadata": {
      "needs_background": "light"
     },
     "output_type": "display_data"
    }
   ],
   "source": [
    "A7_Score_counts = df.groupby(['A7_Score', 'Class/ASD']).size().unstack(fill_value=0)\n",
    "\n",
    "A7_Score_counts.plot(kind='bar', figsize=(10, 6))\n",
    "plt.title('ASD Results Chart')\n",
    "plt.xlabel('Answers')\n",
    "plt.ylabel('Number of Patients')\n",
    "plt.legend(['Negative Result', 'Positive Result'], title='Test Result')\n",
    "plt.xticks(rotation=0)\n",
    "plt.show()"
   ]
  },
  {
   "cell_type": "code",
   "execution_count": 82,
   "metadata": {},
   "outputs": [
    {
     "data": {
      "image/png": "[encoded data removed]",
      "text/plain": [
       "<Figure size 720x432 with 1 Axes>"
      ]
     },
     "metadata": {
      "needs_background": "light"
     },
     "output_type": "display_data"
    }
   ],
   "source": [
    "A8_Score_counts = df.groupby(['A8_Score', 'Class/ASD']).size().unstack(fill_value=0)\n",
    "\n",
    "A8_Score_counts.plot(kind='bar', figsize=(10, 6))\n",
    "plt.title('ASD Results Chart')\n",
    "plt.xlabel('Answers')\n",
    "plt.ylabel('Number of Patients')\n",
    "plt.legend(['Negative Result', 'Positive Result'], title='Test Result')\n",
    "plt.xticks(rotation=0)\n",
    "plt.show()"
   ]
  },
  {
   "cell_type": "code",
   "execution_count": 83,
   "metadata": {},
   "outputs": [
    {
     "data": {
      "image/png": "[encoded data removed]",
      "text/plain": [
       "<Figure size 720x432 with 1 Axes>"
      ]
     },
     "metadata": {
      "needs_background": "light"
     },
     "output_type": "display_data"
    }
   ],
   "source": [
    "A9_Score_counts = df.groupby(['A9_Score', 'Class/ASD']).size().unstack(fill_value=0)\n",
    "\n",
    "A9_Score_counts.plot(kind='bar', figsize=(10, 6))\n",
    "plt.title('ASD Results Chart')\n",
    "plt.xlabel('Answers')\n",
    "plt.ylabel('Number of Patients')\n",
    "plt.legend(['Negative Result', 'Positive Result'], title='Test Result')\n",
    "plt.xticks(rotation=0)\n",
    "plt.show()"
   ]
  },
  {
   "cell_type": "code",
   "execution_count": 84,
   "metadata": {},
   "outputs": [
    {
     "data": {
      "image/png": "[encoded data removed]",
      "text/plain": [
       "<Figure size 720x432 with 1 Axes>"
      ]
     },
     "metadata": {
      "needs_background": "light"
     },
     "output_type": "display_data"
    }
   ],
   "source": [
    "A10_Score_counts = df.groupby(['A10_Score', 'Class/ASD']).size().unstack(fill_value=0)\n",
    "\n",
    "A10_Score_counts.plot(kind='bar', figsize=(10, 6))\n",
    "plt.title('ASD Results Chart')\n",
    "plt.xlabel('Answers')\n",
    "plt.ylabel('Number of Patients')\n",
    "plt.legend(['Negative Result', 'Positive Result'], title='Test Result')\n",
    "plt.xticks(rotation=0)\n",
    "plt.show()"
   ]
  },
  {
   "cell_type": "markdown",
   "metadata": {},
   "source": [
    "Replace 'yes' and 'no' values in the 'jaundice', 'autism', and 'used_app_before' fields with '1' and '0', respectively."
   ]
  },
  {
   "cell_type": "code",
   "execution_count": 85,
   "metadata": {},
   "outputs": [],
   "source": [
    "df['jaundice'] = df['jaundice'].replace({'yes': 1, 'no': 0})\n",
    "df['autism'] = df['autism'].replace({'yes': 1, 'no': 0})\n",
    "df['used_app_before'] = df['used_app_before'].replace({'yes': 1, 'no': 0})"
   ]
  },
  {
   "cell_type": "code",
   "execution_count": 86,
   "metadata": {},
   "outputs": [
    {
     "data": {
      "text/html": [
       "<div>\n",
       "<style scoped>\n",
       "    .dataframe tbody tr th:only-of-type {\n",
       "        vertical-align: middle;\n",
       "    }\n",
       "\n",
       "    .dataframe tbody tr th {\n",
       "        vertical-align: top;\n",
       "    }\n",
       "\n",
       "    .dataframe thead th {\n",
       "        text-align: right;\n",
       "    }\n",
       "</style>\n",
       "<table border=\"1\" class=\"dataframe\">\n",
       "  <thead>\n",
       "    <tr style=\"text-align: right;\">\n",
       "      <th></th>\n",
       "      <th>A1_Score</th>\n",
       "      <th>A2_Score</th>\n",
       "      <th>A3_Score</th>\n",
       "      <th>A4_Score</th>\n",
       "      <th>A5_Score</th>\n",
       "      <th>A6_Score</th>\n",
       "      <th>A7_Score</th>\n",
       "      <th>A8_Score</th>\n",
       "      <th>A9_Score</th>\n",
       "      <th>A10_Score</th>\n",
       "      <th>age</th>\n",
       "      <th>gender</th>\n",
       "      <th>ethnicity</th>\n",
       "      <th>jaundice</th>\n",
       "      <th>autism</th>\n",
       "      <th>country_of_res</th>\n",
       "      <th>used_app_before</th>\n",
       "      <th>result</th>\n",
       "      <th>relation</th>\n",
       "      <th>Class/ASD</th>\n",
       "    </tr>\n",
       "  </thead>\n",
       "  <tbody>\n",
       "    <tr>\n",
       "      <th>0</th>\n",
       "      <td>1</td>\n",
       "      <td>0</td>\n",
       "      <td>1</td>\n",
       "      <td>1</td>\n",
       "      <td>1</td>\n",
       "      <td>1</td>\n",
       "      <td>0</td>\n",
       "      <td>1</td>\n",
       "      <td>1</td>\n",
       "      <td>1</td>\n",
       "      <td>18</td>\n",
       "      <td>f</td>\n",
       "      <td>White-European</td>\n",
       "      <td>0</td>\n",
       "      <td>0</td>\n",
       "      <td>United States</td>\n",
       "      <td>0</td>\n",
       "      <td>7.819715</td>\n",
       "      <td>Self</td>\n",
       "      <td>0</td>\n",
       "    </tr>\n",
       "    <tr>\n",
       "      <th>1</th>\n",
       "      <td>0</td>\n",
       "      <td>0</td>\n",
       "      <td>0</td>\n",
       "      <td>0</td>\n",
       "      <td>0</td>\n",
       "      <td>0</td>\n",
       "      <td>0</td>\n",
       "      <td>0</td>\n",
       "      <td>0</td>\n",
       "      <td>1</td>\n",
       "      <td>13</td>\n",
       "      <td>f</td>\n",
       "      <td>South Asian</td>\n",
       "      <td>0</td>\n",
       "      <td>0</td>\n",
       "      <td>Australia</td>\n",
       "      <td>0</td>\n",
       "      <td>10.544296</td>\n",
       "      <td>Unknown</td>\n",
       "      <td>0</td>\n",
       "    </tr>\n",
       "    <tr>\n",
       "      <th>2</th>\n",
       "      <td>1</td>\n",
       "      <td>1</td>\n",
       "      <td>1</td>\n",
       "      <td>1</td>\n",
       "      <td>1</td>\n",
       "      <td>1</td>\n",
       "      <td>0</td>\n",
       "      <td>0</td>\n",
       "      <td>1</td>\n",
       "      <td>1</td>\n",
       "      <td>14</td>\n",
       "      <td>f</td>\n",
       "      <td>White-European</td>\n",
       "      <td>0</td>\n",
       "      <td>0</td>\n",
       "      <td>United Kingdom</td>\n",
       "      <td>0</td>\n",
       "      <td>13.167506</td>\n",
       "      <td>Self</td>\n",
       "      <td>1</td>\n",
       "    </tr>\n",
       "    <tr>\n",
       "      <th>3</th>\n",
       "      <td>0</td>\n",
       "      <td>0</td>\n",
       "      <td>0</td>\n",
       "      <td>1</td>\n",
       "      <td>0</td>\n",
       "      <td>0</td>\n",
       "      <td>0</td>\n",
       "      <td>0</td>\n",
       "      <td>0</td>\n",
       "      <td>0</td>\n",
       "      <td>61</td>\n",
       "      <td>f</td>\n",
       "      <td>South Asian</td>\n",
       "      <td>0</td>\n",
       "      <td>0</td>\n",
       "      <td>New Zealand</td>\n",
       "      <td>0</td>\n",
       "      <td>1.530098</td>\n",
       "      <td>Unknown</td>\n",
       "      <td>0</td>\n",
       "    </tr>\n",
       "    <tr>\n",
       "      <th>4</th>\n",
       "      <td>0</td>\n",
       "      <td>0</td>\n",
       "      <td>0</td>\n",
       "      <td>0</td>\n",
       "      <td>1</td>\n",
       "      <td>0</td>\n",
       "      <td>0</td>\n",
       "      <td>0</td>\n",
       "      <td>1</td>\n",
       "      <td>1</td>\n",
       "      <td>14</td>\n",
       "      <td>m</td>\n",
       "      <td>Black</td>\n",
       "      <td>0</td>\n",
       "      <td>1</td>\n",
       "      <td>Italy</td>\n",
       "      <td>0</td>\n",
       "      <td>7.949723</td>\n",
       "      <td>Self</td>\n",
       "      <td>0</td>\n",
       "    </tr>\n",
       "  </tbody>\n",
       "</table>\n",
       "</div>"
      ],
      "text/plain": [
       "   A1_Score  A2_Score  A3_Score  A4_Score  A5_Score  A6_Score  A7_Score  \\\n",
       "0         1         0         1         1         1         1         0   \n",
       "1         0         0         0         0         0         0         0   \n",
       "2         1         1         1         1         1         1         0   \n",
       "3         0         0         0         1         0         0         0   \n",
       "4         0         0         0         0         1         0         0   \n",
       "\n",
       "   A8_Score  A9_Score  A10_Score  age gender       ethnicity  jaundice  \\\n",
       "0         1         1          1   18      f  White-European         0   \n",
       "1         0         0          1   13      f     South Asian         0   \n",
       "2         0         1          1   14      f  White-European         0   \n",
       "3         0         0          0   61      f     South Asian         0   \n",
       "4         0         1          1   14      m           Black         0   \n",
       "\n",
       "   autism  country_of_res  used_app_before     result relation  Class/ASD  \n",
       "0       0   United States                0   7.819715     Self          0  \n",
       "1       0       Australia                0  10.544296  Unknown          0  \n",
       "2       0  United Kingdom                0  13.167506     Self          1  \n",
       "3       0     New Zealand                0   1.530098  Unknown          0  \n",
       "4       1           Italy                0   7.949723     Self          0  "
      ]
     },
     "execution_count": 86,
     "metadata": {},
     "output_type": "execute_result"
    }
   ],
   "source": [
    "df.head()"
   ]
  },
  {
   "cell_type": "markdown",
   "metadata": {},
   "source": [
    "Build a correlation matrix."
   ]
  },
  {
   "cell_type": "code",
   "execution_count": 87,
   "metadata": {},
   "outputs": [
    {
     "data": {
      "image/png": "[encoded data removed]",
      "text/plain": [
       "<Figure size 1080x1080 with 2 Axes>"
      ]
     },
     "metadata": {
      "needs_background": "light"
     },
     "output_type": "display_data"
    }
   ],
   "source": [
    "correlation_matrix = df.corr()\n",
    "\n",
    "plt.figure(figsize=(15, 15))\n",
    "sns.heatmap(correlation_matrix, annot=True, cmap='coolwarm', linewidths=0.5)\n",
    "plt.title('Correlation Matrix')\n",
    "plt.show()"
   ]
  },
  {
   "cell_type": "markdown",
   "metadata": {},
   "source": [
    "Some pairs of variables exhibit high positive correlations. For instance, variables A3_Score and A4_Score have a correlation of 0.524366, indicating that an increase in responses to questions A3 and A4 is associated with higher results. Similarly, variables A3_Score and A9_Score show a high positive correlation (0.554643), suggesting a strong connection between responses to questions A3 and A9.\n",
    "\n",
    "On the other hand, some variables display high negative correlations. For example, the variable 'autism' has a correlation of -0.108723 with the variable 'jaundice'. This may indicate a negative relationship between certain variables.\n",
    "\n",
    "It's worth noting that variables related to test responses (A1_Score to A10_Score) have relatively low correlations with age, suggesting that age has a limited impact on patients' responses to test questions.\n",
    "\n",
    "Regarding the target variable 'Class/ASD,' some variables have some influence on this target variable. For instance, variables A3_Score and A9_Score show relatively high correlations with 'Class/ASD' (0.490384 and 0.471378, respectively), indicating that responses to these questions may be related to the presence of ASD."
   ]
  },
  {
   "cell_type": "markdown",
   "metadata": {},
   "source": [
    "#### Data Preparation:"
   ]
  },
  {
   "cell_type": "markdown",
   "metadata": {},
   "source": [
    "Remove variables that do not significantly contribute to ASD determination (patient's country of residence and whether the patient underwent previous diagnostics)."
   ]
  },
  {
   "cell_type": "code",
   "execution_count": 88,
   "metadata": {},
   "outputs": [],
   "source": [
    "df = df.drop('country_of_res', axis=1)\n",
    "df = df.drop('used_app_before', axis=1)"
   ]
  },
  {
   "cell_type": "code",
   "execution_count": 89,
   "metadata": {},
   "outputs": [
    {
     "data": {
      "text/html": [
       "<div>\n",
       "<style scoped>\n",
       "    .dataframe tbody tr th:only-of-type {\n",
       "        vertical-align: middle;\n",
       "    }\n",
       "\n",
       "    .dataframe tbody tr th {\n",
       "        vertical-align: top;\n",
       "    }\n",
       "\n",
       "    .dataframe thead th {\n",
       "        text-align: right;\n",
       "    }\n",
       "</style>\n",
       "<table border=\"1\" class=\"dataframe\">\n",
       "  <thead>\n",
       "    <tr style=\"text-align: right;\">\n",
       "      <th></th>\n",
       "      <th>A1_Score</th>\n",
       "      <th>A2_Score</th>\n",
       "      <th>A3_Score</th>\n",
       "      <th>A4_Score</th>\n",
       "      <th>A5_Score</th>\n",
       "      <th>A6_Score</th>\n",
       "      <th>A7_Score</th>\n",
       "      <th>A8_Score</th>\n",
       "      <th>A9_Score</th>\n",
       "      <th>A10_Score</th>\n",
       "      <th>age</th>\n",
       "      <th>gender</th>\n",
       "      <th>ethnicity</th>\n",
       "      <th>jaundice</th>\n",
       "      <th>autism</th>\n",
       "      <th>result</th>\n",
       "      <th>relation</th>\n",
       "      <th>Class/ASD</th>\n",
       "    </tr>\n",
       "  </thead>\n",
       "  <tbody>\n",
       "    <tr>\n",
       "      <th>0</th>\n",
       "      <td>1</td>\n",
       "      <td>0</td>\n",
       "      <td>1</td>\n",
       "      <td>1</td>\n",
       "      <td>1</td>\n",
       "      <td>1</td>\n",
       "      <td>0</td>\n",
       "      <td>1</td>\n",
       "      <td>1</td>\n",
       "      <td>1</td>\n",
       "      <td>18</td>\n",
       "      <td>f</td>\n",
       "      <td>White-European</td>\n",
       "      <td>0</td>\n",
       "      <td>0</td>\n",
       "      <td>7.819715</td>\n",
       "      <td>Self</td>\n",
       "      <td>0</td>\n",
       "    </tr>\n",
       "    <tr>\n",
       "      <th>1</th>\n",
       "      <td>0</td>\n",
       "      <td>0</td>\n",
       "      <td>0</td>\n",
       "      <td>0</td>\n",
       "      <td>0</td>\n",
       "      <td>0</td>\n",
       "      <td>0</td>\n",
       "      <td>0</td>\n",
       "      <td>0</td>\n",
       "      <td>1</td>\n",
       "      <td>13</td>\n",
       "      <td>f</td>\n",
       "      <td>South Asian</td>\n",
       "      <td>0</td>\n",
       "      <td>0</td>\n",
       "      <td>10.544296</td>\n",
       "      <td>Unknown</td>\n",
       "      <td>0</td>\n",
       "    </tr>\n",
       "    <tr>\n",
       "      <th>2</th>\n",
       "      <td>1</td>\n",
       "      <td>1</td>\n",
       "      <td>1</td>\n",
       "      <td>1</td>\n",
       "      <td>1</td>\n",
       "      <td>1</td>\n",
       "      <td>0</td>\n",
       "      <td>0</td>\n",
       "      <td>1</td>\n",
       "      <td>1</td>\n",
       "      <td>14</td>\n",
       "      <td>f</td>\n",
       "      <td>White-European</td>\n",
       "      <td>0</td>\n",
       "      <td>0</td>\n",
       "      <td>13.167506</td>\n",
       "      <td>Self</td>\n",
       "      <td>1</td>\n",
       "    </tr>\n",
       "    <tr>\n",
       "      <th>3</th>\n",
       "      <td>0</td>\n",
       "      <td>0</td>\n",
       "      <td>0</td>\n",
       "      <td>1</td>\n",
       "      <td>0</td>\n",
       "      <td>0</td>\n",
       "      <td>0</td>\n",
       "      <td>0</td>\n",
       "      <td>0</td>\n",
       "      <td>0</td>\n",
       "      <td>61</td>\n",
       "      <td>f</td>\n",
       "      <td>South Asian</td>\n",
       "      <td>0</td>\n",
       "      <td>0</td>\n",
       "      <td>1.530098</td>\n",
       "      <td>Unknown</td>\n",
       "      <td>0</td>\n",
       "    </tr>\n",
       "    <tr>\n",
       "      <th>4</th>\n",
       "      <td>0</td>\n",
       "      <td>0</td>\n",
       "      <td>0</td>\n",
       "      <td>0</td>\n",
       "      <td>1</td>\n",
       "      <td>0</td>\n",
       "      <td>0</td>\n",
       "      <td>0</td>\n",
       "      <td>1</td>\n",
       "      <td>1</td>\n",
       "      <td>14</td>\n",
       "      <td>m</td>\n",
       "      <td>Black</td>\n",
       "      <td>0</td>\n",
       "      <td>1</td>\n",
       "      <td>7.949723</td>\n",
       "      <td>Self</td>\n",
       "      <td>0</td>\n",
       "    </tr>\n",
       "  </tbody>\n",
       "</table>\n",
       "</div>"
      ],
      "text/plain": [
       "   A1_Score  A2_Score  A3_Score  A4_Score  A5_Score  A6_Score  A7_Score  \\\n",
       "0         1         0         1         1         1         1         0   \n",
       "1         0         0         0         0         0         0         0   \n",
       "2         1         1         1         1         1         1         0   \n",
       "3         0         0         0         1         0         0         0   \n",
       "4         0         0         0         0         1         0         0   \n",
       "\n",
       "   A8_Score  A9_Score  A10_Score  age gender       ethnicity  jaundice  \\\n",
       "0         1         1          1   18      f  White-European         0   \n",
       "1         0         0          1   13      f     South Asian         0   \n",
       "2         0         1          1   14      f  White-European         0   \n",
       "3         0         0          0   61      f     South Asian         0   \n",
       "4         0         1          1   14      m           Black         0   \n",
       "\n",
       "   autism     result relation  Class/ASD  \n",
       "0       0   7.819715     Self          0  \n",
       "1       0  10.544296  Unknown          0  \n",
       "2       0  13.167506     Self          1  \n",
       "3       0   1.530098  Unknown          0  \n",
       "4       1   7.949723     Self          0  "
      ]
     },
     "execution_count": 89,
     "metadata": {},
     "output_type": "execute_result"
    }
   ],
   "source": [
    "df.head()"
   ]
  },
  {
   "cell_type": "markdown",
   "metadata": {},
   "source": [
    "Encode categorical features using OneHotEncoder."
   ]
  },
  {
   "cell_type": "code",
   "execution_count": 90,
   "metadata": {},
   "outputs": [],
   "source": [
    "oh = OneHotEncoder()"
   ]
  },
  {
   "cell_type": "code",
   "execution_count": 91,
   "metadata": {},
   "outputs": [],
   "source": [
    "h_inter1, h_categories1 = df['gender'].factorize()\n",
    "h_inter2, h_categories2 = df['ethnicity'].factorize()\n",
    "h_inter3, h_categories3 = df['relation'].factorize()"
   ]
  },
  {
   "cell_type": "code",
   "execution_count": 92,
   "metadata": {},
   "outputs": [
    {
     "data": {
      "text/plain": [
       "Index(['f', 'm'], dtype='object')"
      ]
     },
     "execution_count": 92,
     "metadata": {},
     "output_type": "execute_result"
    }
   ],
   "source": [
    "h_categories1"
   ]
  },
  {
   "cell_type": "code",
   "execution_count": 93,
   "metadata": {},
   "outputs": [
    {
     "data": {
      "text/plain": [
       "Index(['White-European', 'South Asian', 'Black', 'Asian', 'Middle Eastern ',\n",
       "       'Unknown', 'Others', 'Latino', 'Turkish', 'Hispanic', 'Pasifika'],\n",
       "      dtype='object')"
      ]
     },
     "execution_count": 93,
     "metadata": {},
     "output_type": "execute_result"
    }
   ],
   "source": [
    "h_categories2"
   ]
  },
  {
   "cell_type": "code",
   "execution_count": 94,
   "metadata": {},
   "outputs": [
    {
     "data": {
      "text/plain": [
       "Index(['Self', 'Unknown', 'Health care professional', 'Parent', 'Relative',\n",
       "       'Others'],\n",
       "      dtype='object')"
      ]
     },
     "execution_count": 94,
     "metadata": {},
     "output_type": "execute_result"
    }
   ],
   "source": [
    "h_categories3"
   ]
  },
  {
   "cell_type": "code",
   "execution_count": 95,
   "metadata": {},
   "outputs": [],
   "source": [
    "coded1 = oh.fit_transform(h_inter1.reshape(-1,1))\n",
    "coded2 = oh.fit_transform(h_inter2.reshape(-1,1))\n",
    "coded3 = oh.fit_transform(h_inter3.reshape(-1,1))"
   ]
  },
  {
   "cell_type": "code",
   "execution_count": 96,
   "metadata": {},
   "outputs": [],
   "source": [
    "proxy1 = pd.DataFrame(coded1.toarray(), columns = ['female', 'male'])\n",
    "proxy2 = pd.DataFrame(coded2.toarray(), columns = ['White-European', 'South Asian', 'Black', 'Asian', 'Middle Eastern ',\n",
    "                                                   'Unknown ethnicity', 'Others', 'Latino', 'Turkish', 'Hispanic', 'Pasifika'])\n",
    "proxy3 = pd.DataFrame(coded3.toarray(), columns = ['Self', 'Unknown relation', 'Health care professional', 'Parent', 'Relative',\n",
    "       'Others'])"
   ]
  },
  {
   "cell_type": "code",
   "execution_count": 97,
   "metadata": {},
   "outputs": [],
   "source": [
    "df = pd.concat([df, proxy1], axis = 1)\n",
    "df = pd.concat([df, proxy2], axis = 1)\n",
    "df = pd.concat([df, proxy3], axis = 1)"
   ]
  },
  {
   "cell_type": "code",
   "execution_count": 98,
   "metadata": {},
   "outputs": [],
   "source": [
    "df = df.drop(['gender'], axis=1)\n",
    "df = df.drop(['ethnicity'], axis=1)\n",
    "df = df.drop(['relation'], axis=1)"
   ]
  },
  {
   "cell_type": "code",
   "execution_count": 99,
   "metadata": {},
   "outputs": [
    {
     "data": {
      "text/html": [
       "<div>\n",
       "<style scoped>\n",
       "    .dataframe tbody tr th:only-of-type {\n",
       "        vertical-align: middle;\n",
       "    }\n",
       "\n",
       "    .dataframe tbody tr th {\n",
       "        vertical-align: top;\n",
       "    }\n",
       "\n",
       "    .dataframe thead th {\n",
       "        text-align: right;\n",
       "    }\n",
       "</style>\n",
       "<table border=\"1\" class=\"dataframe\">\n",
       "  <thead>\n",
       "    <tr style=\"text-align: right;\">\n",
       "      <th></th>\n",
       "      <th>A1_Score</th>\n",
       "      <th>A2_Score</th>\n",
       "      <th>A3_Score</th>\n",
       "      <th>A4_Score</th>\n",
       "      <th>A5_Score</th>\n",
       "      <th>A6_Score</th>\n",
       "      <th>A7_Score</th>\n",
       "      <th>A8_Score</th>\n",
       "      <th>A9_Score</th>\n",
       "      <th>A10_Score</th>\n",
       "      <th>...</th>\n",
       "      <th>Latino</th>\n",
       "      <th>Turkish</th>\n",
       "      <th>Hispanic</th>\n",
       "      <th>Pasifika</th>\n",
       "      <th>Self</th>\n",
       "      <th>Unknown relation</th>\n",
       "      <th>Health care professional</th>\n",
       "      <th>Parent</th>\n",
       "      <th>Relative</th>\n",
       "      <th>Others</th>\n",
       "    </tr>\n",
       "  </thead>\n",
       "  <tbody>\n",
       "    <tr>\n",
       "      <th>0</th>\n",
       "      <td>1</td>\n",
       "      <td>0</td>\n",
       "      <td>1</td>\n",
       "      <td>1</td>\n",
       "      <td>1</td>\n",
       "      <td>1</td>\n",
       "      <td>0</td>\n",
       "      <td>1</td>\n",
       "      <td>1</td>\n",
       "      <td>1</td>\n",
       "      <td>...</td>\n",
       "      <td>0.0</td>\n",
       "      <td>0.0</td>\n",
       "      <td>0.0</td>\n",
       "      <td>0.0</td>\n",
       "      <td>1.0</td>\n",
       "      <td>0.0</td>\n",
       "      <td>0.0</td>\n",
       "      <td>0.0</td>\n",
       "      <td>0.0</td>\n",
       "      <td>0.0</td>\n",
       "    </tr>\n",
       "    <tr>\n",
       "      <th>1</th>\n",
       "      <td>0</td>\n",
       "      <td>0</td>\n",
       "      <td>0</td>\n",
       "      <td>0</td>\n",
       "      <td>0</td>\n",
       "      <td>0</td>\n",
       "      <td>0</td>\n",
       "      <td>0</td>\n",
       "      <td>0</td>\n",
       "      <td>1</td>\n",
       "      <td>...</td>\n",
       "      <td>0.0</td>\n",
       "      <td>0.0</td>\n",
       "      <td>0.0</td>\n",
       "      <td>0.0</td>\n",
       "      <td>0.0</td>\n",
       "      <td>1.0</td>\n",
       "      <td>0.0</td>\n",
       "      <td>0.0</td>\n",
       "      <td>0.0</td>\n",
       "      <td>0.0</td>\n",
       "    </tr>\n",
       "    <tr>\n",
       "      <th>2</th>\n",
       "      <td>1</td>\n",
       "      <td>1</td>\n",
       "      <td>1</td>\n",
       "      <td>1</td>\n",
       "      <td>1</td>\n",
       "      <td>1</td>\n",
       "      <td>0</td>\n",
       "      <td>0</td>\n",
       "      <td>1</td>\n",
       "      <td>1</td>\n",
       "      <td>...</td>\n",
       "      <td>0.0</td>\n",
       "      <td>0.0</td>\n",
       "      <td>0.0</td>\n",
       "      <td>0.0</td>\n",
       "      <td>1.0</td>\n",
       "      <td>0.0</td>\n",
       "      <td>0.0</td>\n",
       "      <td>0.0</td>\n",
       "      <td>0.0</td>\n",
       "      <td>0.0</td>\n",
       "    </tr>\n",
       "    <tr>\n",
       "      <th>3</th>\n",
       "      <td>0</td>\n",
       "      <td>0</td>\n",
       "      <td>0</td>\n",
       "      <td>1</td>\n",
       "      <td>0</td>\n",
       "      <td>0</td>\n",
       "      <td>0</td>\n",
       "      <td>0</td>\n",
       "      <td>0</td>\n",
       "      <td>0</td>\n",
       "      <td>...</td>\n",
       "      <td>0.0</td>\n",
       "      <td>0.0</td>\n",
       "      <td>0.0</td>\n",
       "      <td>0.0</td>\n",
       "      <td>0.0</td>\n",
       "      <td>1.0</td>\n",
       "      <td>0.0</td>\n",
       "      <td>0.0</td>\n",
       "      <td>0.0</td>\n",
       "      <td>0.0</td>\n",
       "    </tr>\n",
       "    <tr>\n",
       "      <th>4</th>\n",
       "      <td>0</td>\n",
       "      <td>0</td>\n",
       "      <td>0</td>\n",
       "      <td>0</td>\n",
       "      <td>1</td>\n",
       "      <td>0</td>\n",
       "      <td>0</td>\n",
       "      <td>0</td>\n",
       "      <td>1</td>\n",
       "      <td>1</td>\n",
       "      <td>...</td>\n",
       "      <td>0.0</td>\n",
       "      <td>0.0</td>\n",
       "      <td>0.0</td>\n",
       "      <td>0.0</td>\n",
       "      <td>1.0</td>\n",
       "      <td>0.0</td>\n",
       "      <td>0.0</td>\n",
       "      <td>0.0</td>\n",
       "      <td>0.0</td>\n",
       "      <td>0.0</td>\n",
       "    </tr>\n",
       "  </tbody>\n",
       "</table>\n",
       "<p>5 rows × 34 columns</p>\n",
       "</div>"
      ],
      "text/plain": [
       "   A1_Score  A2_Score  A3_Score  A4_Score  A5_Score  A6_Score  A7_Score  \\\n",
       "0         1         0         1         1         1         1         0   \n",
       "1         0         0         0         0         0         0         0   \n",
       "2         1         1         1         1         1         1         0   \n",
       "3         0         0         0         1         0         0         0   \n",
       "4         0         0         0         0         1         0         0   \n",
       "\n",
       "   A8_Score  A9_Score  A10_Score  ...  Latino  Turkish  Hispanic  Pasifika  \\\n",
       "0         1         1          1  ...     0.0      0.0       0.0       0.0   \n",
       "1         0         0          1  ...     0.0      0.0       0.0       0.0   \n",
       "2         0         1          1  ...     0.0      0.0       0.0       0.0   \n",
       "3         0         0          0  ...     0.0      0.0       0.0       0.0   \n",
       "4         0         1          1  ...     0.0      0.0       0.0       0.0   \n",
       "\n",
       "   Self  Unknown relation  Health care professional  Parent  Relative  Others  \n",
       "0   1.0               0.0                       0.0     0.0       0.0     0.0  \n",
       "1   0.0               1.0                       0.0     0.0       0.0     0.0  \n",
       "2   1.0               0.0                       0.0     0.0       0.0     0.0  \n",
       "3   0.0               1.0                       0.0     0.0       0.0     0.0  \n",
       "4   1.0               0.0                       0.0     0.0       0.0     0.0  \n",
       "\n",
       "[5 rows x 34 columns]"
      ]
     },
     "execution_count": 99,
     "metadata": {},
     "output_type": "execute_result"
    }
   ],
   "source": [
    "df.head()"
   ]
  },
  {
   "cell_type": "markdown",
   "metadata": {},
   "source": [
    "Separate the target variable 'Class/ASD.'"
   ]
  },
  {
   "cell_type": "code",
   "execution_count": 100,
   "metadata": {},
   "outputs": [],
   "source": [
    "X = df.drop(['Class/ASD'], axis=1)\n",
    "Y = df['Class/ASD']"
   ]
  },
  {
   "cell_type": "markdown",
   "metadata": {},
   "source": [
    "Split the data into train and test sets."
   ]
  },
  {
   "cell_type": "code",
   "execution_count": 101,
   "metadata": {},
   "outputs": [],
   "source": [
    "X_train, X_test, Y_train, Y_test =  train_test_split(X, Y, test_size = 0.2, random_state = 42)"
   ]
  },
  {
   "cell_type": "markdown",
   "metadata": {},
   "source": [
    "Scale the data using StandardScaler."
   ]
  },
  {
   "cell_type": "code",
   "execution_count": 102,
   "metadata": {},
   "outputs": [],
   "source": [
    "ss = StandardScaler()"
   ]
  },
  {
   "cell_type": "code",
   "execution_count": 103,
   "metadata": {},
   "outputs": [],
   "source": [
    "X_train_ss = ss.fit_transform(X_train)"
   ]
  },
  {
   "cell_type": "code",
   "execution_count": 104,
   "metadata": {},
   "outputs": [],
   "source": [
    "X_test_ss = ss.transform(X_test)"
   ]
  },
  {
   "cell_type": "markdown",
   "metadata": {},
   "source": [
    "#### Logistic Regression"
   ]
  },
  {
   "cell_type": "code",
   "execution_count": 105,
   "metadata": {},
   "outputs": [],
   "source": [
    "logreg = LogisticRegression()"
   ]
  },
  {
   "cell_type": "code",
   "execution_count": 106,
   "metadata": {},
   "outputs": [
    {
     "data": {
      "text/plain": [
       "LogisticRegression()"
      ]
     },
     "execution_count": 106,
     "metadata": {},
     "output_type": "execute_result"
    }
   ],
   "source": [
    "logreg.fit(X_train_ss, Y_train)"
   ]
  },
  {
   "cell_type": "code",
   "execution_count": 107,
   "metadata": {},
   "outputs": [],
   "source": [
    "pred_logreg = logreg.predict(X_test_ss)"
   ]
  },
  {
   "cell_type": "code",
   "execution_count": 108,
   "metadata": {},
   "outputs": [],
   "source": [
    "binary_pred_logreg = [1 if pred >= 0.5 else 0 for pred in pred_logreg]"
   ]
  },
  {
   "cell_type": "code",
   "execution_count": 109,
   "metadata": {},
   "outputs": [
    {
     "data": {
      "text/plain": [
       "array([[133,  14],\n",
       "       [ 27,  26]], dtype=int64)"
      ]
     },
     "execution_count": 109,
     "metadata": {},
     "output_type": "execute_result"
    }
   ],
   "source": [
    "confusion_matrix(Y_test, binary_pred_logreg)"
   ]
  },
  {
   "cell_type": "code",
   "execution_count": 110,
   "metadata": {},
   "outputs": [
    {
     "data": {
      "text/plain": [
       "0.795"
      ]
     },
     "execution_count": 110,
     "metadata": {},
     "output_type": "execute_result"
    }
   ],
   "source": [
    "accuracy_score(Y_test, binary_pred_logreg)"
   ]
  },
  {
   "cell_type": "markdown",
   "metadata": {},
   "source": [
    "#### Decision Tree"
   ]
  },
  {
   "cell_type": "code",
   "execution_count": 111,
   "metadata": {},
   "outputs": [],
   "source": [
    "tree = DecisionTreeClassifier()"
   ]
  },
  {
   "cell_type": "code",
   "execution_count": 112,
   "metadata": {},
   "outputs": [
    {
     "data": {
      "text/plain": [
       "DecisionTreeClassifier()"
      ]
     },
     "execution_count": 112,
     "metadata": {},
     "output_type": "execute_result"
    }
   ],
   "source": [
    "tree.fit(X_train, Y_train)"
   ]
  },
  {
   "cell_type": "code",
   "execution_count": 113,
   "metadata": {},
   "outputs": [],
   "source": [
    "pred_tree = tree.predict(X_test_ss)"
   ]
  },
  {
   "cell_type": "code",
   "execution_count": 114,
   "metadata": {},
   "outputs": [
    {
     "data": {
      "text/plain": [
       "array([[108,  39],\n",
       "       [ 47,   6]], dtype=int64)"
      ]
     },
     "execution_count": 114,
     "metadata": {},
     "output_type": "execute_result"
    }
   ],
   "source": [
    "confusion_matrix(Y_test,pred_tree)"
   ]
  },
  {
   "cell_type": "code",
   "execution_count": 115,
   "metadata": {},
   "outputs": [
    {
     "data": {
      "text/plain": [
       "0.57"
      ]
     },
     "execution_count": 115,
     "metadata": {},
     "output_type": "execute_result"
    }
   ],
   "source": [
    "accuracy_score(Y_test,pred_tree)"
   ]
  },
  {
   "cell_type": "markdown",
   "metadata": {},
   "source": [
    "#### Random Forest"
   ]
  },
  {
   "cell_type": "code",
   "execution_count": 116,
   "metadata": {},
   "outputs": [],
   "source": [
    "forest_class = RandomForestClassifier()"
   ]
  },
  {
   "cell_type": "code",
   "execution_count": 117,
   "metadata": {},
   "outputs": [
    {
     "data": {
      "text/plain": [
       "RandomForestClassifier()"
      ]
     },
     "execution_count": 117,
     "metadata": {},
     "output_type": "execute_result"
    }
   ],
   "source": [
    "forest_class.fit(X_train_ss, Y_train)"
   ]
  },
  {
   "cell_type": "code",
   "execution_count": 118,
   "metadata": {},
   "outputs": [],
   "source": [
    "preds_forest_class = forest_class.predict(X_test_ss)"
   ]
  },
  {
   "cell_type": "code",
   "execution_count": 119,
   "metadata": {},
   "outputs": [
    {
     "data": {
      "text/plain": [
       "0.815"
      ]
     },
     "execution_count": 119,
     "metadata": {},
     "output_type": "execute_result"
    }
   ],
   "source": [
    "accuracy_score(Y_test, preds_forest_class)"
   ]
  },
  {
   "cell_type": "code",
   "execution_count": 120,
   "metadata": {},
   "outputs": [
    {
     "data": {
      "text/plain": [
       "array([[134,  13],\n",
       "       [ 24,  29]], dtype=int64)"
      ]
     },
     "execution_count": 120,
     "metadata": {},
     "output_type": "execute_result"
    }
   ],
   "source": [
    "confusion_matrix(Y_test,preds_forest_class)"
   ]
  },
  {
   "cell_type": "markdown",
   "metadata": {},
   "source": [
    "Consider Feature Importance"
   ]
  },
  {
   "cell_type": "code",
   "execution_count": 121,
   "metadata": {},
   "outputs": [
    {
     "name": "stdout",
     "output_type": "stream",
     "text": [
      "Feature: result, Importance: 0.1847889188436807\n",
      "Feature: age, Importance: 0.11312577300965089\n",
      "Feature: A6_Score, Importance: 0.07880727468885725\n",
      "Feature: A4_Score, Importance: 0.07446180655401392\n",
      "Feature: A3_Score, Importance: 0.06139452867522568\n",
      "Feature: A5_Score, Importance: 0.0557409593195777\n",
      "Feature: A9_Score, Importance: 0.05240736872922478\n",
      "Feature: A7_Score, Importance: 0.038239126828583284\n",
      "Feature: A2_Score, Importance: 0.03324771881937772\n",
      "Feature: A10_Score, Importance: 0.032011491192347044\n",
      "Feature: autism, Importance: 0.028392990133651663\n",
      "Feature: White-European, Importance: 0.026447178890848525\n",
      "Feature: A1_Score, Importance: 0.023817160217559773\n",
      "Feature: jaundice, Importance: 0.022040590255731053\n",
      "Feature: A8_Score, Importance: 0.02076999685945234\n",
      "Feature: Unknown ethnicity, Importance: 0.01741750484480384\n",
      "Feature: male, Importance: 0.01732716598451005\n",
      "Feature: female, Importance: 0.015894542992521285\n",
      "Feature: Middle Eastern , Importance: 0.013536276994879654\n",
      "Feature: Self, Importance: 0.013423311552563554\n",
      "Feature: Asian, Importance: 0.012501986466801205\n",
      "Feature: Latino, Importance: 0.009475216985277589\n",
      "Feature: Black, Importance: 0.009462009389121968\n",
      "Feature: Parent, Importance: 0.009242751707814509\n",
      "Feature: South Asian, Importance: 0.007447254393068008\n",
      "Feature: Relative, Importance: 0.00721118692274416\n",
      "Feature: Others, Importance: 0.005455184111891203\n",
      "Feature: Unknown relation, Importance: 0.005275548890813959\n",
      "Feature: Pasifika, Importance: 0.004512242623998003\n",
      "Feature: Hispanic, Importance: 0.0037475226439731323\n",
      "Feature: Others, Importance: 0.0010891290795213935\n",
      "Feature: Health care professional, Importance: 0.0010516624419384811\n",
      "Feature: Turkish, Importance: 0.0002366189559756184\n"
     ]
    }
   ],
   "source": [
    "importances = forest_class.feature_importances_\n",
    "\n",
    "features = X_train.columns\n",
    "feature_importance = list(zip(features, importances))\n",
    "\n",
    "feature_importance = sorted(feature_importance, key=lambda x: x[1], reverse=True)\n",
    "\n",
    "for feature, importance in feature_importance:\n",
    "    print(f\"Feature: {feature}, Importance: {importance}\")"
   ]
  },
  {
   "cell_type": "markdown",
   "metadata": {},
   "source": [
    "Based on the analysis of feature importance, it is evident that the test result score ('result') and the patient's age ('age') exert the greatest influence on the autism diagnosis model. These features have the highest importance values, indicating their pivotal role in predicting the diagnosis. Scores on specific test questions, such as A4_Score, A6_Score, A3_Score, and A5_Score, also have a significant impact. The importance of ethnic background, gender, the presence of jaundice at birth, and other features in relation to test outcomes is relatively minor."
   ]
  },
  {
   "cell_type": "markdown",
   "metadata": {},
   "source": [
    "#### GRID SEARCH"
   ]
  },
  {
   "cell_type": "code",
   "execution_count": 122,
   "metadata": {},
   "outputs": [],
   "source": [
    "param_grid = {'n_estimators': [5,10,15,20], 'max_features':[5,10,15,20,25,30]}\n",
    "\n",
    "grid_search = GridSearchCV(forest_class, param_grid, cv = 5, scoring = 'roc_auc')"
   ]
  },
  {
   "cell_type": "code",
   "execution_count": 123,
   "metadata": {},
   "outputs": [
    {
     "data": {
      "text/plain": [
       "GridSearchCV(cv=5, estimator=RandomForestClassifier(),\n",
       "             param_grid={'max_features': [5, 10, 15, 20, 25, 30],\n",
       "                         'n_estimators': [5, 10, 15, 20]},\n",
       "             scoring='roc_auc')"
      ]
     },
     "execution_count": 123,
     "metadata": {},
     "output_type": "execute_result"
    }
   ],
   "source": [
    "grid_search.fit(X_train_ss, Y_train)"
   ]
  },
  {
   "cell_type": "code",
   "execution_count": 124,
   "metadata": {},
   "outputs": [
    {
     "data": {
      "text/plain": [
       "{'max_features': 25, 'n_estimators': 20}"
      ]
     },
     "execution_count": 124,
     "metadata": {},
     "output_type": "execute_result"
    }
   ],
   "source": [
    "grid_search.best_params_"
   ]
  },
  {
   "cell_type": "code",
   "execution_count": 125,
   "metadata": {},
   "outputs": [],
   "source": [
    "grid_forest = grid_search.best_estimator_"
   ]
  },
  {
   "cell_type": "code",
   "execution_count": 126,
   "metadata": {},
   "outputs": [],
   "source": [
    "pred_grid_serch = grid_forest.predict(X_test_ss)"
   ]
  },
  {
   "cell_type": "code",
   "execution_count": 127,
   "metadata": {},
   "outputs": [
    {
     "data": {
      "text/plain": [
       "array([[134,  13],\n",
       "       [ 26,  27]], dtype=int64)"
      ]
     },
     "execution_count": 127,
     "metadata": {},
     "output_type": "execute_result"
    }
   ],
   "source": [
    "confusion_matrix(Y_test,pred_grid_serch)"
   ]
  },
  {
   "cell_type": "code",
   "execution_count": 128,
   "metadata": {},
   "outputs": [
    {
     "data": {
      "text/plain": [
       "0.805"
      ]
     },
     "execution_count": 128,
     "metadata": {},
     "output_type": "execute_result"
    }
   ],
   "source": [
    "accuracy_score(Y_test, pred_grid_serch)"
   ]
  },
  {
   "cell_type": "markdown",
   "metadata": {},
   "source": [
    "#### Stochastic Gradient Descent"
   ]
  },
  {
   "cell_type": "code",
   "execution_count": 129,
   "metadata": {},
   "outputs": [],
   "source": [
    "SGDclf = SGDClassifier()"
   ]
  },
  {
   "cell_type": "code",
   "execution_count": 130,
   "metadata": {},
   "outputs": [
    {
     "data": {
      "text/plain": [
       "SGDClassifier()"
      ]
     },
     "execution_count": 130,
     "metadata": {},
     "output_type": "execute_result"
    }
   ],
   "source": [
    "SGDclf.fit(X_train_ss, Y_train)"
   ]
  },
  {
   "cell_type": "code",
   "execution_count": 131,
   "metadata": {},
   "outputs": [],
   "source": [
    "pred_SGDclf = SGDclf.predict(X_test_ss)"
   ]
  },
  {
   "cell_type": "code",
   "execution_count": 132,
   "metadata": {},
   "outputs": [
    {
     "data": {
      "text/plain": [
       "array([[123,  24],\n",
       "       [ 19,  34]], dtype=int64)"
      ]
     },
     "execution_count": 132,
     "metadata": {},
     "output_type": "execute_result"
    }
   ],
   "source": [
    "confusion_matrix(Y_test, pred_SGDclf)"
   ]
  },
  {
   "cell_type": "code",
   "execution_count": 133,
   "metadata": {},
   "outputs": [
    {
     "data": {
      "text/plain": [
       "0.785"
      ]
     },
     "execution_count": 133,
     "metadata": {},
     "output_type": "execute_result"
    }
   ],
   "source": [
    "accuracy_score(Y_test, pred_SGDclf)"
   ]
  },
  {
   "cell_type": "markdown",
   "metadata": {},
   "source": [
    "#### Support Vector Machine"
   ]
  },
  {
   "cell_type": "code",
   "execution_count": 134,
   "metadata": {},
   "outputs": [],
   "source": [
    "SVMclf = svm.SVC(kernel='linear')"
   ]
  },
  {
   "cell_type": "code",
   "execution_count": 135,
   "metadata": {},
   "outputs": [
    {
     "data": {
      "text/plain": [
       "SVC(kernel='linear')"
      ]
     },
     "execution_count": 135,
     "metadata": {},
     "output_type": "execute_result"
    }
   ],
   "source": [
    "SVMclf.fit(X_train_ss, Y_train)"
   ]
  },
  {
   "cell_type": "code",
   "execution_count": 136,
   "metadata": {},
   "outputs": [],
   "source": [
    "pred_SVMclf = SVMclf.predict(X_test_ss)"
   ]
  },
  {
   "cell_type": "code",
   "execution_count": 137,
   "metadata": {},
   "outputs": [
    {
     "data": {
      "text/plain": [
       "array([[132,  15],\n",
       "       [ 25,  28]], dtype=int64)"
      ]
     },
     "execution_count": 137,
     "metadata": {},
     "output_type": "execute_result"
    }
   ],
   "source": [
    "confusion_matrix(Y_test, pred_SVMclf)"
   ]
  },
  {
   "cell_type": "code",
   "execution_count": 138,
   "metadata": {},
   "outputs": [
    {
     "data": {
      "text/plain": [
       "0.8"
      ]
     },
     "execution_count": 138,
     "metadata": {},
     "output_type": "execute_result"
    }
   ],
   "source": [
    "accuracy_score(Y_test, pred_SVMclf)"
   ]
  },
  {
   "cell_type": "markdown",
   "metadata": {},
   "source": [
    "#### Adaptive Boosting"
   ]
  },
  {
   "cell_type": "code",
   "execution_count": 139,
   "metadata": {},
   "outputs": [],
   "source": [
    "Adaclf = AdaBoostClassifier()"
   ]
  },
  {
   "cell_type": "code",
   "execution_count": 140,
   "metadata": {},
   "outputs": [
    {
     "data": {
      "text/plain": [
       "AdaBoostClassifier()"
      ]
     },
     "execution_count": 140,
     "metadata": {},
     "output_type": "execute_result"
    }
   ],
   "source": [
    "Adaclf.fit(X_train_ss, Y_train)"
   ]
  },
  {
   "cell_type": "code",
   "execution_count": 141,
   "metadata": {},
   "outputs": [],
   "source": [
    "pred_Adaclf = Adaclf.predict(X_test_ss)"
   ]
  },
  {
   "cell_type": "code",
   "execution_count": 142,
   "metadata": {},
   "outputs": [
    {
     "data": {
      "text/plain": [
       "array([[132,  15],\n",
       "       [ 28,  25]], dtype=int64)"
      ]
     },
     "execution_count": 142,
     "metadata": {},
     "output_type": "execute_result"
    }
   ],
   "source": [
    "confusion_matrix(Y_test, pred_Adaclf)"
   ]
  },
  {
   "cell_type": "code",
   "execution_count": 143,
   "metadata": {},
   "outputs": [
    {
     "data": {
      "text/plain": [
       "0.785"
      ]
     },
     "execution_count": 143,
     "metadata": {},
     "output_type": "execute_result"
    }
   ],
   "source": [
    "accuracy_score(Y_test, pred_Adaclf)"
   ]
  },
  {
   "cell_type": "markdown",
   "metadata": {},
   "source": [
    "#### Voting Model"
   ]
  },
  {
   "cell_type": "markdown",
   "metadata": {},
   "source": [
    "For the Voting model, we combine several different models to make decisions."
   ]
  },
  {
   "cell_type": "code",
   "execution_count": 144,
   "metadata": {},
   "outputs": [],
   "source": [
    "best_rf_params = grid_search.best_params_"
   ]
  },
  {
   "cell_type": "code",
   "execution_count": 145,
   "metadata": {},
   "outputs": [
    {
     "data": {
      "text/plain": [
       "{'max_features': 25, 'n_estimators': 20}"
      ]
     },
     "execution_count": 145,
     "metadata": {},
     "output_type": "execute_result"
    }
   ],
   "source": [
    "best_rf_params"
   ]
  },
  {
   "cell_type": "code",
   "execution_count": 146,
   "metadata": {},
   "outputs": [],
   "source": [
    "voiting_rf = RandomForestClassifier(max_features=best_rf_params['max_features'], n_estimators=best_rf_params['n_estimators'])\n",
    "voiting_ada = AdaBoostClassifier()\n",
    "voiting_svm = svm.SVC(kernel='linear', probability=True)"
   ]
  },
  {
   "cell_type": "code",
   "execution_count": 147,
   "metadata": {},
   "outputs": [],
   "source": [
    "voting_clf = VotingClassifier(estimators=[('rf', voiting_rf), ('ada', voiting_ada), ('svc', voiting_svm)], voting='soft')"
   ]
  },
  {
   "cell_type": "code",
   "execution_count": 148,
   "metadata": {},
   "outputs": [
    {
     "data": {
      "text/plain": [
       "VotingClassifier(estimators=[('rf',\n",
       "                              RandomForestClassifier(max_features=25,\n",
       "                                                     n_estimators=20)),\n",
       "                             ('ada', AdaBoostClassifier()),\n",
       "                             ('svc', SVC(kernel='linear', probability=True))],\n",
       "                 voting='soft')"
      ]
     },
     "execution_count": 148,
     "metadata": {},
     "output_type": "execute_result"
    }
   ],
   "source": [
    "voting_clf.fit(X_train_ss, Y_train)"
   ]
  },
  {
   "cell_type": "code",
   "execution_count": 149,
   "metadata": {},
   "outputs": [],
   "source": [
    "pred_voiting = voting_clf.predict(X_test_ss)"
   ]
  },
  {
   "cell_type": "code",
   "execution_count": 150,
   "metadata": {},
   "outputs": [
    {
     "data": {
      "text/plain": [
       "array([[132,  15],\n",
       "       [ 28,  25]], dtype=int64)"
      ]
     },
     "execution_count": 150,
     "metadata": {},
     "output_type": "execute_result"
    }
   ],
   "source": [
    "confusion_matrix(Y_test, pred_voiting)"
   ]
  },
  {
   "cell_type": "code",
   "execution_count": 151,
   "metadata": {},
   "outputs": [
    {
     "data": {
      "text/plain": [
       "0.785"
      ]
     },
     "execution_count": 151,
     "metadata": {},
     "output_type": "execute_result"
    }
   ],
   "source": [
    "accuracy_score(Y_test, pred_voiting)"
   ]
  },
  {
   "cell_type": "markdown",
   "metadata": {},
   "source": [
    "#### Neural Networks"
   ]
  },
  {
   "cell_type": "code",
   "execution_count": 152,
   "metadata": {},
   "outputs": [
    {
     "data": {
      "text/plain": [
       "(800, 33)"
      ]
     },
     "execution_count": 152,
     "metadata": {},
     "output_type": "execute_result"
    }
   ],
   "source": [
    "X_train.shape"
   ]
  },
  {
   "cell_type": "code",
   "execution_count": 153,
   "metadata": {},
   "outputs": [],
   "source": [
    "model = models.Sequential()\n",
    "\n",
    "model.add(layers.Dense(128,input_shape=(33,),activation='relu'))\n",
    "model.add(layers.Dense(64,activation='relu'))\n",
    "model.add(layers.Dense(32,activation='relu'))\n",
    "model.add(layers.Dense(16,activation='relu'))\n",
    "model.add(layers.Dense(1, activation=\"sigmoid\"))"
   ]
  },
  {
   "cell_type": "code",
   "execution_count": 154,
   "metadata": {},
   "outputs": [
    {
     "name": "stdout",
     "output_type": "stream",
     "text": [
      "Model: \"sequential\"\n",
      "_________________________________________________________________\n",
      " Layer (type)                Output Shape              Param #   \n",
      "=================================================================\n",
      " dense (Dense)               (None, 128)               4352      \n",
      "                                                                 \n",
      " dense_1 (Dense)             (None, 64)                8256      \n",
      "                                                                 \n",
      " dense_2 (Dense)             (None, 32)                2080      \n",
      "                                                                 \n",
      " dense_3 (Dense)             (None, 16)                528       \n",
      "                                                                 \n",
      " dense_4 (Dense)             (None, 1)                 17        \n",
      "                                                                 \n",
      "=================================================================\n",
      "Total params: 15,233\n",
      "Trainable params: 15,233\n",
      "Non-trainable params: 0\n",
      "_________________________________________________________________\n"
     ]
    }
   ],
   "source": [
    "model.summary()"
   ]
  },
  {
   "cell_type": "code",
   "execution_count": 155,
   "metadata": {},
   "outputs": [],
   "source": [
    "model.compile(loss=\"binary_crossentropy\",\n",
    "              optimizer=\"adam\",\n",
    "              metrics=[\"accuracy\"])"
   ]
  },
  {
   "cell_type": "code",
   "execution_count": 156,
   "metadata": {},
   "outputs": [],
   "source": [
    "X_train_new, X_val, Y_train_new, Y_val =  train_test_split(X_train_ss, Y_train, test_size = 0.2, random_state = 4)"
   ]
  },
  {
   "cell_type": "code",
   "execution_count": 157,
   "metadata": {},
   "outputs": [
    {
     "name": "stdout",
     "output_type": "stream",
     "text": [
      "Epoch 1/20\n",
      "10/10 [==============================] - 3s 98ms/step - loss: 0.5576 - accuracy: 0.7531 - val_loss: 0.4489 - val_accuracy: 0.8500\n",
      "Epoch 2/20\n",
      "10/10 [==============================] - 0s 23ms/step - loss: 0.4245 - accuracy: 0.8297 - val_loss: 0.4061 - val_accuracy: 0.8500\n",
      "Epoch 3/20\n",
      "10/10 [==============================] - 0s 26ms/step - loss: 0.3815 - accuracy: 0.8438 - val_loss: 0.3965 - val_accuracy: 0.8750\n",
      "Epoch 4/20\n",
      "10/10 [==============================] - 1s 76ms/step - loss: 0.3564 - accuracy: 0.8578 - val_loss: 0.3947 - val_accuracy: 0.8625\n",
      "Epoch 5/20\n",
      "10/10 [==============================] - 1s 101ms/step - loss: 0.3351 - accuracy: 0.8609 - val_loss: 0.3942 - val_accuracy: 0.8625\n",
      "Epoch 6/20\n",
      "10/10 [==============================] - 0s 44ms/step - loss: 0.3219 - accuracy: 0.8703 - val_loss: 0.3993 - val_accuracy: 0.8625\n",
      "Epoch 7/20\n",
      "10/10 [==============================] - 0s 34ms/step - loss: 0.3025 - accuracy: 0.8766 - val_loss: 0.4006 - val_accuracy: 0.8687\n",
      "Epoch 8/20\n",
      "10/10 [==============================] - 0s 9ms/step - loss: 0.2881 - accuracy: 0.8797 - val_loss: 0.4023 - val_accuracy: 0.8687\n",
      "Epoch 9/20\n",
      "10/10 [==============================] - 0s 7ms/step - loss: 0.2772 - accuracy: 0.8859 - val_loss: 0.4136 - val_accuracy: 0.8562\n",
      "Epoch 10/20\n",
      "10/10 [==============================] - 0s 7ms/step - loss: 0.2588 - accuracy: 0.9000 - val_loss: 0.4240 - val_accuracy: 0.8687\n",
      "Epoch 11/20\n",
      "10/10 [==============================] - 0s 7ms/step - loss: 0.2457 - accuracy: 0.9094 - val_loss: 0.4244 - val_accuracy: 0.8625\n",
      "Epoch 12/20\n",
      "10/10 [==============================] - 0s 6ms/step - loss: 0.2305 - accuracy: 0.9187 - val_loss: 0.4432 - val_accuracy: 0.8687\n",
      "Epoch 13/20\n",
      "10/10 [==============================] - 0s 7ms/step - loss: 0.2191 - accuracy: 0.9203 - val_loss: 0.4455 - val_accuracy: 0.8562\n",
      "Epoch 14/20\n",
      "10/10 [==============================] - 0s 7ms/step - loss: 0.2120 - accuracy: 0.9281 - val_loss: 0.4723 - val_accuracy: 0.8625\n",
      "Epoch 15/20\n",
      "10/10 [==============================] - 0s 7ms/step - loss: 0.1887 - accuracy: 0.9359 - val_loss: 0.4655 - val_accuracy: 0.8687\n",
      "Epoch 16/20\n",
      "10/10 [==============================] - 0s 8ms/step - loss: 0.1759 - accuracy: 0.9438 - val_loss: 0.4804 - val_accuracy: 0.8625\n",
      "Epoch 17/20\n",
      "10/10 [==============================] - 0s 8ms/step - loss: 0.1661 - accuracy: 0.9422 - val_loss: 0.5134 - val_accuracy: 0.8687\n",
      "Epoch 18/20\n",
      "10/10 [==============================] - 0s 9ms/step - loss: 0.1502 - accuracy: 0.9563 - val_loss: 0.5078 - val_accuracy: 0.8687\n",
      "Epoch 19/20\n",
      "10/10 [==============================] - 0s 22ms/step - loss: 0.1360 - accuracy: 0.9516 - val_loss: 0.5493 - val_accuracy: 0.8687\n",
      "Epoch 20/20\n",
      "10/10 [==============================] - 0s 10ms/step - loss: 0.1271 - accuracy: 0.9547 - val_loss: 0.5533 - val_accuracy: 0.8625\n"
     ]
    }
   ],
   "source": [
    "history = model.fit(X_train_new, Y_train_new, epochs=20, batch_size=64, validation_data=(X_val, Y_val))"
   ]
  },
  {
   "cell_type": "code",
   "execution_count": 158,
   "metadata": {},
   "outputs": [
    {
     "name": "stdout",
     "output_type": "stream",
     "text": [
      "7/7 [==============================] - 0s 3ms/step - loss: 0.8020 - accuracy: 0.7750\n"
     ]
    }
   ],
   "source": [
    "loss, accuracy = model.evaluate(X_test_ss, Y_test)"
   ]
  },
  {
   "cell_type": "markdown",
   "metadata": {},
   "source": [
    "### Conclusions"
   ]
  },
  {
   "cell_type": "markdown",
   "metadata": {},
   "source": [
    "Upon analyzing feature importance, it is evident that the test result score ('result') and the patient's age ('age') have the greatest influence on the autism diagnosis model. Scores on specific test questions, such as A4_Score, A6_Score, A3_Score, and A5_Score, also have a significant impact. The importance of ethnic background, gender, the presence of jaundice at birth, and other features in relation to test outcomes is relatively minor."
   ]
  },
  {
   "cell_type": "markdown",
   "metadata": {},
   "source": [
    "##### Analysis of results obtained during the training of various models:\n",
    "\n",
    "In the process of training various models and evaluating their performance based on accuracy_score, we obtained the following results.\n",
    "\n",
    "The RandomForestClassifier demonstrated the highest accuracy, reaching a precision of 0.815.\n",
    "\n",
    "Following closely are the models GridSearchCV, SVC, and LogisticRegression, which achieved accuracies of 0.805, 0.8, and 0.795, respectively.\n",
    "\n",
    "Models such as SGDClassifier, AdaBoostClassifier, and the VotingClassifier—combining RandomForestClassifier, AdaBoostClassifier, and SVC—exhibited accuracy scores of 0.785.\n",
    "\n",
    "However, the DecisionTreeClassifier model yielded more modest results, achieving an accuracy of 0.57.\n",
    "\n",
    "Neural networks also displayed commendable performance with an accuracy of 0.775, positioning them as competitive despite trailing behind the RandomForestClassifier, which delivered the best accuracy in this training scenario.\n"
   ]
  },
  {
   "cell_type": "markdown",
   "metadata": {},
   "source": [
    "##### Final Conclusion\n",
    "\n",
    "AQ-10 test results cannot replace the clinical diagnosis of Autism Spectrum Disorder (ASD), as they represent only initial testing aimed at determining the need for further diagnostic measures conducted by medical professionals. However, it is important to note that results obtained using machine learning models can be valuable tools for initial screening and risk assessment.\n",
    "\n",
    "According to studies, approximately 75% of patients with high AQ-10 scores later receive a clinical diagnosis of ASD. This underscores the importance of the AQ-10 test as the first step in identifying potential cases of ASD.\n",
    "\n",
    "Based on our results, where machine learning models demonstrated an accuracy of 80%, it can be considered that they predict the clinical diagnosis with a high degree of accuracy. While this result cannot be a final diagnosis, it serves as a crucial tool for the initial identification of ASD cases and referral for further medical investigations."
   ]
  }
 ],
 "metadata": {
  "kernelspec": {
   "display_name": "Python 3",
   "language": "python",
   "name": "python3"
  },
  "language_info": {
   "codemirror_mode": {
    "name": "ipython",
    "version": 3
   },
   "file_extension": ".py",
   "mimetype": "text/x-python",
   "name": "python",
   "nbconvert_exporter": "python",
   "pygments_lexer": "ipython3",
   "version": "3.8.5"
  }
 },
 "nbformat": 4,
 "nbformat_minor": 4
}
