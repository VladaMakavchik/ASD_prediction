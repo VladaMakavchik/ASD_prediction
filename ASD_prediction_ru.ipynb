{
 "cells": [
  {
   "cell_type": "markdown",
   "metadata": {},
   "source": [
    "## Дипломный проект\n",
    "\n",
    "#### Макавчик Влада DS04-onl"
   ]
  },
  {
   "cell_type": "markdown",
   "metadata": {},
   "source": [
    "### Распознавание расстройства аутистического спектра на основе результатов прохождения теста AQ-10"
   ]
  },
  {
   "cell_type": "markdown",
   "metadata": {},
   "source": [
    "Тест AQ-10 (Autism Spectrum Quotient-10) является инструментом, предназначенным для предварительной оценки возможности расстройства аутистического спектра (РАС) у взрослых, у которых нет умеренной или тяжелой неспособности к обучению. Он состоит из 10 вопросов и предоставляет краткую оценку вероятности наличия признаков аутизма.\n",
    "\n",
    "Важно отметить, что AQ-10 не является окончательной диагностической процедурой, но его результаты могут послужить основой для решения, стоит ли проводить более подробное и обширное обследование на предмет РАС. AQ-10 служит лишь инструментом для начальной оценки и не предоставляет окончательной уверенности в диагнозе."
   ]
  },
  {
   "cell_type": "markdown",
   "metadata": {},
   "source": [
    "#### Цель задачи:\n",
    "\n",
    "#### Тип решаемой задачи:\n",
    "Бинарная классификация\n",
    "\n",
    "#### Цель прогноза:\n",
    "* Предсказать подтверждение РАС у пациентов после прохождения тестирования AQ-10\n",
    "\n",
    "* Значения целевой метки классов:\n",
    "    \n",
    "    Class/ASD = 1 , РАС диагностировано\n",
    "    \n",
    "    Class/ASD = 0 , РАС не диагностировано"
   ]
  },
  {
   "cell_type": "markdown",
   "metadata": {},
   "source": [
    "Импорт необходимых библиотек"
   ]
  },
  {
   "cell_type": "code",
   "execution_count": 1,
   "metadata": {},
   "outputs": [],
   "source": [
    "import pandas as pd\n",
    "import matplotlib.pyplot as plt\n",
    "import seaborn as sns\n",
    "\n",
    "from sklearn.preprocessing import OneHotEncoder\n",
    "from sklearn.preprocessing import StandardScaler\n",
    "from sklearn.model_selection import train_test_split\n",
    "from sklearn.metrics import confusion_matrix\n",
    "from sklearn.metrics import accuracy_score\n",
    "\n",
    "from sklearn.linear_model import LogisticRegression\n",
    "from sklearn.tree import DecisionTreeClassifier\n",
    "from sklearn.ensemble import RandomForestClassifier\n",
    "from sklearn.model_selection import GridSearchCV\n",
    "from sklearn.linear_model import SGDClassifier\n",
    "from sklearn import svm\n",
    "from sklearn.ensemble import AdaBoostClassifier\n",
    "from sklearn.ensemble import VotingClassifier\n",
    "\n",
    "import tensorflow as tf\n",
    "from tensorflow.keras import models\n",
    "from tensorflow.keras import layers"
   ]
  },
  {
   "cell_type": "markdown",
   "metadata": {},
   "source": [
    "Загрузка набора данных"
   ]
  },
  {
   "cell_type": "code",
   "execution_count": 2,
   "metadata": {},
   "outputs": [],
   "source": [
    "df = pd.read_csv(\"autism-prediction/Autism-prediction/ASD.csv\", sep=';')"
   ]
  },
  {
   "cell_type": "code",
   "execution_count": 3,
   "metadata": {},
   "outputs": [
    {
     "data": {
      "text/html": [
       "<div>\n",
       "<style scoped>\n",
       "    .dataframe tbody tr th:only-of-type {\n",
       "        vertical-align: middle;\n",
       "    }\n",
       "\n",
       "    .dataframe tbody tr th {\n",
       "        vertical-align: top;\n",
       "    }\n",
       "\n",
       "    .dataframe thead th {\n",
       "        text-align: right;\n",
       "    }\n",
       "</style>\n",
       "<table border=\"1\" class=\"dataframe\">\n",
       "  <thead>\n",
       "    <tr style=\"text-align: right;\">\n",
       "      <th></th>\n",
       "      <th>ID</th>\n",
       "      <th>A1_Score</th>\n",
       "      <th>A2_Score</th>\n",
       "      <th>A3_Score</th>\n",
       "      <th>A4_Score</th>\n",
       "      <th>A5_Score</th>\n",
       "      <th>A6_Score</th>\n",
       "      <th>A7_Score</th>\n",
       "      <th>A8_Score</th>\n",
       "      <th>A9_Score</th>\n",
       "      <th>...</th>\n",
       "      <th>gender</th>\n",
       "      <th>ethnicity</th>\n",
       "      <th>jaundice</th>\n",
       "      <th>austim</th>\n",
       "      <th>contry_of_res</th>\n",
       "      <th>used_app_before</th>\n",
       "      <th>result</th>\n",
       "      <th>age_desc</th>\n",
       "      <th>relation</th>\n",
       "      <th>Class/ASD</th>\n",
       "    </tr>\n",
       "  </thead>\n",
       "  <tbody>\n",
       "    <tr>\n",
       "      <th>0</th>\n",
       "      <td>1</td>\n",
       "      <td>1</td>\n",
       "      <td>0</td>\n",
       "      <td>1</td>\n",
       "      <td>1</td>\n",
       "      <td>1</td>\n",
       "      <td>1</td>\n",
       "      <td>0</td>\n",
       "      <td>1</td>\n",
       "      <td>1</td>\n",
       "      <td>...</td>\n",
       "      <td>f</td>\n",
       "      <td>White-European</td>\n",
       "      <td>no</td>\n",
       "      <td>no</td>\n",
       "      <td>United States</td>\n",
       "      <td>no</td>\n",
       "      <td>7.819715</td>\n",
       "      <td>18 and more</td>\n",
       "      <td>Self</td>\n",
       "      <td>0</td>\n",
       "    </tr>\n",
       "    <tr>\n",
       "      <th>1</th>\n",
       "      <td>2</td>\n",
       "      <td>0</td>\n",
       "      <td>0</td>\n",
       "      <td>0</td>\n",
       "      <td>0</td>\n",
       "      <td>0</td>\n",
       "      <td>0</td>\n",
       "      <td>0</td>\n",
       "      <td>0</td>\n",
       "      <td>0</td>\n",
       "      <td>...</td>\n",
       "      <td>f</td>\n",
       "      <td>South Asian</td>\n",
       "      <td>no</td>\n",
       "      <td>no</td>\n",
       "      <td>Australia</td>\n",
       "      <td>no</td>\n",
       "      <td>10.544296</td>\n",
       "      <td>18 and more</td>\n",
       "      <td>?</td>\n",
       "      <td>0</td>\n",
       "    </tr>\n",
       "    <tr>\n",
       "      <th>2</th>\n",
       "      <td>3</td>\n",
       "      <td>1</td>\n",
       "      <td>1</td>\n",
       "      <td>1</td>\n",
       "      <td>1</td>\n",
       "      <td>1</td>\n",
       "      <td>1</td>\n",
       "      <td>0</td>\n",
       "      <td>0</td>\n",
       "      <td>1</td>\n",
       "      <td>...</td>\n",
       "      <td>f</td>\n",
       "      <td>White-European</td>\n",
       "      <td>no</td>\n",
       "      <td>no</td>\n",
       "      <td>United Kingdom</td>\n",
       "      <td>no</td>\n",
       "      <td>13.167506</td>\n",
       "      <td>18 and more</td>\n",
       "      <td>Self</td>\n",
       "      <td>1</td>\n",
       "    </tr>\n",
       "    <tr>\n",
       "      <th>3</th>\n",
       "      <td>4</td>\n",
       "      <td>0</td>\n",
       "      <td>0</td>\n",
       "      <td>0</td>\n",
       "      <td>1</td>\n",
       "      <td>0</td>\n",
       "      <td>0</td>\n",
       "      <td>0</td>\n",
       "      <td>0</td>\n",
       "      <td>0</td>\n",
       "      <td>...</td>\n",
       "      <td>f</td>\n",
       "      <td>South Asian</td>\n",
       "      <td>no</td>\n",
       "      <td>no</td>\n",
       "      <td>New Zealand</td>\n",
       "      <td>no</td>\n",
       "      <td>1.530098</td>\n",
       "      <td>18 and more</td>\n",
       "      <td>?</td>\n",
       "      <td>0</td>\n",
       "    </tr>\n",
       "    <tr>\n",
       "      <th>4</th>\n",
       "      <td>5</td>\n",
       "      <td>0</td>\n",
       "      <td>0</td>\n",
       "      <td>0</td>\n",
       "      <td>0</td>\n",
       "      <td>1</td>\n",
       "      <td>0</td>\n",
       "      <td>0</td>\n",
       "      <td>0</td>\n",
       "      <td>1</td>\n",
       "      <td>...</td>\n",
       "      <td>m</td>\n",
       "      <td>Black</td>\n",
       "      <td>no</td>\n",
       "      <td>yes</td>\n",
       "      <td>Italy</td>\n",
       "      <td>no</td>\n",
       "      <td>7.949723</td>\n",
       "      <td>18 and more</td>\n",
       "      <td>Self</td>\n",
       "      <td>0</td>\n",
       "    </tr>\n",
       "  </tbody>\n",
       "</table>\n",
       "<p>5 rows × 22 columns</p>\n",
       "</div>"
      ],
      "text/plain": [
       "   ID  A1_Score  A2_Score  A3_Score  A4_Score  A5_Score  A6_Score  A7_Score  \\\n",
       "0   1         1         0         1         1         1         1         0   \n",
       "1   2         0         0         0         0         0         0         0   \n",
       "2   3         1         1         1         1         1         1         0   \n",
       "3   4         0         0         0         1         0         0         0   \n",
       "4   5         0         0         0         0         1         0         0   \n",
       "\n",
       "   A8_Score  A9_Score  ...  gender       ethnicity jaundice austim  \\\n",
       "0         1         1  ...       f  White-European       no     no   \n",
       "1         0         0  ...       f     South Asian       no     no   \n",
       "2         0         1  ...       f  White-European       no     no   \n",
       "3         0         0  ...       f     South Asian       no     no   \n",
       "4         0         1  ...       m           Black       no    yes   \n",
       "\n",
       "    contry_of_res used_app_before     result     age_desc  relation Class/ASD  \n",
       "0   United States              no   7.819715  18 and more      Self         0  \n",
       "1       Australia              no  10.544296  18 and more         ?         0  \n",
       "2  United Kingdom              no  13.167506  18 and more      Self         1  \n",
       "3     New Zealand              no   1.530098  18 and more         ?         0  \n",
       "4           Italy              no   7.949723  18 and more      Self         0  \n",
       "\n",
       "[5 rows x 22 columns]"
      ]
     },
     "execution_count": 3,
     "metadata": {},
     "output_type": "execute_result"
    }
   ],
   "source": [
    "df.head()"
   ]
  },
  {
   "cell_type": "markdown",
   "metadata": {},
   "source": [
    "* ID - ID пациента\n",
    "\n",
    "* A1_Score - A10_Score - оценка на основе коэффициента аутистического спектра (AQ) по 10 критериям\n",
    "\n",
    "* age - возраст пациента в годах\n",
    "\n",
    "* gender - пол пациента. f - женский, m - мужской\n",
    "\n",
    "* ethnicity - этническая принадлежность пацинта\n",
    "\n",
    "* jaundice - была ли у пациента желтуха на момент рождения\n",
    "\n",
    "* autism - было ли у кого-то из близких родственников пациента диагностировано расстройство аутистического спекта \n",
    "\n",
    "* country_of_res - страна проживание пациента\n",
    "\n",
    "* used_app_before - проходил ли пациент ранее данное обследование\n",
    "\n",
    "* result - оценка результатов теста\n",
    "\n",
    "* age_desc - возраст пациента\n",
    "\n",
    "* relation - отношение пациента с тем, кто проходил тест\n",
    "\n",
    "* Class/ASD - классифицированный результат как 0 или 1. здесь 0 означает «нет», а 1 — «да». это целевой столбец"
   ]
  },
  {
   "cell_type": "markdown",
   "metadata": {},
   "source": [
    "Посмотрим общую информацию о нашем наборе данных"
   ]
  },
  {
   "cell_type": "code",
   "execution_count": 4,
   "metadata": {},
   "outputs": [
    {
     "name": "stdout",
     "output_type": "stream",
     "text": [
      "<class 'pandas.core.frame.DataFrame'>\n",
      "RangeIndex: 1000 entries, 0 to 999\n",
      "Data columns (total 22 columns):\n",
      " #   Column           Non-Null Count  Dtype  \n",
      "---  ------           --------------  -----  \n",
      " 0   ID               1000 non-null   int64  \n",
      " 1   A1_Score         1000 non-null   int64  \n",
      " 2   A2_Score         1000 non-null   int64  \n",
      " 3   A3_Score         1000 non-null   int64  \n",
      " 4   A4_Score         1000 non-null   int64  \n",
      " 5   A5_Score         1000 non-null   int64  \n",
      " 6   A6_Score         1000 non-null   int64  \n",
      " 7   A7_Score         1000 non-null   int64  \n",
      " 8   A8_Score         1000 non-null   int64  \n",
      " 9   A9_Score         1000 non-null   int64  \n",
      " 10  A10_Score        1000 non-null   int64  \n",
      " 11  age              1000 non-null   float64\n",
      " 12  gender           1000 non-null   object \n",
      " 13  ethnicity        1000 non-null   object \n",
      " 14  jaundice         1000 non-null   object \n",
      " 15  austim           1000 non-null   object \n",
      " 16  contry_of_res    1000 non-null   object \n",
      " 17  used_app_before  1000 non-null   object \n",
      " 18  result           1000 non-null   float64\n",
      " 19  age_desc         1000 non-null   object \n",
      " 20  relation         1000 non-null   object \n",
      " 21  Class/ASD        1000 non-null   int64  \n",
      "dtypes: float64(2), int64(12), object(8)\n",
      "memory usage: 172.0+ KB\n"
     ]
    }
   ],
   "source": [
    "df.info()"
   ]
  },
  {
   "cell_type": "markdown",
   "metadata": {},
   "source": [
    "Удалим столбец 'ID' потому что нам не понадобятся ID пациентов"
   ]
  },
  {
   "cell_type": "code",
   "execution_count": 5,
   "metadata": {},
   "outputs": [],
   "source": [
    "df = df.drop('ID', axis=1)"
   ]
  },
  {
   "cell_type": "markdown",
   "metadata": {},
   "source": [
    "Посмотрим на уникальные значения, которые содержатся в каждом из столбцов"
   ]
  },
  {
   "cell_type": "code",
   "execution_count": 6,
   "metadata": {},
   "outputs": [
    {
     "name": "stdout",
     "output_type": "stream",
     "text": [
      "Уникальные значения в столбце 'A1_Score': [1 0]\n",
      "Уникальные значения в столбце 'A2_Score': [0 1]\n",
      "Уникальные значения в столбце 'A3_Score': [1 0]\n",
      "Уникальные значения в столбце 'A4_Score': [1 0]\n",
      "Уникальные значения в столбце 'A5_Score': [1 0]\n",
      "Уникальные значения в столбце 'A6_Score': [1 0]\n",
      "Уникальные значения в столбце 'A7_Score': [0 1]\n",
      "Уникальные значения в столбце 'A8_Score': [1 0]\n",
      "Уникальные значения в столбце 'A9_Score': [1 0]\n",
      "Уникальные значения в столбце 'A10_Score': [1 0]\n",
      "Уникальные значения в столбце 'gender': ['f' 'm']\n",
      "Уникальные значения в столбце 'ethnicity': ['White-European' 'South Asian' 'Black' 'Asian' 'Middle Eastern ' '?'\n",
      " 'others' 'Latino' 'Turkish' 'Others' 'Hispanic' 'Pasifika']\n",
      "Уникальные значения в столбце 'jaundice': ['no' 'yes']\n",
      "Уникальные значения в столбце 'austim': ['no' 'yes']\n",
      "Уникальные значения в столбце 'contry_of_res': ['United States' 'Australia' 'United Kingdom' 'New Zealand' 'Italy'\n",
      " 'Nicaragua' 'Canada' 'United Arab Emirates' 'Netherlands' 'Sri Lanka'\n",
      " 'India' 'Armenia' 'Sierra Leone' 'Argentina' 'Azerbaijan' 'Iceland'\n",
      " 'Egypt' 'Serbia' 'Afghanistan' 'Costa Rica' 'Jordan' 'Angola' 'Pakistan'\n",
      " 'Brazil' 'Ireland' 'Kazakhstan' 'Viet Nam' 'Ethiopia' 'Austria' 'Finland'\n",
      " 'France' 'Malaysia' 'Japan' 'Spain' 'Philippines' 'Iran' 'Czech Republic'\n",
      " 'Russia' 'Romania' 'Mexico' 'Belgium' 'Aruba' 'Uruguay' 'Indonesia'\n",
      " 'Ukraine' 'AmericanSamoa' 'Germany' 'China' 'Iraq' 'Tonga' 'South Africa'\n",
      " 'Saudi Arabia' 'Hong Kong' 'Bahamas' 'Ecuador' 'Cyprus' 'Bangladesh'\n",
      " 'Oman' 'Bolivia' 'Sweden' 'Niger' 'Burundi' 'Lebanon']\n",
      "Уникальные значения в столбце 'used_app_before': ['no' 'yes']\n",
      "Уникальные значения в столбце 'age_desc': ['18 and more']\n",
      "Уникальные значения в столбце 'relation': ['Self' '?' 'Health care professional' 'Parent' 'Relative' 'Others']\n",
      "Уникальные значения в столбце 'Class/ASD': [0 1]\n"
     ]
    }
   ],
   "source": [
    "for column in df.columns:\n",
    "    if column not in ['age', 'result']:\n",
    "        unique_values = df[column].unique()\n",
    "        print(f\"Уникальные значения в столбце '{column}': {unique_values}\")"
   ]
  },
  {
   "cell_type": "markdown",
   "metadata": {},
   "source": [
    "Заменим неверное название столбцов в нашем наборе данных"
   ]
  },
  {
   "cell_type": "code",
   "execution_count": 7,
   "metadata": {},
   "outputs": [],
   "source": [
    "df = df.rename(columns = {'austim': 'autism', 'contry_of_res':'country_of_res'}, errors=\"raise\")"
   ]
  },
  {
   "cell_type": "markdown",
   "metadata": {},
   "source": [
    "Заменим в поле ethnicity значения '?' на 'Unknown', а 'others' на 'Others'.\n",
    "\n",
    "В поле relation значения '?' также заменим на 'Unknown'"
   ]
  },
  {
   "cell_type": "code",
   "execution_count": 8,
   "metadata": {},
   "outputs": [],
   "source": [
    "df.loc[df['ethnicity'] == '?', 'ethnicity'] = 'Unknown'\n",
    "df.loc[df['ethnicity'] == 'others', 'ethnicity'] = 'Others'\n",
    "\n",
    "df.loc[df['relation'] == '?', 'relation'] = 'Unknown'"
   ]
  },
  {
   "cell_type": "markdown",
   "metadata": {},
   "source": [
    "Посмотрев на наш набор данных, видим, что столбец age_desc не важен, так как на всем наборе данных там одинаковые значения. Поэтому уберем его."
   ]
  },
  {
   "cell_type": "code",
   "execution_count": 9,
   "metadata": {},
   "outputs": [],
   "source": [
    "df = df.drop(['age_desc'], axis=1)"
   ]
  },
  {
   "cell_type": "markdown",
   "metadata": {},
   "source": [
    "В нашем наборе данных есть поле 'age', представляющее возраст пациентов в форме чисел с плавающей точкой. Для удобства анализа и в соответствии с традицией измерения возраста в целых числах, мы выполним преобразование этого поля, заменив дробные значения на целочисленные данные, отражающие возраст пациентов."
   ]
  },
  {
   "cell_type": "code",
   "execution_count": 10,
   "metadata": {},
   "outputs": [],
   "source": [
    "df['age'] = df['age'].astype(int)"
   ]
  },
  {
   "cell_type": "code",
   "execution_count": 11,
   "metadata": {},
   "outputs": [
    {
     "data": {
      "text/html": [
       "<div>\n",
       "<style scoped>\n",
       "    .dataframe tbody tr th:only-of-type {\n",
       "        vertical-align: middle;\n",
       "    }\n",
       "\n",
       "    .dataframe tbody tr th {\n",
       "        vertical-align: top;\n",
       "    }\n",
       "\n",
       "    .dataframe thead th {\n",
       "        text-align: right;\n",
       "    }\n",
       "</style>\n",
       "<table border=\"1\" class=\"dataframe\">\n",
       "  <thead>\n",
       "    <tr style=\"text-align: right;\">\n",
       "      <th></th>\n",
       "      <th>A1_Score</th>\n",
       "      <th>A2_Score</th>\n",
       "      <th>A3_Score</th>\n",
       "      <th>A4_Score</th>\n",
       "      <th>A5_Score</th>\n",
       "      <th>A6_Score</th>\n",
       "      <th>A7_Score</th>\n",
       "      <th>A8_Score</th>\n",
       "      <th>A9_Score</th>\n",
       "      <th>A10_Score</th>\n",
       "      <th>age</th>\n",
       "      <th>gender</th>\n",
       "      <th>ethnicity</th>\n",
       "      <th>jaundice</th>\n",
       "      <th>autism</th>\n",
       "      <th>country_of_res</th>\n",
       "      <th>used_app_before</th>\n",
       "      <th>result</th>\n",
       "      <th>relation</th>\n",
       "      <th>Class/ASD</th>\n",
       "    </tr>\n",
       "  </thead>\n",
       "  <tbody>\n",
       "    <tr>\n",
       "      <th>0</th>\n",
       "      <td>1</td>\n",
       "      <td>0</td>\n",
       "      <td>1</td>\n",
       "      <td>1</td>\n",
       "      <td>1</td>\n",
       "      <td>1</td>\n",
       "      <td>0</td>\n",
       "      <td>1</td>\n",
       "      <td>1</td>\n",
       "      <td>1</td>\n",
       "      <td>18</td>\n",
       "      <td>f</td>\n",
       "      <td>White-European</td>\n",
       "      <td>no</td>\n",
       "      <td>no</td>\n",
       "      <td>United States</td>\n",
       "      <td>no</td>\n",
       "      <td>7.819715</td>\n",
       "      <td>Self</td>\n",
       "      <td>0</td>\n",
       "    </tr>\n",
       "    <tr>\n",
       "      <th>1</th>\n",
       "      <td>0</td>\n",
       "      <td>0</td>\n",
       "      <td>0</td>\n",
       "      <td>0</td>\n",
       "      <td>0</td>\n",
       "      <td>0</td>\n",
       "      <td>0</td>\n",
       "      <td>0</td>\n",
       "      <td>0</td>\n",
       "      <td>1</td>\n",
       "      <td>13</td>\n",
       "      <td>f</td>\n",
       "      <td>South Asian</td>\n",
       "      <td>no</td>\n",
       "      <td>no</td>\n",
       "      <td>Australia</td>\n",
       "      <td>no</td>\n",
       "      <td>10.544296</td>\n",
       "      <td>Unknown</td>\n",
       "      <td>0</td>\n",
       "    </tr>\n",
       "    <tr>\n",
       "      <th>2</th>\n",
       "      <td>1</td>\n",
       "      <td>1</td>\n",
       "      <td>1</td>\n",
       "      <td>1</td>\n",
       "      <td>1</td>\n",
       "      <td>1</td>\n",
       "      <td>0</td>\n",
       "      <td>0</td>\n",
       "      <td>1</td>\n",
       "      <td>1</td>\n",
       "      <td>14</td>\n",
       "      <td>f</td>\n",
       "      <td>White-European</td>\n",
       "      <td>no</td>\n",
       "      <td>no</td>\n",
       "      <td>United Kingdom</td>\n",
       "      <td>no</td>\n",
       "      <td>13.167506</td>\n",
       "      <td>Self</td>\n",
       "      <td>1</td>\n",
       "    </tr>\n",
       "    <tr>\n",
       "      <th>3</th>\n",
       "      <td>0</td>\n",
       "      <td>0</td>\n",
       "      <td>0</td>\n",
       "      <td>1</td>\n",
       "      <td>0</td>\n",
       "      <td>0</td>\n",
       "      <td>0</td>\n",
       "      <td>0</td>\n",
       "      <td>0</td>\n",
       "      <td>0</td>\n",
       "      <td>61</td>\n",
       "      <td>f</td>\n",
       "      <td>South Asian</td>\n",
       "      <td>no</td>\n",
       "      <td>no</td>\n",
       "      <td>New Zealand</td>\n",
       "      <td>no</td>\n",
       "      <td>1.530098</td>\n",
       "      <td>Unknown</td>\n",
       "      <td>0</td>\n",
       "    </tr>\n",
       "    <tr>\n",
       "      <th>4</th>\n",
       "      <td>0</td>\n",
       "      <td>0</td>\n",
       "      <td>0</td>\n",
       "      <td>0</td>\n",
       "      <td>1</td>\n",
       "      <td>0</td>\n",
       "      <td>0</td>\n",
       "      <td>0</td>\n",
       "      <td>1</td>\n",
       "      <td>1</td>\n",
       "      <td>14</td>\n",
       "      <td>m</td>\n",
       "      <td>Black</td>\n",
       "      <td>no</td>\n",
       "      <td>yes</td>\n",
       "      <td>Italy</td>\n",
       "      <td>no</td>\n",
       "      <td>7.949723</td>\n",
       "      <td>Self</td>\n",
       "      <td>0</td>\n",
       "    </tr>\n",
       "  </tbody>\n",
       "</table>\n",
       "</div>"
      ],
      "text/plain": [
       "   A1_Score  A2_Score  A3_Score  A4_Score  A5_Score  A6_Score  A7_Score  \\\n",
       "0         1         0         1         1         1         1         0   \n",
       "1         0         0         0         0         0         0         0   \n",
       "2         1         1         1         1         1         1         0   \n",
       "3         0         0         0         1         0         0         0   \n",
       "4         0         0         0         0         1         0         0   \n",
       "\n",
       "   A8_Score  A9_Score  A10_Score  age gender       ethnicity jaundice autism  \\\n",
       "0         1         1          1   18      f  White-European       no     no   \n",
       "1         0         0          1   13      f     South Asian       no     no   \n",
       "2         0         1          1   14      f  White-European       no     no   \n",
       "3         0         0          0   61      f     South Asian       no     no   \n",
       "4         0         1          1   14      m           Black       no    yes   \n",
       "\n",
       "   country_of_res used_app_before     result relation  Class/ASD  \n",
       "0   United States              no   7.819715     Self          0  \n",
       "1       Australia              no  10.544296  Unknown          0  \n",
       "2  United Kingdom              no  13.167506     Self          1  \n",
       "3     New Zealand              no   1.530098  Unknown          0  \n",
       "4           Italy              no   7.949723     Self          0  "
      ]
     },
     "execution_count": 11,
     "metadata": {},
     "output_type": "execute_result"
    }
   ],
   "source": [
    "df.head()"
   ]
  },
  {
   "cell_type": "markdown",
   "metadata": {},
   "source": [
    "Посчитаем колиство положительных и отрицательных результатов диагностики РАС и сравним их."
   ]
  },
  {
   "cell_type": "code",
   "execution_count": 12,
   "metadata": {},
   "outputs": [],
   "source": [
    "ASD_pos = (df['Class/ASD'] == 1).sum()\n",
    "ASD_neg = (df['Class/ASD'] == 0).sum()"
   ]
  },
  {
   "cell_type": "code",
   "execution_count": 13,
   "metadata": {},
   "outputs": [
    {
     "name": "stdout",
     "output_type": "stream",
     "text": [
      "Количество пациентов с положительным результатом теста: 275\n",
      "Количество пациентов с отрицательным результатом теста: 725\n"
     ]
    }
   ],
   "source": [
    "print('Количество пациентов с положительным результатом теста:', ASD_pos)\n",
    "print('Количество пациентов с отрицательным результатом теста:', ASD_neg)"
   ]
  },
  {
   "cell_type": "code",
   "execution_count": 14,
   "metadata": {},
   "outputs": [
    {
     "data": {
      "image/png": "[encoded data removed]",
      "text/plain": [
       "<Figure size 720x432 with 1 Axes>"
      ]
     },
     "metadata": {},
     "output_type": "display_data"
    }
   ],
   "source": [
    "plt.figure(figsize=(10, 6))\n",
    "values = [ASD_pos, ASD_neg]\n",
    "plt.pie(values, labels=['РАС диагностировано', 'РАС не диагностировано'], autopct='%1.1f%%', startangle=140)\n",
    "plt.title('Сравнение положительных и отрицательных результатов диагностики РАС')\n",
    "plt.show()"
   ]
  },
  {
   "cell_type": "markdown",
   "metadata": {},
   "source": [
    "275 человек (27.5%) из нашего набора данных имеют положительный диагноз РАС. 725 человек (72.5%) имеют отрицательный диагноз РАС."
   ]
  },
  {
   "cell_type": "markdown",
   "metadata": {},
   "source": [
    "Проанализируем результаты диагностики РАС по другим характеристикам"
   ]
  },
  {
   "cell_type": "markdown",
   "metadata": {},
   "source": [
    "##### Возраст пациента"
   ]
  },
  {
   "cell_type": "code",
   "execution_count": 15,
   "metadata": {},
   "outputs": [
    {
     "data": {
      "image/png": "[encoded data removed]",
      "text/plain": [
       "<Figure size 1296x576 with 1 Axes>"
      ]
     },
     "metadata": {
      "needs_background": "light"
     },
     "output_type": "display_data"
    }
   ],
   "source": [
    "age_counts = df.groupby(['age', 'Class/ASD']).size().unstack(fill_value=0)\n",
    "\n",
    "age_counts.plot(kind='bar', figsize=(18, 8))\n",
    "plt.title('Диаграмма наличия РАС по возрасту')\n",
    "plt.xlabel('Возраст')\n",
    "plt.ylabel('Количество пациентов')\n",
    "plt.legend(['Отрицательный результат', 'Положительный результат'], title='Результат теста')\n",
    "plt.xticks(rotation=0)\n",
    "plt.show()"
   ]
  },
  {
   "cell_type": "markdown",
   "metadata": {},
   "source": [
    "Более подробно посмотрим на распределение положительных и отрицательных результатов тестирования по каждому возрасту"
   ]
  },
  {
   "cell_type": "code",
   "execution_count": 16,
   "metadata": {},
   "outputs": [
    {
     "data": {
      "image/png": "[encoded data removed]",
      "text/plain": [
       "<Figure size 1440x720 with 1 Axes>"
      ]
     },
     "metadata": {
      "needs_background": "light"
     },
     "output_type": "display_data"
    }
   ],
   "source": [
    "grouped_data = df.groupby(['age', 'Class/ASD']).size().unstack(fill_value=0)\n",
    "\n",
    "total_counts = grouped_data.sum(axis=1)\n",
    "\n",
    "grouped_data['Процент отрицательных'] = (grouped_data[0] / total_counts * 100).round(2)\n",
    "grouped_data['Процент положительных'] = (grouped_data[1] / total_counts * 100).round(2)\n",
    "\n",
    "grouped_data[['Процент отрицательных', 'Процент положительных']].plot(kind='bar', stacked=True, figsize=(20, 10))\n",
    "\n",
    "plt.legend(['Процент отрицательных', 'Процент положительных'], title='Результат теста', bbox_to_anchor=(0.5, -0.10), loc='upper center', fontsize='large')\n",
    "plt.axhline(y=50, color='r', linestyle='--') # линия, которая показывает 50%\n",
    "plt.title('Диаграмма по возрасту и результату')\n",
    "plt.xlabel('Возраст')\n",
    "plt.ylabel('Процент записей')\n",
    "plt.xticks(rotation=0)\n",
    "\n",
    "plt.show()"
   ]
  },
  {
   "cell_type": "markdown",
   "metadata": {},
   "source": [
    "Посчитаем количество тестируемых пациентов."
   ]
  },
  {
   "cell_type": "code",
   "execution_count": 17,
   "metadata": {},
   "outputs": [],
   "source": [
    "grouped_data['Кол-во пациентов'] = grouped_data[0] + grouped_data[1]"
   ]
  },
  {
   "cell_type": "code",
   "execution_count": 18,
   "metadata": {},
   "outputs": [
    {
     "data": {
      "text/html": [
       "<div>\n",
       "<style scoped>\n",
       "    .dataframe tbody tr th:only-of-type {\n",
       "        vertical-align: middle;\n",
       "    }\n",
       "\n",
       "    .dataframe tbody tr th {\n",
       "        vertical-align: top;\n",
       "    }\n",
       "\n",
       "    .dataframe thead th {\n",
       "        text-align: right;\n",
       "    }\n",
       "</style>\n",
       "<table border=\"1\" class=\"dataframe\">\n",
       "  <thead>\n",
       "    <tr style=\"text-align: right;\">\n",
       "      <th>Class/ASD</th>\n",
       "      <th>0</th>\n",
       "      <th>1</th>\n",
       "      <th>Процент отрицательных</th>\n",
       "      <th>Процент положительных</th>\n",
       "      <th>Кол-во пациентов</th>\n",
       "    </tr>\n",
       "    <tr>\n",
       "      <th>age</th>\n",
       "      <th></th>\n",
       "      <th></th>\n",
       "      <th></th>\n",
       "      <th></th>\n",
       "      <th></th>\n",
       "    </tr>\n",
       "  </thead>\n",
       "  <tbody>\n",
       "    <tr>\n",
       "      <th>7</th>\n",
       "      <td>0</td>\n",
       "      <td>1</td>\n",
       "      <td>0.00</td>\n",
       "      <td>100.00</td>\n",
       "      <td>1</td>\n",
       "    </tr>\n",
       "    <tr>\n",
       "      <th>9</th>\n",
       "      <td>1</td>\n",
       "      <td>0</td>\n",
       "      <td>100.00</td>\n",
       "      <td>0.00</td>\n",
       "      <td>1</td>\n",
       "    </tr>\n",
       "    <tr>\n",
       "      <th>10</th>\n",
       "      <td>2</td>\n",
       "      <td>2</td>\n",
       "      <td>50.00</td>\n",
       "      <td>50.00</td>\n",
       "      <td>4</td>\n",
       "    </tr>\n",
       "    <tr>\n",
       "      <th>11</th>\n",
       "      <td>3</td>\n",
       "      <td>3</td>\n",
       "      <td>50.00</td>\n",
       "      <td>50.00</td>\n",
       "      <td>6</td>\n",
       "    </tr>\n",
       "    <tr>\n",
       "      <th>12</th>\n",
       "      <td>20</td>\n",
       "      <td>6</td>\n",
       "      <td>76.92</td>\n",
       "      <td>23.08</td>\n",
       "      <td>26</td>\n",
       "    </tr>\n",
       "  </tbody>\n",
       "</table>\n",
       "</div>"
      ],
      "text/plain": [
       "Class/ASD   0  1  Процент отрицательных  Процент положительных  \\\n",
       "age                                                              \n",
       "7           0  1                   0.00                 100.00   \n",
       "9           1  0                 100.00                   0.00   \n",
       "10          2  2                  50.00                  50.00   \n",
       "11          3  3                  50.00                  50.00   \n",
       "12         20  6                  76.92                  23.08   \n",
       "\n",
       "Class/ASD  Кол-во пациентов  \n",
       "age                          \n",
       "7                         1  \n",
       "9                         1  \n",
       "10                        4  \n",
       "11                        6  \n",
       "12                       26  "
      ]
     },
     "execution_count": 18,
     "metadata": {},
     "output_type": "execute_result"
    }
   ],
   "source": [
    "grouped_data.head()"
   ]
  },
  {
   "cell_type": "code",
   "execution_count": 19,
   "metadata": {},
   "outputs": [
    {
     "name": "stdout",
     "output_type": "stream",
     "text": [
      "Среднее количество пациентов в возрасте от 12 до 31, которые проходили тестирование: 33.0\n"
     ]
    }
   ],
   "source": [
    "print('Среднее количество пациентов в возрасте от 12 до 31, которые проходили тестирование: ' + str(grouped_data['Кол-во пациентов'][3:26].mean()))"
   ]
  },
  {
   "cell_type": "code",
   "execution_count": 20,
   "metadata": {},
   "outputs": [
    {
     "name": "stdout",
     "output_type": "stream",
     "text": [
      "Среднее количество пациентов старше 31 года, которые проходили тестирование: 6.0256410256410255\n"
     ]
    }
   ],
   "source": [
    "print('Среднее количество пациентов старше 31 года, которые проходили тестирование: ' + str(grouped_data['Кол-во пациентов'][26:66].mean()))"
   ]
  },
  {
   "cell_type": "markdown",
   "metadata": {},
   "source": [
    "Посчитаем средний процент количества пациентов с отрицательным и положительным результатом тестирования"
   ]
  },
  {
   "cell_type": "code",
   "execution_count": 21,
   "metadata": {},
   "outputs": [
    {
     "name": "stdout",
     "output_type": "stream",
     "text": [
      "Среднее процент отрицательных результатов тестирования 69.15938461538462\n",
      "Среднее процент положительных результатов тестирования 30.840615384615386\n"
     ]
    }
   ],
   "source": [
    "print('Среднее процент отрицательных результатов тестирования ' + str(grouped_data['Процент отрицательных'].mean()))\n",
    "print('Среднее процент положительных результатов тестирования ' + str(grouped_data['Процент положительных'].mean()))"
   ]
  },
  {
   "cell_type": "code",
   "execution_count": 22,
   "metadata": {},
   "outputs": [
    {
     "name": "stdout",
     "output_type": "stream",
     "text": [
      "Среднее процент положительных результатов тестирования пациентов в возрасте от 12 до 31 года: 26.110869565217385\n"
     ]
    }
   ],
   "source": [
    "print('Среднее процент положительных результатов тестирования пациентов в возрасте от 12 до 31 года: ' + str(grouped_data['Процент положительных'][3:26].mean()))"
   ]
  },
  {
   "cell_type": "code",
   "execution_count": 23,
   "metadata": {},
   "outputs": [
    {
     "name": "stdout",
     "output_type": "stream",
     "text": [
      "Среднее процент положительных результатов тестирования пациентов старше 31 года: 32.15615384615385\n"
     ]
    }
   ],
   "source": [
    "print('Среднее процент положительных результатов тестирования пациентов старше 31 года: ' + str(grouped_data['Процент положительных'][26:66].mean()))"
   ]
  },
  {
   "cell_type": "markdown",
   "metadata": {},
   "source": [
    "Основная группа пациентов, прошедших тестирование, находится в возрастном диапазоне от 12 до 31 лет, и их среднее количество составляет 33 человека. В тоже время, для пациентов старше 31 года это среднее количество сокращается до 6 человек. Это указывает на более активное прохождение тестирования в молодом возрасте.\n",
    "\n",
    "Анализируя результаты тестирования, мы видим, что средний процент пациентов с положительным диагнозом РАС составляет 30.84%, в то время как 69.16% имеют отрицательный диагноз.\n",
    "\n",
    "Если мы рассматриваем эти результаты в разрезе возрастных групп, то видим, что в возрасте от 12 до 31 лет средний процент положительно диагностированных РАС немного снижается и составляет 26.11%. В то время как у пациентов старше 31 года средний процент положительных диагнозов увеличивается до 32.16%."
   ]
  },
  {
   "cell_type": "markdown",
   "metadata": {},
   "source": [
    "##### Пол пациента"
   ]
  },
  {
   "cell_type": "code",
   "execution_count": 24,
   "metadata": {},
   "outputs": [
    {
     "data": {
      "image/png": "[encoded data removed]",
      "text/plain": [
       "<Figure size 1080x432 with 1 Axes>"
      ]
     },
     "metadata": {
      "needs_background": "light"
     },
     "output_type": "display_data"
    }
   ],
   "source": [
    "gender_counts = df.groupby(['gender', 'Class/ASD']).size().unstack(fill_value=0)\n",
    "\n",
    "gender_counts.plot(kind='bar', figsize=(15, 6))\n",
    "plt.title('Диаграмма наличия РАС по полу')\n",
    "plt.xlabel('Пол')\n",
    "plt.ylabel('Количество пациентов')\n",
    "plt.legend(['Отрицательный результат', 'Положительный результат'], title='Результат теста')\n",
    "plt.xticks(rotation=0)\n",
    "plt.show()"
   ]
  },
  {
   "cell_type": "markdown",
   "metadata": {},
   "source": [
    "Посчитаем общее количество пациентов по полу"
   ]
  },
  {
   "cell_type": "code",
   "execution_count": 25,
   "metadata": {},
   "outputs": [],
   "source": [
    "gender_counts['Пациенты'] = gender_counts[0] + gender_counts[1]"
   ]
  },
  {
   "cell_type": "markdown",
   "metadata": {},
   "source": [
    "Посчитаем процент положительных и отрицательных диагнозов РАС в разрезе каждого пола"
   ]
  },
  {
   "cell_type": "code",
   "execution_count": 26,
   "metadata": {},
   "outputs": [],
   "source": [
    "gender_counts['Процент отрицательных'] = (gender_counts[0] / gender_counts['Пациенты'] * 100).round(2)\n",
    "gender_counts['Процент положительных'] = (gender_counts[1] / gender_counts['Пациенты'] * 100).round(2)"
   ]
  },
  {
   "cell_type": "code",
   "execution_count": 27,
   "metadata": {},
   "outputs": [
    {
     "data": {
      "text/html": [
       "<div>\n",
       "<style scoped>\n",
       "    .dataframe tbody tr th:only-of-type {\n",
       "        vertical-align: middle;\n",
       "    }\n",
       "\n",
       "    .dataframe tbody tr th {\n",
       "        vertical-align: top;\n",
       "    }\n",
       "\n",
       "    .dataframe thead th {\n",
       "        text-align: right;\n",
       "    }\n",
       "</style>\n",
       "<table border=\"1\" class=\"dataframe\">\n",
       "  <thead>\n",
       "    <tr style=\"text-align: right;\">\n",
       "      <th>Class/ASD</th>\n",
       "      <th>0</th>\n",
       "      <th>1</th>\n",
       "      <th>Пациенты</th>\n",
       "      <th>Процент отрицательных</th>\n",
       "      <th>Процент положительных</th>\n",
       "    </tr>\n",
       "    <tr>\n",
       "      <th>gender</th>\n",
       "      <th></th>\n",
       "      <th></th>\n",
       "      <th></th>\n",
       "      <th></th>\n",
       "      <th></th>\n",
       "    </tr>\n",
       "  </thead>\n",
       "  <tbody>\n",
       "    <tr>\n",
       "      <th>f</th>\n",
       "      <td>355</td>\n",
       "      <td>170</td>\n",
       "      <td>525</td>\n",
       "      <td>67.62</td>\n",
       "      <td>32.38</td>\n",
       "    </tr>\n",
       "    <tr>\n",
       "      <th>m</th>\n",
       "      <td>370</td>\n",
       "      <td>105</td>\n",
       "      <td>475</td>\n",
       "      <td>77.89</td>\n",
       "      <td>22.11</td>\n",
       "    </tr>\n",
       "  </tbody>\n",
       "</table>\n",
       "</div>"
      ],
      "text/plain": [
       "Class/ASD    0    1  Пациенты  Процент отрицательных  Процент положительных\n",
       "gender                                                                     \n",
       "f          355  170       525                  67.62                  32.38\n",
       "m          370  105       475                  77.89                  22.11"
      ]
     },
     "execution_count": 27,
     "metadata": {},
     "output_type": "execute_result"
    }
   ],
   "source": [
    "gender_counts"
   ]
  },
  {
   "cell_type": "code",
   "execution_count": 28,
   "metadata": {},
   "outputs": [
    {
     "name": "stdout",
     "output_type": "stream",
     "text": [
      "Процент пациентов женщин среди всех пациентов: 52.5\n"
     ]
    }
   ],
   "source": [
    "print('Процент пациентов женщин среди всех пациентов: ' + str(gender_counts['Пациенты'][0] / (gender_counts['Пациенты'][0] + gender_counts['Пациенты'][1]) * 100))"
   ]
  },
  {
   "cell_type": "code",
   "execution_count": 29,
   "metadata": {},
   "outputs": [
    {
     "name": "stdout",
     "output_type": "stream",
     "text": [
      "Процент положительных диагнозов РАС среди общего количества женщин: 32.38\n"
     ]
    }
   ],
   "source": [
    "print('Процент положительных диагнозов РАС среди общего количества женщин: ' + str(gender_counts['Процент положительных'][0]))"
   ]
  },
  {
   "cell_type": "code",
   "execution_count": 30,
   "metadata": {},
   "outputs": [
    {
     "name": "stdout",
     "output_type": "stream",
     "text": [
      "Процент положительных диагнозов РАС среди общего количества мужчин: 22.11\n"
     ]
    }
   ],
   "source": [
    "print('Процент положительных диагнозов РАС среди общего количества мужчин: ' + str(gender_counts['Процент положительных'][1]))"
   ]
  },
  {
   "cell_type": "markdown",
   "metadata": {},
   "source": [
    "В нашем наборе данных больше женщин, чем мужчин. Женщины составляют 52.5% от общего количества пациентов, в то время как мужчины составляют 47.5%. Это может быть связано с более высокой чувствительностью женщин к ранним симптомам или чащей медицинской консультацией.\n",
    "\n",
    "Анализируя результаты диагностики аутизма (РАС), видно, что процент положительных диагнозов среди женщин составляет 32.38%, в то время как среди мужчин этот процент ниже и составляет 22.11%. Таким образом, больше женщин диагностируется с РАС по сравнению с мужчинами, несмотря на то, что количество пациентов по полу примерно равно."
   ]
  },
  {
   "cell_type": "markdown",
   "metadata": {},
   "source": [
    "##### Этническая принадлежность"
   ]
  },
  {
   "cell_type": "code",
   "execution_count": 31,
   "metadata": {},
   "outputs": [
    {
     "data": {
      "image/png": "[encoded data removed]",
      "text/plain": [
       "<Figure size 1296x432 with 1 Axes>"
      ]
     },
     "metadata": {
      "needs_background": "light"
     },
     "output_type": "display_data"
    }
   ],
   "source": [
    "ethnicity_counts = df.groupby(['ethnicity', 'Class/ASD']).size().unstack(fill_value=0)\n",
    "\n",
    "ethnicity_counts.plot(kind='bar', figsize=(18, 6))\n",
    "plt.title('Диаграмма наличия РАС по этнической принадлежности')\n",
    "plt.xlabel('Этническая принадлежность')\n",
    "plt.ylabel('Количество пациентов')\n",
    "plt.legend(['Отрицательный результат', 'Положительный результат'], title='Результат теста')\n",
    "plt.xticks(rotation=0)\n",
    "plt.show()"
   ]
  },
  {
   "cell_type": "markdown",
   "metadata": {},
   "source": [
    "Посчитаем количество пациентов в разрезе каждойэтнической группы"
   ]
  },
  {
   "cell_type": "code",
   "execution_count": 32,
   "metadata": {},
   "outputs": [],
   "source": [
    "ethnicity_counts['Общее кол-во пациентов'] = ethnicity_counts[0] + ethnicity_counts[1]"
   ]
  },
  {
   "cell_type": "markdown",
   "metadata": {},
   "source": [
    "Посчитаем процент положительно диагностированных пациентов по каждой из этнических групп"
   ]
  },
  {
   "cell_type": "code",
   "execution_count": 33,
   "metadata": {},
   "outputs": [],
   "source": [
    "ethnicity_counts['% положительных'] = (ethnicity_counts[1] / ethnicity_counts['Общее кол-во пациентов'] * 100).round(2)"
   ]
  },
  {
   "cell_type": "markdown",
   "metadata": {},
   "source": [
    "Посчитаем, какой процент составляют пациенты данной этнической группы относительно всех пациентов."
   ]
  },
  {
   "cell_type": "code",
   "execution_count": 34,
   "metadata": {},
   "outputs": [],
   "source": [
    "ethnicity_counts['% общего кол-ва пациентов'] = (ethnicity_counts['Общее кол-во пациентов'] / 1000 * 100).round(2)"
   ]
  },
  {
   "cell_type": "markdown",
   "metadata": {},
   "source": [
    "Рассмотрим положительно диагностированных пациентов каждой этнической группы относительно всех пациентов."
   ]
  },
  {
   "cell_type": "markdown",
   "metadata": {},
   "source": [
    "Посчитаем процент положительных пациентов в этнической группе относительно всех этнических групп"
   ]
  },
  {
   "cell_type": "code",
   "execution_count": 35,
   "metadata": {},
   "outputs": [],
   "source": [
    "ethnicity_counts['% положительных пациентов в данной этнич. гр. относительно всех'] = (ethnicity_counts[1] / 1000 * 100).round(2)"
   ]
  },
  {
   "cell_type": "markdown",
   "metadata": {},
   "source": [
    "Посчитаем процент положительных пациентов в этнической группе относительно всех положительных пациентов"
   ]
  },
  {
   "cell_type": "code",
   "execution_count": 36,
   "metadata": {},
   "outputs": [],
   "source": [
    "ethnicity_counts['% положительных пациентов в данной этнич. гр. относительно всех положительных'] = (ethnicity_counts[1] / ASD_pos * 100).round(2)"
   ]
  },
  {
   "cell_type": "code",
   "execution_count": 37,
   "metadata": {},
   "outputs": [
    {
     "data": {
      "text/html": [
       "<div>\n",
       "<style scoped>\n",
       "    .dataframe tbody tr th:only-of-type {\n",
       "        vertical-align: middle;\n",
       "    }\n",
       "\n",
       "    .dataframe tbody tr th {\n",
       "        vertical-align: top;\n",
       "    }\n",
       "\n",
       "    .dataframe thead th {\n",
       "        text-align: right;\n",
       "    }\n",
       "</style>\n",
       "<table border=\"1\" class=\"dataframe\">\n",
       "  <thead>\n",
       "    <tr style=\"text-align: right;\">\n",
       "      <th>Class/ASD</th>\n",
       "      <th>0</th>\n",
       "      <th>1</th>\n",
       "      <th>Общее кол-во пациентов</th>\n",
       "      <th>% положительных</th>\n",
       "      <th>% общего кол-ва пациентов</th>\n",
       "      <th>% положительных пациентов в данной этнич. гр. относительно всех</th>\n",
       "      <th>% положительных пациентов в данной этнич. гр. относительно всех положительных</th>\n",
       "    </tr>\n",
       "    <tr>\n",
       "      <th>ethnicity</th>\n",
       "      <th></th>\n",
       "      <th></th>\n",
       "      <th></th>\n",
       "      <th></th>\n",
       "      <th></th>\n",
       "      <th></th>\n",
       "      <th></th>\n",
       "    </tr>\n",
       "  </thead>\n",
       "  <tbody>\n",
       "    <tr>\n",
       "      <th>Asian</th>\n",
       "      <td>135</td>\n",
       "      <td>30</td>\n",
       "      <td>165</td>\n",
       "      <td>18.18</td>\n",
       "      <td>16.5</td>\n",
       "      <td>3.0</td>\n",
       "      <td>10.91</td>\n",
       "    </tr>\n",
       "    <tr>\n",
       "      <th>Black</th>\n",
       "      <td>44</td>\n",
       "      <td>11</td>\n",
       "      <td>55</td>\n",
       "      <td>20.00</td>\n",
       "      <td>5.5</td>\n",
       "      <td>1.1</td>\n",
       "      <td>4.00</td>\n",
       "    </tr>\n",
       "    <tr>\n",
       "      <th>Hispanic</th>\n",
       "      <td>15</td>\n",
       "      <td>5</td>\n",
       "      <td>20</td>\n",
       "      <td>25.00</td>\n",
       "      <td>2.0</td>\n",
       "      <td>0.5</td>\n",
       "      <td>1.82</td>\n",
       "    </tr>\n",
       "    <tr>\n",
       "      <th>Latino</th>\n",
       "      <td>31</td>\n",
       "      <td>20</td>\n",
       "      <td>51</td>\n",
       "      <td>39.22</td>\n",
       "      <td>5.1</td>\n",
       "      <td>2.0</td>\n",
       "      <td>7.27</td>\n",
       "    </tr>\n",
       "    <tr>\n",
       "      <th>Middle Eastern</th>\n",
       "      <td>128</td>\n",
       "      <td>22</td>\n",
       "      <td>150</td>\n",
       "      <td>14.67</td>\n",
       "      <td>15.0</td>\n",
       "      <td>2.2</td>\n",
       "      <td>8.00</td>\n",
       "    </tr>\n",
       "    <tr>\n",
       "      <th>Others</th>\n",
       "      <td>24</td>\n",
       "      <td>8</td>\n",
       "      <td>32</td>\n",
       "      <td>25.00</td>\n",
       "      <td>3.2</td>\n",
       "      <td>0.8</td>\n",
       "      <td>2.91</td>\n",
       "    </tr>\n",
       "    <tr>\n",
       "      <th>Pasifika</th>\n",
       "      <td>20</td>\n",
       "      <td>5</td>\n",
       "      <td>25</td>\n",
       "      <td>20.00</td>\n",
       "      <td>2.5</td>\n",
       "      <td>0.5</td>\n",
       "      <td>1.82</td>\n",
       "    </tr>\n",
       "    <tr>\n",
       "      <th>South Asian</th>\n",
       "      <td>39</td>\n",
       "      <td>5</td>\n",
       "      <td>44</td>\n",
       "      <td>11.36</td>\n",
       "      <td>4.4</td>\n",
       "      <td>0.5</td>\n",
       "      <td>1.82</td>\n",
       "    </tr>\n",
       "    <tr>\n",
       "      <th>Turkish</th>\n",
       "      <td>10</td>\n",
       "      <td>1</td>\n",
       "      <td>11</td>\n",
       "      <td>9.09</td>\n",
       "      <td>1.1</td>\n",
       "      <td>0.1</td>\n",
       "      <td>0.36</td>\n",
       "    </tr>\n",
       "    <tr>\n",
       "      <th>Unknown</th>\n",
       "      <td>158</td>\n",
       "      <td>30</td>\n",
       "      <td>188</td>\n",
       "      <td>15.96</td>\n",
       "      <td>18.8</td>\n",
       "      <td>3.0</td>\n",
       "      <td>10.91</td>\n",
       "    </tr>\n",
       "    <tr>\n",
       "      <th>White-European</th>\n",
       "      <td>121</td>\n",
       "      <td>138</td>\n",
       "      <td>259</td>\n",
       "      <td>53.28</td>\n",
       "      <td>25.9</td>\n",
       "      <td>13.8</td>\n",
       "      <td>50.18</td>\n",
       "    </tr>\n",
       "  </tbody>\n",
       "</table>\n",
       "</div>"
      ],
      "text/plain": [
       "Class/ASD          0    1  Общее кол-во пациентов  % положительных  \\\n",
       "ethnicity                                                            \n",
       "Asian            135   30                     165            18.18   \n",
       "Black             44   11                      55            20.00   \n",
       "Hispanic          15    5                      20            25.00   \n",
       "Latino            31   20                      51            39.22   \n",
       "Middle Eastern   128   22                     150            14.67   \n",
       "Others            24    8                      32            25.00   \n",
       "Pasifika          20    5                      25            20.00   \n",
       "South Asian       39    5                      44            11.36   \n",
       "Turkish           10    1                      11             9.09   \n",
       "Unknown          158   30                     188            15.96   \n",
       "White-European   121  138                     259            53.28   \n",
       "\n",
       "Class/ASD        % общего кол-ва пациентов  \\\n",
       "ethnicity                                    \n",
       "Asian                                 16.5   \n",
       "Black                                  5.5   \n",
       "Hispanic                               2.0   \n",
       "Latino                                 5.1   \n",
       "Middle Eastern                        15.0   \n",
       "Others                                 3.2   \n",
       "Pasifika                               2.5   \n",
       "South Asian                            4.4   \n",
       "Turkish                                1.1   \n",
       "Unknown                               18.8   \n",
       "White-European                        25.9   \n",
       "\n",
       "Class/ASD        % положительных пациентов в данной этнич. гр. относительно всех  \\\n",
       "ethnicity                                                                          \n",
       "Asian                                                          3.0                 \n",
       "Black                                                          1.1                 \n",
       "Hispanic                                                       0.5                 \n",
       "Latino                                                         2.0                 \n",
       "Middle Eastern                                                 2.2                 \n",
       "Others                                                         0.8                 \n",
       "Pasifika                                                       0.5                 \n",
       "South Asian                                                    0.5                 \n",
       "Turkish                                                        0.1                 \n",
       "Unknown                                                        3.0                 \n",
       "White-European                                                13.8                 \n",
       "\n",
       "Class/ASD        % положительных пациентов в данной этнич. гр. относительно всех положительных  \n",
       "ethnicity                                                                                       \n",
       "Asian                                                        10.91                              \n",
       "Black                                                         4.00                              \n",
       "Hispanic                                                      1.82                              \n",
       "Latino                                                        7.27                              \n",
       "Middle Eastern                                                8.00                              \n",
       "Others                                                        2.91                              \n",
       "Pasifika                                                      1.82                              \n",
       "South Asian                                                   1.82                              \n",
       "Turkish                                                       0.36                              \n",
       "Unknown                                                      10.91                              \n",
       "White-European                                               50.18                              "
      ]
     },
     "execution_count": 37,
     "metadata": {},
     "output_type": "execute_result"
    }
   ],
   "source": [
    "ethnicity_counts"
   ]
  },
  {
   "cell_type": "markdown",
   "metadata": {},
   "source": [
    "Этническая группа \"White-European\" имеет самый высокий процент положительных результатов (13.8%) в общем наборе данных и так же самый большой среди всех положительно диагностированных пациентов (50.18%), в то время как у этнических групп \"Pasifika\" (0.5%) и \"Turkish\" (0.1%) процент в общем наборе данных гораздо ниже.\n",
    "\n",
    "Так же у нас имеется значительный процент неопределенных случаев. Заметно, что процент положительных у пациентов с этнической группой \"Unknown\" составляет 10.91% относительно всех положительно диагностированных пациентов, что является вторым по величине значением (делит данное второе место с этнической группой \"Asian\", у которой так же 10.91%). Необходимо провести дополнительные исследования, чтобы выяснить причины таких значений и уточнить информацию об этнической принадлежности.\n",
    "\n",
    "Если рассматривать каждую этническую группу отдельно, то наибольший процент положительно диагностированных пациентов наблюдается в White-European с 53.28%, следом идут Latino с 39.22%."
   ]
  },
  {
   "cell_type": "markdown",
   "metadata": {},
   "source": [
    "##### Наличие желтухи при рождении"
   ]
  },
  {
   "cell_type": "code",
   "execution_count": 38,
   "metadata": {
    "scrolled": false
   },
   "outputs": [
    {
     "data": {
      "image/png": "[encoded data removed]",
      "text/plain": [
       "<Figure size 1080x432 with 1 Axes>"
      ]
     },
     "metadata": {
      "needs_background": "light"
     },
     "output_type": "display_data"
    }
   ],
   "source": [
    "jaundice_counts = df.groupby(['jaundice', 'Class/ASD']).size().unstack(fill_value=0)\n",
    "\n",
    "jaundice_counts.plot(kind='bar', figsize=(15, 6))\n",
    "plt.title('Диаграмма наличия РАС по наличию желтухи при рождении')\n",
    "plt.xlabel('Наличие желтухи при рождении')\n",
    "plt.ylabel('Количество пациентов')\n",
    "plt.legend(['Отрицательный результат', 'Положительный результат'], title='Результат теста')\n",
    "plt.xticks(rotation=0)\n",
    "plt.show()"
   ]
  },
  {
   "cell_type": "markdown",
   "metadata": {},
   "source": [
    "Посчитаем общее количество пациентов для тех кто болел при рождении желтухой и для тех кто нет. "
   ]
  },
  {
   "cell_type": "code",
   "execution_count": 39,
   "metadata": {},
   "outputs": [],
   "source": [
    "jaundice_counts['Общее кол-во пациентов'] = jaundice_counts[0] + jaundice_counts[1]"
   ]
  },
  {
   "cell_type": "markdown",
   "metadata": {},
   "source": [
    "Посчитаем процент положительных диагнозов для каждой из групп"
   ]
  },
  {
   "cell_type": "code",
   "execution_count": 40,
   "metadata": {},
   "outputs": [],
   "source": [
    "jaundice_counts['% положительных диагнозов'] = (jaundice_counts[1] / jaundice_counts['Общее кол-во пациентов'] * 100).round(2)"
   ]
  },
  {
   "cell_type": "markdown",
   "metadata": {},
   "source": [
    "Посчитаем процент положительно диагностированных пациентов для каждой их групп относительно всех пациентов"
   ]
  },
  {
   "cell_type": "code",
   "execution_count": 41,
   "metadata": {},
   "outputs": [],
   "source": [
    "jaundice_counts['% положительных пациентов относительно всех'] = (jaundice_counts[1] / 1000 * 100).round(2)"
   ]
  },
  {
   "cell_type": "markdown",
   "metadata": {},
   "source": [
    "Посчитаем процент положительно диагностированных пациентов для каждой их групп относительно всех положительных пациентов"
   ]
  },
  {
   "cell_type": "code",
   "execution_count": 42,
   "metadata": {},
   "outputs": [],
   "source": [
    "jaundice_counts['% положительных пациентов относительно положительных'] = (jaundice_counts[1] / ASD_pos * 100).round(2)"
   ]
  },
  {
   "cell_type": "code",
   "execution_count": 43,
   "metadata": {},
   "outputs": [
    {
     "data": {
      "text/html": [
       "<div>\n",
       "<style scoped>\n",
       "    .dataframe tbody tr th:only-of-type {\n",
       "        vertical-align: middle;\n",
       "    }\n",
       "\n",
       "    .dataframe tbody tr th {\n",
       "        vertical-align: top;\n",
       "    }\n",
       "\n",
       "    .dataframe thead th {\n",
       "        text-align: right;\n",
       "    }\n",
       "</style>\n",
       "<table border=\"1\" class=\"dataframe\">\n",
       "  <thead>\n",
       "    <tr style=\"text-align: right;\">\n",
       "      <th>Class/ASD</th>\n",
       "      <th>0</th>\n",
       "      <th>1</th>\n",
       "      <th>Общее кол-во пациентов</th>\n",
       "      <th>% положительных диагнозов</th>\n",
       "      <th>% положительных пациентов относительно всех</th>\n",
       "      <th>% положительных пациентов относительно положительных</th>\n",
       "    </tr>\n",
       "    <tr>\n",
       "      <th>jaundice</th>\n",
       "      <th></th>\n",
       "      <th></th>\n",
       "      <th></th>\n",
       "      <th></th>\n",
       "      <th></th>\n",
       "      <th></th>\n",
       "    </tr>\n",
       "  </thead>\n",
       "  <tbody>\n",
       "    <tr>\n",
       "      <th>no</th>\n",
       "      <td>579</td>\n",
       "      <td>181</td>\n",
       "      <td>760</td>\n",
       "      <td>23.82</td>\n",
       "      <td>18.1</td>\n",
       "      <td>65.82</td>\n",
       "    </tr>\n",
       "    <tr>\n",
       "      <th>yes</th>\n",
       "      <td>146</td>\n",
       "      <td>94</td>\n",
       "      <td>240</td>\n",
       "      <td>39.17</td>\n",
       "      <td>9.4</td>\n",
       "      <td>34.18</td>\n",
       "    </tr>\n",
       "  </tbody>\n",
       "</table>\n",
       "</div>"
      ],
      "text/plain": [
       "Class/ASD    0    1  Общее кол-во пациентов  % положительных диагнозов  \\\n",
       "jaundice                                                                 \n",
       "no         579  181                     760                      23.82   \n",
       "yes        146   94                     240                      39.17   \n",
       "\n",
       "Class/ASD  % положительных пациентов относительно всех  \\\n",
       "jaundice                                                 \n",
       "no                                                18.1   \n",
       "yes                                                9.4   \n",
       "\n",
       "Class/ASD  % положительных пациентов относительно положительных  \n",
       "jaundice                                                         \n",
       "no                                                     65.82     \n",
       "yes                                                    34.18     "
      ]
     },
     "execution_count": 43,
     "metadata": {},
     "output_type": "execute_result"
    }
   ],
   "source": [
    "jaundice_counts"
   ]
  },
  {
   "cell_type": "markdown",
   "metadata": {},
   "source": [
    "Процент положительных диагнозов среди пациентов, у которых была желтуха при рождении, составляет 39.17%, что существенно выше, чем среди пациентов без желтухи при рождении, где этот процент составляет 23.82%. Это может указывать на связь между наличием желтухи и вероятностью положительного диагноза РАС.\n",
    "\n",
    "Пациенты, у которых была желтуха в момент рождения и у которых был диагностировано РАС, составляют 34.18% от общего чиста положительно диагностированных пациентов."
   ]
  },
  {
   "cell_type": "markdown",
   "metadata": {},
   "source": [
    "##### Было ли у кого-то из близких родственников пациента диагностировано расстройство аутистического спекта"
   ]
  },
  {
   "cell_type": "code",
   "execution_count": 44,
   "metadata": {},
   "outputs": [
    {
     "data": {
      "image/png": "[encoded data removed]",
      "text/plain": [
       "<Figure size 1080x432 with 1 Axes>"
      ]
     },
     "metadata": {
      "needs_background": "light"
     },
     "output_type": "display_data"
    }
   ],
   "source": [
    "autism_counts = df.groupby(['autism', 'Class/ASD']).size().unstack(fill_value=0)\n",
    "\n",
    "autism_counts.plot(kind='bar', figsize=(15, 6))\n",
    "plt.title('Диаграмма наличия РАС по наличию близких родственников, у которых было диагностировано РАС')\n",
    "plt.xlabel('Наличие РАС у близких родственников')\n",
    "plt.ylabel('Количество пациентов')\n",
    "plt.legend(['Отрицательный результат', 'Положительный результат'], title='Результат теста')\n",
    "plt.xticks(rotation=0)\n",
    "plt.show()"
   ]
  },
  {
   "cell_type": "markdown",
   "metadata": {},
   "source": [
    "Посчитаем общее количество пациентов по группам"
   ]
  },
  {
   "cell_type": "code",
   "execution_count": 45,
   "metadata": {},
   "outputs": [],
   "source": [
    "autism_counts['Общее кол-во пациентов в группах'] = autism_counts[0] + autism_counts[1]"
   ]
  },
  {
   "cell_type": "markdown",
   "metadata": {},
   "source": [
    "Посчитаем процент пациентов по группам относительно всех пациентов"
   ]
  },
  {
   "cell_type": "code",
   "execution_count": 46,
   "metadata": {},
   "outputs": [],
   "source": [
    "autism_counts['% пациентов в группах'] = autism_counts['Общее кол-во пациентов в группах'] / 1000 * 100"
   ]
  },
  {
   "cell_type": "markdown",
   "metadata": {},
   "source": [
    "Посчитаем процент положительных диагнозов по группам"
   ]
  },
  {
   "cell_type": "code",
   "execution_count": 47,
   "metadata": {},
   "outputs": [],
   "source": [
    "autism_counts['% положительных диагнозов по группам'] = (autism_counts[1] / autism_counts['Общее кол-во пациентов в группах'] * 100).round(2)"
   ]
  },
  {
   "cell_type": "markdown",
   "metadata": {},
   "source": [
    "Посчитаем процент положительных пациентов каждой из групп относительно всех пациентов"
   ]
  },
  {
   "cell_type": "code",
   "execution_count": 48,
   "metadata": {},
   "outputs": [],
   "source": [
    "autism_counts['% положительных пациентов группы относительно общего кол-ва пациентов'] = (autism_counts[1] / 1000 * 100).round(2)"
   ]
  },
  {
   "cell_type": "markdown",
   "metadata": {},
   "source": [
    "Посчитаем процент положительных пациентов каждой группы относительно всех положительных пациентов"
   ]
  },
  {
   "cell_type": "code",
   "execution_count": 49,
   "metadata": {},
   "outputs": [],
   "source": [
    "autism_counts['% положительных пациентов группы относительно положительных пациентов'] = (autism_counts[1] / ASD_pos * 100).round(2)"
   ]
  },
  {
   "cell_type": "code",
   "execution_count": 50,
   "metadata": {},
   "outputs": [
    {
     "data": {
      "text/html": [
       "<div>\n",
       "<style scoped>\n",
       "    .dataframe tbody tr th:only-of-type {\n",
       "        vertical-align: middle;\n",
       "    }\n",
       "\n",
       "    .dataframe tbody tr th {\n",
       "        vertical-align: top;\n",
       "    }\n",
       "\n",
       "    .dataframe thead th {\n",
       "        text-align: right;\n",
       "    }\n",
       "</style>\n",
       "<table border=\"1\" class=\"dataframe\">\n",
       "  <thead>\n",
       "    <tr style=\"text-align: right;\">\n",
       "      <th>Class/ASD</th>\n",
       "      <th>0</th>\n",
       "      <th>1</th>\n",
       "      <th>Общее кол-во пациентов в группах</th>\n",
       "      <th>% пациентов в группах</th>\n",
       "      <th>% положительных диагнозов по группам</th>\n",
       "      <th>% положительных пациентов группы относительно общего кол-ва пациентов</th>\n",
       "      <th>% положительных пациентов группы относительно положительных пациентов</th>\n",
       "    </tr>\n",
       "    <tr>\n",
       "      <th>autism</th>\n",
       "      <th></th>\n",
       "      <th></th>\n",
       "      <th></th>\n",
       "      <th></th>\n",
       "      <th></th>\n",
       "      <th></th>\n",
       "      <th></th>\n",
       "    </tr>\n",
       "  </thead>\n",
       "  <tbody>\n",
       "    <tr>\n",
       "      <th>no</th>\n",
       "      <td>668</td>\n",
       "      <td>191</td>\n",
       "      <td>859</td>\n",
       "      <td>85.9</td>\n",
       "      <td>22.24</td>\n",
       "      <td>19.1</td>\n",
       "      <td>69.45</td>\n",
       "    </tr>\n",
       "    <tr>\n",
       "      <th>yes</th>\n",
       "      <td>57</td>\n",
       "      <td>84</td>\n",
       "      <td>141</td>\n",
       "      <td>14.1</td>\n",
       "      <td>59.57</td>\n",
       "      <td>8.4</td>\n",
       "      <td>30.55</td>\n",
       "    </tr>\n",
       "  </tbody>\n",
       "</table>\n",
       "</div>"
      ],
      "text/plain": [
       "Class/ASD    0    1  Общее кол-во пациентов в группах  % пациентов в группах  \\\n",
       "autism                                                                         \n",
       "no         668  191                               859                   85.9   \n",
       "yes         57   84                               141                   14.1   \n",
       "\n",
       "Class/ASD  % положительных диагнозов по группам  \\\n",
       "autism                                            \n",
       "no                                        22.24   \n",
       "yes                                       59.57   \n",
       "\n",
       "Class/ASD  % положительных пациентов группы относительно общего кол-ва пациентов  \\\n",
       "autism                                                                             \n",
       "no                                                      19.1                       \n",
       "yes                                                      8.4                       \n",
       "\n",
       "Class/ASD  % положительных пациентов группы относительно положительных пациентов  \n",
       "autism                                                                            \n",
       "no                                                     69.45                      \n",
       "yes                                                    30.55                      "
      ]
     },
     "execution_count": 50,
     "metadata": {},
     "output_type": "execute_result"
    }
   ],
   "source": [
    "autism_counts"
   ]
  },
  {
   "cell_type": "markdown",
   "metadata": {},
   "source": [
    "Группа пациентов, у близких родственников которых не диагностировано РАС, составляет значительное большинство - 85.9%. В этой группе процент положительных диагнозов составляет 22.24%, а в разрезе всех положительно диагностированных пациентов - 69.45%.\n",
    "\n",
    "Группа пациентов, у близких родственников которых диагностирован аутизм, сравнительно небольшая - 14.1%. Однако в этой группе высокий процент положительных диагнозов - 55.57%, но в разрезе всех положительно диагностированных пациентов - 30.55%."
   ]
  },
  {
   "cell_type": "markdown",
   "metadata": {},
   "source": [
    "##### Страна проживание пациента"
   ]
  },
  {
   "cell_type": "code",
   "execution_count": 51,
   "metadata": {},
   "outputs": [
    {
     "data": {
      "image/png": "[encoded data removed]",
      "text/plain": [
       "<Figure size 1296x432 with 1 Axes>"
      ]
     },
     "metadata": {
      "needs_background": "light"
     },
     "output_type": "display_data"
    }
   ],
   "source": [
    "country_of_res_counts = df.groupby(['country_of_res', 'Class/ASD']).size().unstack(fill_value=0)\n",
    "\n",
    "country_of_res_counts.plot(kind='bar', figsize=(18, 6))\n",
    "plt.title('Диаграмма наличия РАС по стране проживания пациента')\n",
    "plt.xlabel('Страна проживания')\n",
    "plt.ylabel('Количество пациентов')\n",
    "plt.legend(['Отрицательный результат', 'Положительный результат'], title='Результат теста')\n",
    "plt.show()"
   ]
  },
  {
   "cell_type": "markdown",
   "metadata": {},
   "source": [
    "Посчитаем общее количество пациентов в группах по стране проживания"
   ]
  },
  {
   "cell_type": "code",
   "execution_count": 52,
   "metadata": {},
   "outputs": [],
   "source": [
    "country_of_res_counts['Общее кол-во пациентов в группах'] = country_of_res_counts[0] + country_of_res_counts[1]"
   ]
  },
  {
   "cell_type": "markdown",
   "metadata": {},
   "source": [
    "Посчитаем процент пациентов в группах от общего числа пациентов"
   ]
  },
  {
   "cell_type": "code",
   "execution_count": 53,
   "metadata": {},
   "outputs": [],
   "source": [
    "country_of_res_counts['% пациентов в группах'] = country_of_res_counts['Общее кол-во пациентов в группах'] / 1000 * 100"
   ]
  },
  {
   "cell_type": "markdown",
   "metadata": {},
   "source": [
    "Посчитаем процент положительных диагнозов по группам"
   ]
  },
  {
   "cell_type": "code",
   "execution_count": 54,
   "metadata": {},
   "outputs": [],
   "source": [
    "country_of_res_counts['% положительных диагнозов по группам'] = (country_of_res_counts[1] / country_of_res_counts['Общее кол-во пациентов в группах'] * 100).round(2)"
   ]
  },
  {
   "cell_type": "markdown",
   "metadata": {},
   "source": [
    "Посчитаем процент положительных пациентов группы относительно общего количества пациентов"
   ]
  },
  {
   "cell_type": "code",
   "execution_count": 55,
   "metadata": {},
   "outputs": [],
   "source": [
    "country_of_res_counts['% положительных пациентов группы относительно общего кол-ва пациентов'] = (country_of_res_counts[1] / 1000 * 100).round(2)"
   ]
  },
  {
   "cell_type": "markdown",
   "metadata": {},
   "source": [
    "Посчитам процент положительных пациентов группы относительно общего количества положительных пациентов"
   ]
  },
  {
   "cell_type": "code",
   "execution_count": 56,
   "metadata": {},
   "outputs": [],
   "source": [
    "country_of_res_counts['% положительных пациентов группы относительно положительных пациентов'] = (country_of_res_counts[1] / ASD_pos * 100).round(2)"
   ]
  },
  {
   "cell_type": "code",
   "execution_count": 57,
   "metadata": {},
   "outputs": [
    {
     "data": {
      "text/html": [
       "<div>\n",
       "<style scoped>\n",
       "    .dataframe tbody tr th:only-of-type {\n",
       "        vertical-align: middle;\n",
       "    }\n",
       "\n",
       "    .dataframe tbody tr th {\n",
       "        vertical-align: top;\n",
       "    }\n",
       "\n",
       "    .dataframe thead th {\n",
       "        text-align: right;\n",
       "    }\n",
       "</style>\n",
       "<table border=\"1\" class=\"dataframe\">\n",
       "  <thead>\n",
       "    <tr style=\"text-align: right;\">\n",
       "      <th>Class/ASD</th>\n",
       "      <th>0</th>\n",
       "      <th>1</th>\n",
       "      <th>Общее кол-во пациентов в группах</th>\n",
       "      <th>% пациентов в группах</th>\n",
       "      <th>% положительных диагнозов по группам</th>\n",
       "      <th>% положительных пациентов группы относительно общего кол-ва пациентов</th>\n",
       "      <th>% положительных пациентов группы относительно положительных пациентов</th>\n",
       "    </tr>\n",
       "    <tr>\n",
       "      <th>country_of_res</th>\n",
       "      <th></th>\n",
       "      <th></th>\n",
       "      <th></th>\n",
       "      <th></th>\n",
       "      <th></th>\n",
       "      <th></th>\n",
       "      <th></th>\n",
       "    </tr>\n",
       "  </thead>\n",
       "  <tbody>\n",
       "    <tr>\n",
       "      <th>Afghanistan</th>\n",
       "      <td>23</td>\n",
       "      <td>6</td>\n",
       "      <td>29</td>\n",
       "      <td>2.9</td>\n",
       "      <td>20.69</td>\n",
       "      <td>0.6</td>\n",
       "      <td>2.18</td>\n",
       "    </tr>\n",
       "    <tr>\n",
       "      <th>AmericanSamoa</th>\n",
       "      <td>3</td>\n",
       "      <td>1</td>\n",
       "      <td>4</td>\n",
       "      <td>0.4</td>\n",
       "      <td>25.00</td>\n",
       "      <td>0.1</td>\n",
       "      <td>0.36</td>\n",
       "    </tr>\n",
       "    <tr>\n",
       "      <th>Angola</th>\n",
       "      <td>2</td>\n",
       "      <td>1</td>\n",
       "      <td>3</td>\n",
       "      <td>0.3</td>\n",
       "      <td>33.33</td>\n",
       "      <td>0.1</td>\n",
       "      <td>0.36</td>\n",
       "    </tr>\n",
       "    <tr>\n",
       "      <th>Argentina</th>\n",
       "      <td>3</td>\n",
       "      <td>0</td>\n",
       "      <td>3</td>\n",
       "      <td>0.3</td>\n",
       "      <td>0.00</td>\n",
       "      <td>0.0</td>\n",
       "      <td>0.00</td>\n",
       "    </tr>\n",
       "    <tr>\n",
       "      <th>Armenia</th>\n",
       "      <td>3</td>\n",
       "      <td>4</td>\n",
       "      <td>7</td>\n",
       "      <td>0.7</td>\n",
       "      <td>57.14</td>\n",
       "      <td>0.4</td>\n",
       "      <td>1.45</td>\n",
       "    </tr>\n",
       "    <tr>\n",
       "      <th>Aruba</th>\n",
       "      <td>2</td>\n",
       "      <td>1</td>\n",
       "      <td>3</td>\n",
       "      <td>0.3</td>\n",
       "      <td>33.33</td>\n",
       "      <td>0.1</td>\n",
       "      <td>0.36</td>\n",
       "    </tr>\n",
       "    <tr>\n",
       "      <th>Australia</th>\n",
       "      <td>30</td>\n",
       "      <td>21</td>\n",
       "      <td>51</td>\n",
       "      <td>5.1</td>\n",
       "      <td>41.18</td>\n",
       "      <td>2.1</td>\n",
       "      <td>7.64</td>\n",
       "    </tr>\n",
       "    <tr>\n",
       "      <th>Austria</th>\n",
       "      <td>12</td>\n",
       "      <td>4</td>\n",
       "      <td>16</td>\n",
       "      <td>1.6</td>\n",
       "      <td>25.00</td>\n",
       "      <td>0.4</td>\n",
       "      <td>1.45</td>\n",
       "    </tr>\n",
       "    <tr>\n",
       "      <th>Azerbaijan</th>\n",
       "      <td>2</td>\n",
       "      <td>1</td>\n",
       "      <td>3</td>\n",
       "      <td>0.3</td>\n",
       "      <td>33.33</td>\n",
       "      <td>0.1</td>\n",
       "      <td>0.36</td>\n",
       "    </tr>\n",
       "    <tr>\n",
       "      <th>Bahamas</th>\n",
       "      <td>5</td>\n",
       "      <td>0</td>\n",
       "      <td>5</td>\n",
       "      <td>0.5</td>\n",
       "      <td>0.00</td>\n",
       "      <td>0.0</td>\n",
       "      <td>0.00</td>\n",
       "    </tr>\n",
       "    <tr>\n",
       "      <th>Bangladesh</th>\n",
       "      <td>1</td>\n",
       "      <td>0</td>\n",
       "      <td>1</td>\n",
       "      <td>0.1</td>\n",
       "      <td>0.00</td>\n",
       "      <td>0.0</td>\n",
       "      <td>0.00</td>\n",
       "    </tr>\n",
       "    <tr>\n",
       "      <th>Belgium</th>\n",
       "      <td>3</td>\n",
       "      <td>1</td>\n",
       "      <td>4</td>\n",
       "      <td>0.4</td>\n",
       "      <td>25.00</td>\n",
       "      <td>0.1</td>\n",
       "      <td>0.36</td>\n",
       "    </tr>\n",
       "    <tr>\n",
       "      <th>Bolivia</th>\n",
       "      <td>1</td>\n",
       "      <td>2</td>\n",
       "      <td>3</td>\n",
       "      <td>0.3</td>\n",
       "      <td>66.67</td>\n",
       "      <td>0.2</td>\n",
       "      <td>0.73</td>\n",
       "    </tr>\n",
       "    <tr>\n",
       "      <th>Brazil</th>\n",
       "      <td>8</td>\n",
       "      <td>3</td>\n",
       "      <td>11</td>\n",
       "      <td>1.1</td>\n",
       "      <td>27.27</td>\n",
       "      <td>0.3</td>\n",
       "      <td>1.09</td>\n",
       "    </tr>\n",
       "    <tr>\n",
       "      <th>Burundi</th>\n",
       "      <td>1</td>\n",
       "      <td>0</td>\n",
       "      <td>1</td>\n",
       "      <td>0.1</td>\n",
       "      <td>0.00</td>\n",
       "      <td>0.0</td>\n",
       "      <td>0.00</td>\n",
       "    </tr>\n",
       "    <tr>\n",
       "      <th>Canada</th>\n",
       "      <td>14</td>\n",
       "      <td>6</td>\n",
       "      <td>20</td>\n",
       "      <td>2.0</td>\n",
       "      <td>30.00</td>\n",
       "      <td>0.6</td>\n",
       "      <td>2.18</td>\n",
       "    </tr>\n",
       "    <tr>\n",
       "      <th>China</th>\n",
       "      <td>2</td>\n",
       "      <td>0</td>\n",
       "      <td>2</td>\n",
       "      <td>0.2</td>\n",
       "      <td>0.00</td>\n",
       "      <td>0.0</td>\n",
       "      <td>0.00</td>\n",
       "    </tr>\n",
       "    <tr>\n",
       "      <th>Costa Rica</th>\n",
       "      <td>4</td>\n",
       "      <td>0</td>\n",
       "      <td>4</td>\n",
       "      <td>0.4</td>\n",
       "      <td>0.00</td>\n",
       "      <td>0.0</td>\n",
       "      <td>0.00</td>\n",
       "    </tr>\n",
       "    <tr>\n",
       "      <th>Cyprus</th>\n",
       "      <td>0</td>\n",
       "      <td>1</td>\n",
       "      <td>1</td>\n",
       "      <td>0.1</td>\n",
       "      <td>100.00</td>\n",
       "      <td>0.1</td>\n",
       "      <td>0.36</td>\n",
       "    </tr>\n",
       "    <tr>\n",
       "      <th>Czech Republic</th>\n",
       "      <td>3</td>\n",
       "      <td>0</td>\n",
       "      <td>3</td>\n",
       "      <td>0.3</td>\n",
       "      <td>0.00</td>\n",
       "      <td>0.0</td>\n",
       "      <td>0.00</td>\n",
       "    </tr>\n",
       "    <tr>\n",
       "      <th>Ecuador</th>\n",
       "      <td>1</td>\n",
       "      <td>0</td>\n",
       "      <td>1</td>\n",
       "      <td>0.1</td>\n",
       "      <td>0.00</td>\n",
       "      <td>0.0</td>\n",
       "      <td>0.00</td>\n",
       "    </tr>\n",
       "    <tr>\n",
       "      <th>Egypt</th>\n",
       "      <td>5</td>\n",
       "      <td>1</td>\n",
       "      <td>6</td>\n",
       "      <td>0.6</td>\n",
       "      <td>16.67</td>\n",
       "      <td>0.1</td>\n",
       "      <td>0.36</td>\n",
       "    </tr>\n",
       "    <tr>\n",
       "      <th>Ethiopia</th>\n",
       "      <td>4</td>\n",
       "      <td>1</td>\n",
       "      <td>5</td>\n",
       "      <td>0.5</td>\n",
       "      <td>20.00</td>\n",
       "      <td>0.1</td>\n",
       "      <td>0.36</td>\n",
       "    </tr>\n",
       "    <tr>\n",
       "      <th>Finland</th>\n",
       "      <td>1</td>\n",
       "      <td>0</td>\n",
       "      <td>1</td>\n",
       "      <td>0.1</td>\n",
       "      <td>0.00</td>\n",
       "      <td>0.0</td>\n",
       "      <td>0.00</td>\n",
       "    </tr>\n",
       "    <tr>\n",
       "      <th>France</th>\n",
       "      <td>11</td>\n",
       "      <td>4</td>\n",
       "      <td>15</td>\n",
       "      <td>1.5</td>\n",
       "      <td>26.67</td>\n",
       "      <td>0.4</td>\n",
       "      <td>1.45</td>\n",
       "    </tr>\n",
       "    <tr>\n",
       "      <th>Germany</th>\n",
       "      <td>3</td>\n",
       "      <td>1</td>\n",
       "      <td>4</td>\n",
       "      <td>0.4</td>\n",
       "      <td>25.00</td>\n",
       "      <td>0.1</td>\n",
       "      <td>0.36</td>\n",
       "    </tr>\n",
       "    <tr>\n",
       "      <th>Hong Kong</th>\n",
       "      <td>0</td>\n",
       "      <td>1</td>\n",
       "      <td>1</td>\n",
       "      <td>0.1</td>\n",
       "      <td>100.00</td>\n",
       "      <td>0.1</td>\n",
       "      <td>0.36</td>\n",
       "    </tr>\n",
       "    <tr>\n",
       "      <th>Iceland</th>\n",
       "      <td>3</td>\n",
       "      <td>1</td>\n",
       "      <td>4</td>\n",
       "      <td>0.4</td>\n",
       "      <td>25.00</td>\n",
       "      <td>0.1</td>\n",
       "      <td>0.36</td>\n",
       "    </tr>\n",
       "    <tr>\n",
       "      <th>India</th>\n",
       "      <td>76</td>\n",
       "      <td>12</td>\n",
       "      <td>88</td>\n",
       "      <td>8.8</td>\n",
       "      <td>13.64</td>\n",
       "      <td>1.2</td>\n",
       "      <td>4.36</td>\n",
       "    </tr>\n",
       "    <tr>\n",
       "      <th>Indonesia</th>\n",
       "      <td>1</td>\n",
       "      <td>0</td>\n",
       "      <td>1</td>\n",
       "      <td>0.1</td>\n",
       "      <td>0.00</td>\n",
       "      <td>0.0</td>\n",
       "      <td>0.00</td>\n",
       "    </tr>\n",
       "    <tr>\n",
       "      <th>Iran</th>\n",
       "      <td>6</td>\n",
       "      <td>1</td>\n",
       "      <td>7</td>\n",
       "      <td>0.7</td>\n",
       "      <td>14.29</td>\n",
       "      <td>0.1</td>\n",
       "      <td>0.36</td>\n",
       "    </tr>\n",
       "    <tr>\n",
       "      <th>Iraq</th>\n",
       "      <td>1</td>\n",
       "      <td>1</td>\n",
       "      <td>2</td>\n",
       "      <td>0.2</td>\n",
       "      <td>50.00</td>\n",
       "      <td>0.1</td>\n",
       "      <td>0.36</td>\n",
       "    </tr>\n",
       "    <tr>\n",
       "      <th>Ireland</th>\n",
       "      <td>3</td>\n",
       "      <td>1</td>\n",
       "      <td>4</td>\n",
       "      <td>0.4</td>\n",
       "      <td>25.00</td>\n",
       "      <td>0.1</td>\n",
       "      <td>0.36</td>\n",
       "    </tr>\n",
       "    <tr>\n",
       "      <th>Italy</th>\n",
       "      <td>8</td>\n",
       "      <td>4</td>\n",
       "      <td>12</td>\n",
       "      <td>1.2</td>\n",
       "      <td>33.33</td>\n",
       "      <td>0.4</td>\n",
       "      <td>1.45</td>\n",
       "    </tr>\n",
       "    <tr>\n",
       "      <th>Japan</th>\n",
       "      <td>1</td>\n",
       "      <td>1</td>\n",
       "      <td>2</td>\n",
       "      <td>0.2</td>\n",
       "      <td>50.00</td>\n",
       "      <td>0.1</td>\n",
       "      <td>0.36</td>\n",
       "    </tr>\n",
       "    <tr>\n",
       "      <th>Jordan</th>\n",
       "      <td>47</td>\n",
       "      <td>8</td>\n",
       "      <td>55</td>\n",
       "      <td>5.5</td>\n",
       "      <td>14.55</td>\n",
       "      <td>0.8</td>\n",
       "      <td>2.91</td>\n",
       "    </tr>\n",
       "    <tr>\n",
       "      <th>Kazakhstan</th>\n",
       "      <td>8</td>\n",
       "      <td>1</td>\n",
       "      <td>9</td>\n",
       "      <td>0.9</td>\n",
       "      <td>11.11</td>\n",
       "      <td>0.1</td>\n",
       "      <td>0.36</td>\n",
       "    </tr>\n",
       "    <tr>\n",
       "      <th>Lebanon</th>\n",
       "      <td>1</td>\n",
       "      <td>0</td>\n",
       "      <td>1</td>\n",
       "      <td>0.1</td>\n",
       "      <td>0.00</td>\n",
       "      <td>0.0</td>\n",
       "      <td>0.00</td>\n",
       "    </tr>\n",
       "    <tr>\n",
       "      <th>Malaysia</th>\n",
       "      <td>4</td>\n",
       "      <td>2</td>\n",
       "      <td>6</td>\n",
       "      <td>0.6</td>\n",
       "      <td>33.33</td>\n",
       "      <td>0.2</td>\n",
       "      <td>0.73</td>\n",
       "    </tr>\n",
       "    <tr>\n",
       "      <th>Mexico</th>\n",
       "      <td>6</td>\n",
       "      <td>2</td>\n",
       "      <td>8</td>\n",
       "      <td>0.8</td>\n",
       "      <td>25.00</td>\n",
       "      <td>0.2</td>\n",
       "      <td>0.73</td>\n",
       "    </tr>\n",
       "    <tr>\n",
       "      <th>Netherlands</th>\n",
       "      <td>11</td>\n",
       "      <td>5</td>\n",
       "      <td>16</td>\n",
       "      <td>1.6</td>\n",
       "      <td>31.25</td>\n",
       "      <td>0.5</td>\n",
       "      <td>1.82</td>\n",
       "    </tr>\n",
       "    <tr>\n",
       "      <th>New Zealand</th>\n",
       "      <td>96</td>\n",
       "      <td>17</td>\n",
       "      <td>113</td>\n",
       "      <td>11.3</td>\n",
       "      <td>15.04</td>\n",
       "      <td>1.7</td>\n",
       "      <td>6.18</td>\n",
       "    </tr>\n",
       "    <tr>\n",
       "      <th>Nicaragua</th>\n",
       "      <td>3</td>\n",
       "      <td>1</td>\n",
       "      <td>4</td>\n",
       "      <td>0.4</td>\n",
       "      <td>25.00</td>\n",
       "      <td>0.1</td>\n",
       "      <td>0.36</td>\n",
       "    </tr>\n",
       "    <tr>\n",
       "      <th>Niger</th>\n",
       "      <td>1</td>\n",
       "      <td>0</td>\n",
       "      <td>1</td>\n",
       "      <td>0.1</td>\n",
       "      <td>0.00</td>\n",
       "      <td>0.0</td>\n",
       "      <td>0.00</td>\n",
       "    </tr>\n",
       "    <tr>\n",
       "      <th>Oman</th>\n",
       "      <td>1</td>\n",
       "      <td>0</td>\n",
       "      <td>1</td>\n",
       "      <td>0.1</td>\n",
       "      <td>0.00</td>\n",
       "      <td>0.0</td>\n",
       "      <td>0.00</td>\n",
       "    </tr>\n",
       "    <tr>\n",
       "      <th>Pakistan</th>\n",
       "      <td>3</td>\n",
       "      <td>1</td>\n",
       "      <td>4</td>\n",
       "      <td>0.4</td>\n",
       "      <td>25.00</td>\n",
       "      <td>0.1</td>\n",
       "      <td>0.36</td>\n",
       "    </tr>\n",
       "    <tr>\n",
       "      <th>Philippines</th>\n",
       "      <td>7</td>\n",
       "      <td>0</td>\n",
       "      <td>7</td>\n",
       "      <td>0.7</td>\n",
       "      <td>0.00</td>\n",
       "      <td>0.0</td>\n",
       "      <td>0.00</td>\n",
       "    </tr>\n",
       "    <tr>\n",
       "      <th>Romania</th>\n",
       "      <td>3</td>\n",
       "      <td>1</td>\n",
       "      <td>4</td>\n",
       "      <td>0.4</td>\n",
       "      <td>25.00</td>\n",
       "      <td>0.1</td>\n",
       "      <td>0.36</td>\n",
       "    </tr>\n",
       "    <tr>\n",
       "      <th>Russia</th>\n",
       "      <td>11</td>\n",
       "      <td>2</td>\n",
       "      <td>13</td>\n",
       "      <td>1.3</td>\n",
       "      <td>15.38</td>\n",
       "      <td>0.2</td>\n",
       "      <td>0.73</td>\n",
       "    </tr>\n",
       "    <tr>\n",
       "      <th>Saudi Arabia</th>\n",
       "      <td>4</td>\n",
       "      <td>1</td>\n",
       "      <td>5</td>\n",
       "      <td>0.5</td>\n",
       "      <td>20.00</td>\n",
       "      <td>0.1</td>\n",
       "      <td>0.36</td>\n",
       "    </tr>\n",
       "    <tr>\n",
       "      <th>Serbia</th>\n",
       "      <td>3</td>\n",
       "      <td>0</td>\n",
       "      <td>3</td>\n",
       "      <td>0.3</td>\n",
       "      <td>0.00</td>\n",
       "      <td>0.0</td>\n",
       "      <td>0.00</td>\n",
       "    </tr>\n",
       "    <tr>\n",
       "      <th>Sierra Leone</th>\n",
       "      <td>1</td>\n",
       "      <td>0</td>\n",
       "      <td>1</td>\n",
       "      <td>0.1</td>\n",
       "      <td>0.00</td>\n",
       "      <td>0.0</td>\n",
       "      <td>0.00</td>\n",
       "    </tr>\n",
       "    <tr>\n",
       "      <th>South Africa</th>\n",
       "      <td>5</td>\n",
       "      <td>1</td>\n",
       "      <td>6</td>\n",
       "      <td>0.6</td>\n",
       "      <td>16.67</td>\n",
       "      <td>0.1</td>\n",
       "      <td>0.36</td>\n",
       "    </tr>\n",
       "    <tr>\n",
       "      <th>Spain</th>\n",
       "      <td>4</td>\n",
       "      <td>3</td>\n",
       "      <td>7</td>\n",
       "      <td>0.7</td>\n",
       "      <td>42.86</td>\n",
       "      <td>0.3</td>\n",
       "      <td>1.09</td>\n",
       "    </tr>\n",
       "    <tr>\n",
       "      <th>Sri Lanka</th>\n",
       "      <td>15</td>\n",
       "      <td>3</td>\n",
       "      <td>18</td>\n",
       "      <td>1.8</td>\n",
       "      <td>16.67</td>\n",
       "      <td>0.3</td>\n",
       "      <td>1.09</td>\n",
       "    </tr>\n",
       "    <tr>\n",
       "      <th>Sweden</th>\n",
       "      <td>0</td>\n",
       "      <td>1</td>\n",
       "      <td>1</td>\n",
       "      <td>0.1</td>\n",
       "      <td>100.00</td>\n",
       "      <td>0.1</td>\n",
       "      <td>0.36</td>\n",
       "    </tr>\n",
       "    <tr>\n",
       "      <th>Tonga</th>\n",
       "      <td>1</td>\n",
       "      <td>0</td>\n",
       "      <td>1</td>\n",
       "      <td>0.1</td>\n",
       "      <td>0.00</td>\n",
       "      <td>0.0</td>\n",
       "      <td>0.00</td>\n",
       "    </tr>\n",
       "    <tr>\n",
       "      <th>Ukraine</th>\n",
       "      <td>3</td>\n",
       "      <td>1</td>\n",
       "      <td>4</td>\n",
       "      <td>0.4</td>\n",
       "      <td>25.00</td>\n",
       "      <td>0.1</td>\n",
       "      <td>0.36</td>\n",
       "    </tr>\n",
       "    <tr>\n",
       "      <th>United Arab Emirates</th>\n",
       "      <td>109</td>\n",
       "      <td>12</td>\n",
       "      <td>121</td>\n",
       "      <td>12.1</td>\n",
       "      <td>9.92</td>\n",
       "      <td>1.2</td>\n",
       "      <td>4.36</td>\n",
       "    </tr>\n",
       "    <tr>\n",
       "      <th>United Kingdom</th>\n",
       "      <td>40</td>\n",
       "      <td>32</td>\n",
       "      <td>72</td>\n",
       "      <td>7.2</td>\n",
       "      <td>44.44</td>\n",
       "      <td>3.2</td>\n",
       "      <td>11.64</td>\n",
       "    </tr>\n",
       "  </tbody>\n",
       "</table>\n",
       "</div>"
      ],
      "text/plain": [
       "Class/ASD               0   1  Общее кол-во пациентов в группах  \\\n",
       "country_of_res                                                    \n",
       "Afghanistan            23   6                                29   \n",
       "AmericanSamoa           3   1                                 4   \n",
       "Angola                  2   1                                 3   \n",
       "Argentina               3   0                                 3   \n",
       "Armenia                 3   4                                 7   \n",
       "Aruba                   2   1                                 3   \n",
       "Australia              30  21                                51   \n",
       "Austria                12   4                                16   \n",
       "Azerbaijan              2   1                                 3   \n",
       "Bahamas                 5   0                                 5   \n",
       "Bangladesh              1   0                                 1   \n",
       "Belgium                 3   1                                 4   \n",
       "Bolivia                 1   2                                 3   \n",
       "Brazil                  8   3                                11   \n",
       "Burundi                 1   0                                 1   \n",
       "Canada                 14   6                                20   \n",
       "China                   2   0                                 2   \n",
       "Costa Rica              4   0                                 4   \n",
       "Cyprus                  0   1                                 1   \n",
       "Czech Republic          3   0                                 3   \n",
       "Ecuador                 1   0                                 1   \n",
       "Egypt                   5   1                                 6   \n",
       "Ethiopia                4   1                                 5   \n",
       "Finland                 1   0                                 1   \n",
       "France                 11   4                                15   \n",
       "Germany                 3   1                                 4   \n",
       "Hong Kong               0   1                                 1   \n",
       "Iceland                 3   1                                 4   \n",
       "India                  76  12                                88   \n",
       "Indonesia               1   0                                 1   \n",
       "Iran                    6   1                                 7   \n",
       "Iraq                    1   1                                 2   \n",
       "Ireland                 3   1                                 4   \n",
       "Italy                   8   4                                12   \n",
       "Japan                   1   1                                 2   \n",
       "Jordan                 47   8                                55   \n",
       "Kazakhstan              8   1                                 9   \n",
       "Lebanon                 1   0                                 1   \n",
       "Malaysia                4   2                                 6   \n",
       "Mexico                  6   2                                 8   \n",
       "Netherlands            11   5                                16   \n",
       "New Zealand            96  17                               113   \n",
       "Nicaragua               3   1                                 4   \n",
       "Niger                   1   0                                 1   \n",
       "Oman                    1   0                                 1   \n",
       "Pakistan                3   1                                 4   \n",
       "Philippines             7   0                                 7   \n",
       "Romania                 3   1                                 4   \n",
       "Russia                 11   2                                13   \n",
       "Saudi Arabia            4   1                                 5   \n",
       "Serbia                  3   0                                 3   \n",
       "Sierra Leone            1   0                                 1   \n",
       "South Africa            5   1                                 6   \n",
       "Spain                   4   3                                 7   \n",
       "Sri Lanka              15   3                                18   \n",
       "Sweden                  0   1                                 1   \n",
       "Tonga                   1   0                                 1   \n",
       "Ukraine                 3   1                                 4   \n",
       "United Arab Emirates  109  12                               121   \n",
       "United Kingdom         40  32                                72   \n",
       "\n",
       "Class/ASD             % пациентов в группах  \\\n",
       "country_of_res                                \n",
       "Afghanistan                             2.9   \n",
       "AmericanSamoa                           0.4   \n",
       "Angola                                  0.3   \n",
       "Argentina                               0.3   \n",
       "Armenia                                 0.7   \n",
       "Aruba                                   0.3   \n",
       "Australia                               5.1   \n",
       "Austria                                 1.6   \n",
       "Azerbaijan                              0.3   \n",
       "Bahamas                                 0.5   \n",
       "Bangladesh                              0.1   \n",
       "Belgium                                 0.4   \n",
       "Bolivia                                 0.3   \n",
       "Brazil                                  1.1   \n",
       "Burundi                                 0.1   \n",
       "Canada                                  2.0   \n",
       "China                                   0.2   \n",
       "Costa Rica                              0.4   \n",
       "Cyprus                                  0.1   \n",
       "Czech Republic                          0.3   \n",
       "Ecuador                                 0.1   \n",
       "Egypt                                   0.6   \n",
       "Ethiopia                                0.5   \n",
       "Finland                                 0.1   \n",
       "France                                  1.5   \n",
       "Germany                                 0.4   \n",
       "Hong Kong                               0.1   \n",
       "Iceland                                 0.4   \n",
       "India                                   8.8   \n",
       "Indonesia                               0.1   \n",
       "Iran                                    0.7   \n",
       "Iraq                                    0.2   \n",
       "Ireland                                 0.4   \n",
       "Italy                                   1.2   \n",
       "Japan                                   0.2   \n",
       "Jordan                                  5.5   \n",
       "Kazakhstan                              0.9   \n",
       "Lebanon                                 0.1   \n",
       "Malaysia                                0.6   \n",
       "Mexico                                  0.8   \n",
       "Netherlands                             1.6   \n",
       "New Zealand                            11.3   \n",
       "Nicaragua                               0.4   \n",
       "Niger                                   0.1   \n",
       "Oman                                    0.1   \n",
       "Pakistan                                0.4   \n",
       "Philippines                             0.7   \n",
       "Romania                                 0.4   \n",
       "Russia                                  1.3   \n",
       "Saudi Arabia                            0.5   \n",
       "Serbia                                  0.3   \n",
       "Sierra Leone                            0.1   \n",
       "South Africa                            0.6   \n",
       "Spain                                   0.7   \n",
       "Sri Lanka                               1.8   \n",
       "Sweden                                  0.1   \n",
       "Tonga                                   0.1   \n",
       "Ukraine                                 0.4   \n",
       "United Arab Emirates                   12.1   \n",
       "United Kingdom                          7.2   \n",
       "\n",
       "Class/ASD             % положительных диагнозов по группам  \\\n",
       "country_of_res                                               \n",
       "Afghanistan                                          20.69   \n",
       "AmericanSamoa                                        25.00   \n",
       "Angola                                               33.33   \n",
       "Argentina                                             0.00   \n",
       "Armenia                                              57.14   \n",
       "Aruba                                                33.33   \n",
       "Australia                                            41.18   \n",
       "Austria                                              25.00   \n",
       "Azerbaijan                                           33.33   \n",
       "Bahamas                                               0.00   \n",
       "Bangladesh                                            0.00   \n",
       "Belgium                                              25.00   \n",
       "Bolivia                                              66.67   \n",
       "Brazil                                               27.27   \n",
       "Burundi                                               0.00   \n",
       "Canada                                               30.00   \n",
       "China                                                 0.00   \n",
       "Costa Rica                                            0.00   \n",
       "Cyprus                                              100.00   \n",
       "Czech Republic                                        0.00   \n",
       "Ecuador                                               0.00   \n",
       "Egypt                                                16.67   \n",
       "Ethiopia                                             20.00   \n",
       "Finland                                               0.00   \n",
       "France                                               26.67   \n",
       "Germany                                              25.00   \n",
       "Hong Kong                                           100.00   \n",
       "Iceland                                              25.00   \n",
       "India                                                13.64   \n",
       "Indonesia                                             0.00   \n",
       "Iran                                                 14.29   \n",
       "Iraq                                                 50.00   \n",
       "Ireland                                              25.00   \n",
       "Italy                                                33.33   \n",
       "Japan                                                50.00   \n",
       "Jordan                                               14.55   \n",
       "Kazakhstan                                           11.11   \n",
       "Lebanon                                               0.00   \n",
       "Malaysia                                             33.33   \n",
       "Mexico                                               25.00   \n",
       "Netherlands                                          31.25   \n",
       "New Zealand                                          15.04   \n",
       "Nicaragua                                            25.00   \n",
       "Niger                                                 0.00   \n",
       "Oman                                                  0.00   \n",
       "Pakistan                                             25.00   \n",
       "Philippines                                           0.00   \n",
       "Romania                                              25.00   \n",
       "Russia                                               15.38   \n",
       "Saudi Arabia                                         20.00   \n",
       "Serbia                                                0.00   \n",
       "Sierra Leone                                          0.00   \n",
       "South Africa                                         16.67   \n",
       "Spain                                                42.86   \n",
       "Sri Lanka                                            16.67   \n",
       "Sweden                                              100.00   \n",
       "Tonga                                                 0.00   \n",
       "Ukraine                                              25.00   \n",
       "United Arab Emirates                                  9.92   \n",
       "United Kingdom                                       44.44   \n",
       "\n",
       "Class/ASD             % положительных пациентов группы относительно общего кол-ва пациентов  \\\n",
       "country_of_res                                                                                \n",
       "Afghanistan                                                         0.6                       \n",
       "AmericanSamoa                                                       0.1                       \n",
       "Angola                                                              0.1                       \n",
       "Argentina                                                           0.0                       \n",
       "Armenia                                                             0.4                       \n",
       "Aruba                                                               0.1                       \n",
       "Australia                                                           2.1                       \n",
       "Austria                                                             0.4                       \n",
       "Azerbaijan                                                          0.1                       \n",
       "Bahamas                                                             0.0                       \n",
       "Bangladesh                                                          0.0                       \n",
       "Belgium                                                             0.1                       \n",
       "Bolivia                                                             0.2                       \n",
       "Brazil                                                              0.3                       \n",
       "Burundi                                                             0.0                       \n",
       "Canada                                                              0.6                       \n",
       "China                                                               0.0                       \n",
       "Costa Rica                                                          0.0                       \n",
       "Cyprus                                                              0.1                       \n",
       "Czech Republic                                                      0.0                       \n",
       "Ecuador                                                             0.0                       \n",
       "Egypt                                                               0.1                       \n",
       "Ethiopia                                                            0.1                       \n",
       "Finland                                                             0.0                       \n",
       "France                                                              0.4                       \n",
       "Germany                                                             0.1                       \n",
       "Hong Kong                                                           0.1                       \n",
       "Iceland                                                             0.1                       \n",
       "India                                                               1.2                       \n",
       "Indonesia                                                           0.0                       \n",
       "Iran                                                                0.1                       \n",
       "Iraq                                                                0.1                       \n",
       "Ireland                                                             0.1                       \n",
       "Italy                                                               0.4                       \n",
       "Japan                                                               0.1                       \n",
       "Jordan                                                              0.8                       \n",
       "Kazakhstan                                                          0.1                       \n",
       "Lebanon                                                             0.0                       \n",
       "Malaysia                                                            0.2                       \n",
       "Mexico                                                              0.2                       \n",
       "Netherlands                                                         0.5                       \n",
       "New Zealand                                                         1.7                       \n",
       "Nicaragua                                                           0.1                       \n",
       "Niger                                                               0.0                       \n",
       "Oman                                                                0.0                       \n",
       "Pakistan                                                            0.1                       \n",
       "Philippines                                                         0.0                       \n",
       "Romania                                                             0.1                       \n",
       "Russia                                                              0.2                       \n",
       "Saudi Arabia                                                        0.1                       \n",
       "Serbia                                                              0.0                       \n",
       "Sierra Leone                                                        0.0                       \n",
       "South Africa                                                        0.1                       \n",
       "Spain                                                               0.3                       \n",
       "Sri Lanka                                                           0.3                       \n",
       "Sweden                                                              0.1                       \n",
       "Tonga                                                               0.0                       \n",
       "Ukraine                                                             0.1                       \n",
       "United Arab Emirates                                                1.2                       \n",
       "United Kingdom                                                      3.2                       \n",
       "\n",
       "Class/ASD             % положительных пациентов группы относительно положительных пациентов  \n",
       "country_of_res                                                                               \n",
       "Afghanistan                                                        2.18                      \n",
       "AmericanSamoa                                                      0.36                      \n",
       "Angola                                                             0.36                      \n",
       "Argentina                                                          0.00                      \n",
       "Armenia                                                            1.45                      \n",
       "Aruba                                                              0.36                      \n",
       "Australia                                                          7.64                      \n",
       "Austria                                                            1.45                      \n",
       "Azerbaijan                                                         0.36                      \n",
       "Bahamas                                                            0.00                      \n",
       "Bangladesh                                                         0.00                      \n",
       "Belgium                                                            0.36                      \n",
       "Bolivia                                                            0.73                      \n",
       "Brazil                                                             1.09                      \n",
       "Burundi                                                            0.00                      \n",
       "Canada                                                             2.18                      \n",
       "China                                                              0.00                      \n",
       "Costa Rica                                                         0.00                      \n",
       "Cyprus                                                             0.36                      \n",
       "Czech Republic                                                     0.00                      \n",
       "Ecuador                                                            0.00                      \n",
       "Egypt                                                              0.36                      \n",
       "Ethiopia                                                           0.36                      \n",
       "Finland                                                            0.00                      \n",
       "France                                                             1.45                      \n",
       "Germany                                                            0.36                      \n",
       "Hong Kong                                                          0.36                      \n",
       "Iceland                                                            0.36                      \n",
       "India                                                              4.36                      \n",
       "Indonesia                                                          0.00                      \n",
       "Iran                                                               0.36                      \n",
       "Iraq                                                               0.36                      \n",
       "Ireland                                                            0.36                      \n",
       "Italy                                                              1.45                      \n",
       "Japan                                                              0.36                      \n",
       "Jordan                                                             2.91                      \n",
       "Kazakhstan                                                         0.36                      \n",
       "Lebanon                                                            0.00                      \n",
       "Malaysia                                                           0.73                      \n",
       "Mexico                                                             0.73                      \n",
       "Netherlands                                                        1.82                      \n",
       "New Zealand                                                        6.18                      \n",
       "Nicaragua                                                          0.36                      \n",
       "Niger                                                              0.00                      \n",
       "Oman                                                               0.00                      \n",
       "Pakistan                                                           0.36                      \n",
       "Philippines                                                        0.00                      \n",
       "Romania                                                            0.36                      \n",
       "Russia                                                             0.73                      \n",
       "Saudi Arabia                                                       0.36                      \n",
       "Serbia                                                             0.00                      \n",
       "Sierra Leone                                                       0.00                      \n",
       "South Africa                                                       0.36                      \n",
       "Spain                                                              1.09                      \n",
       "Sri Lanka                                                          1.09                      \n",
       "Sweden                                                             0.36                      \n",
       "Tonga                                                              0.00                      \n",
       "Ukraine                                                            0.36                      \n",
       "United Arab Emirates                                               4.36                      \n",
       "United Kingdom                                                    11.64                      "
      ]
     },
     "execution_count": 57,
     "metadata": {},
     "output_type": "execute_result"
    }
   ],
   "source": [
    "country_of_res_counts.head(60)"
   ]
  },
  {
   "cell_type": "code",
   "execution_count": 58,
   "metadata": {},
   "outputs": [
    {
     "data": {
      "text/html": [
       "<div>\n",
       "<style scoped>\n",
       "    .dataframe tbody tr th:only-of-type {\n",
       "        vertical-align: middle;\n",
       "    }\n",
       "\n",
       "    .dataframe tbody tr th {\n",
       "        vertical-align: top;\n",
       "    }\n",
       "\n",
       "    .dataframe thead th {\n",
       "        text-align: right;\n",
       "    }\n",
       "</style>\n",
       "<table border=\"1\" class=\"dataframe\">\n",
       "  <thead>\n",
       "    <tr style=\"text-align: right;\">\n",
       "      <th>Class/ASD</th>\n",
       "      <th>0</th>\n",
       "      <th>1</th>\n",
       "      <th>Общее кол-во пациентов в группах</th>\n",
       "      <th>% пациентов в группах</th>\n",
       "      <th>% положительных диагнозов по группам</th>\n",
       "      <th>% положительных пациентов группы относительно общего кол-ва пациентов</th>\n",
       "      <th>% положительных пациентов группы относительно положительных пациентов</th>\n",
       "    </tr>\n",
       "    <tr>\n",
       "      <th>country_of_res</th>\n",
       "      <th></th>\n",
       "      <th></th>\n",
       "      <th></th>\n",
       "      <th></th>\n",
       "      <th></th>\n",
       "      <th></th>\n",
       "      <th></th>\n",
       "    </tr>\n",
       "  </thead>\n",
       "  <tbody>\n",
       "    <tr>\n",
       "      <th>United States</th>\n",
       "      <td>85</td>\n",
       "      <td>97</td>\n",
       "      <td>182</td>\n",
       "      <td>18.2</td>\n",
       "      <td>53.30</td>\n",
       "      <td>9.7</td>\n",
       "      <td>35.27</td>\n",
       "    </tr>\n",
       "    <tr>\n",
       "      <th>Uruguay</th>\n",
       "      <td>1</td>\n",
       "      <td>0</td>\n",
       "      <td>1</td>\n",
       "      <td>0.1</td>\n",
       "      <td>0.00</td>\n",
       "      <td>0.0</td>\n",
       "      <td>0.00</td>\n",
       "    </tr>\n",
       "    <tr>\n",
       "      <th>Viet Nam</th>\n",
       "      <td>6</td>\n",
       "      <td>3</td>\n",
       "      <td>9</td>\n",
       "      <td>0.9</td>\n",
       "      <td>33.33</td>\n",
       "      <td>0.3</td>\n",
       "      <td>1.09</td>\n",
       "    </tr>\n",
       "  </tbody>\n",
       "</table>\n",
       "</div>"
      ],
      "text/plain": [
       "Class/ASD        0   1  Общее кол-во пациентов в группах  \\\n",
       "country_of_res                                             \n",
       "United States   85  97                               182   \n",
       "Uruguay          1   0                                 1   \n",
       "Viet Nam         6   3                                 9   \n",
       "\n",
       "Class/ASD       % пациентов в группах  % положительных диагнозов по группам  \\\n",
       "country_of_res                                                                \n",
       "United States                    18.2                                 53.30   \n",
       "Uruguay                           0.1                                  0.00   \n",
       "Viet Nam                          0.9                                 33.33   \n",
       "\n",
       "Class/ASD       % положительных пациентов группы относительно общего кол-ва пациентов  \\\n",
       "country_of_res                                                                          \n",
       "United States                                                 9.7                       \n",
       "Uruguay                                                       0.0                       \n",
       "Viet Nam                                                      0.3                       \n",
       "\n",
       "Class/ASD       % положительных пациентов группы относительно положительных пациентов  \n",
       "country_of_res                                                                         \n",
       "United States                                               35.27                      \n",
       "Uruguay                                                      0.00                      \n",
       "Viet Nam                                                     1.09                      "
      ]
     },
     "execution_count": 58,
     "metadata": {},
     "output_type": "execute_result"
    }
   ],
   "source": [
    "country_of_res_counts.tail(3)"
   ]
  },
  {
   "cell_type": "code",
   "execution_count": 59,
   "metadata": {},
   "outputs": [
    {
     "data": {
      "text/plain": [
       "35.27"
      ]
     },
     "execution_count": 59,
     "metadata": {},
     "output_type": "execute_result"
    }
   ],
   "source": [
    "max_value = country_of_res_counts.iloc[:, -1].max()\n",
    "max_value"
   ]
  },
  {
   "cell_type": "code",
   "execution_count": 60,
   "metadata": {},
   "outputs": [],
   "source": [
    "country_with_max_value = country_of_res_counts[country_of_res_counts.iloc[:, -1] == max_value].index[0]"
   ]
  },
  {
   "cell_type": "code",
   "execution_count": 61,
   "metadata": {},
   "outputs": [
    {
     "name": "stdout",
     "output_type": "stream",
     "text": [
      "Страна с самым большим процентов положительно диагностированных пациентов среди всех положительных пациентов: United States со значением 35.27\n"
     ]
    }
   ],
   "source": [
    "print('Страна с самым большим процентов положительно диагностированных пациентов среди всех положительных пациентов: ' + country_with_max_value + ' со значением ' + str(max_value))"
   ]
  },
  {
   "cell_type": "markdown",
   "metadata": {},
   "source": [
    "##### Проходил ли пациент ранее данное обследование"
   ]
  },
  {
   "cell_type": "code",
   "execution_count": 62,
   "metadata": {},
   "outputs": [
    {
     "data": {
      "image/png": "[encoded data removed]",
      "text/plain": [
       "<Figure size 1080x432 with 1 Axes>"
      ]
     },
     "metadata": {
      "needs_background": "light"
     },
     "output_type": "display_data"
    }
   ],
   "source": [
    "used_app_counts = df.groupby(['used_app_before', 'Class/ASD']).size().unstack(fill_value=0)\n",
    "\n",
    "used_app_counts.plot(kind='bar', figsize=(15, 6))\n",
    "plt.title('Диаграмма результатов РАС')\n",
    "plt.xlabel('Проходил ли пациент ранее тестирование')\n",
    "plt.ylabel('Количество пациентов')\n",
    "plt.legend(['Отрицательный результат', 'Положительны результат'], title='Результат теста')\n",
    "plt.xticks(rotation=0)\n",
    "plt.show()"
   ]
  },
  {
   "cell_type": "markdown",
   "metadata": {},
   "source": [
    "Посчитаем общее количество пациентов в группах"
   ]
  },
  {
   "cell_type": "code",
   "execution_count": 63,
   "metadata": {},
   "outputs": [],
   "source": [
    "used_app_counts['Общее кол-во пациентов в группах'] = used_app_counts[0] + used_app_counts[1]"
   ]
  },
  {
   "cell_type": "markdown",
   "metadata": {},
   "source": [
    "Посчитаем процент положительных диагнозов по группам"
   ]
  },
  {
   "cell_type": "code",
   "execution_count": 64,
   "metadata": {},
   "outputs": [],
   "source": [
    "used_app_counts['% положительных диагнозов по группам'] = (used_app_counts[1] / used_app_counts['Общее кол-во пациентов в группах'] * 100).round(2)"
   ]
  },
  {
   "cell_type": "markdown",
   "metadata": {},
   "source": [
    "Посчитаем процент положительных пациентов группы относительно общего количества пациентов"
   ]
  },
  {
   "cell_type": "code",
   "execution_count": 65,
   "metadata": {},
   "outputs": [],
   "source": [
    "used_app_counts['% положительных пациентов группы относительно общего кол-ва пациентов'] = (used_app_counts[1] / 1000 * 100).round(2)"
   ]
  },
  {
   "cell_type": "markdown",
   "metadata": {},
   "source": [
    "Посчитаем процент положительных пациентов группы относительно общего количества положительных пациентов"
   ]
  },
  {
   "cell_type": "code",
   "execution_count": 66,
   "metadata": {},
   "outputs": [],
   "source": [
    "used_app_counts['% положительных пациентов группы относительно положительных пациентов'] = (used_app_counts[1] / ASD_pos * 100).round(2)"
   ]
  },
  {
   "cell_type": "code",
   "execution_count": 67,
   "metadata": {},
   "outputs": [
    {
     "data": {
      "text/html": [
       "<div>\n",
       "<style scoped>\n",
       "    .dataframe tbody tr th:only-of-type {\n",
       "        vertical-align: middle;\n",
       "    }\n",
       "\n",
       "    .dataframe tbody tr th {\n",
       "        vertical-align: top;\n",
       "    }\n",
       "\n",
       "    .dataframe thead th {\n",
       "        text-align: right;\n",
       "    }\n",
       "</style>\n",
       "<table border=\"1\" class=\"dataframe\">\n",
       "  <thead>\n",
       "    <tr style=\"text-align: right;\">\n",
       "      <th>Class/ASD</th>\n",
       "      <th>0</th>\n",
       "      <th>1</th>\n",
       "      <th>Общее кол-во пациентов в группах</th>\n",
       "      <th>% положительных диагнозов по группам</th>\n",
       "      <th>% положительных пациентов группы относительно общего кол-ва пациентов</th>\n",
       "      <th>% положительных пациентов группы относительно положительных пациентов</th>\n",
       "    </tr>\n",
       "    <tr>\n",
       "      <th>used_app_before</th>\n",
       "      <th></th>\n",
       "      <th></th>\n",
       "      <th></th>\n",
       "      <th></th>\n",
       "      <th></th>\n",
       "      <th></th>\n",
       "    </tr>\n",
       "  </thead>\n",
       "  <tbody>\n",
       "    <tr>\n",
       "      <th>no</th>\n",
       "      <td>691</td>\n",
       "      <td>262</td>\n",
       "      <td>953</td>\n",
       "      <td>27.49</td>\n",
       "      <td>26.2</td>\n",
       "      <td>95.27</td>\n",
       "    </tr>\n",
       "    <tr>\n",
       "      <th>yes</th>\n",
       "      <td>34</td>\n",
       "      <td>13</td>\n",
       "      <td>47</td>\n",
       "      <td>27.66</td>\n",
       "      <td>1.3</td>\n",
       "      <td>4.73</td>\n",
       "    </tr>\n",
       "  </tbody>\n",
       "</table>\n",
       "</div>"
      ],
      "text/plain": [
       "Class/ASD          0    1  Общее кол-во пациентов в группах  \\\n",
       "used_app_before                                               \n",
       "no               691  262                               953   \n",
       "yes               34   13                                47   \n",
       "\n",
       "Class/ASD        % положительных диагнозов по группам  \\\n",
       "used_app_before                                         \n",
       "no                                              27.49   \n",
       "yes                                             27.66   \n",
       "\n",
       "Class/ASD        % положительных пациентов группы относительно общего кол-ва пациентов  \\\n",
       "used_app_before                                                                          \n",
       "no                                                            26.2                       \n",
       "yes                                                            1.3                       \n",
       "\n",
       "Class/ASD        % положительных пациентов группы относительно положительных пациентов  \n",
       "used_app_before                                                                         \n",
       "no                                                           95.27                      \n",
       "yes                                                           4.73                      "
      ]
     },
     "execution_count": 67,
     "metadata": {},
     "output_type": "execute_result"
    }
   ],
   "source": [
    "used_app_counts"
   ]
  },
  {
   "cell_type": "markdown",
   "metadata": {},
   "source": [
    "Сравнивая общее количество пациентов, которые ранее не проходили тестирование и тех, кто проходил, можно видеть, что практически все положительно диагностированные пациенты в группе тех, кто не проходил тестирование, и составляют 95.06% от общего числа положительных пациентов.\n",
    "\n",
    "Среди пациентов, не проходивших ранее тестирование, процент положительных диагнозов составляет 27.49%. У тех, кто ранее проходил тестирование, этот процент примерно такой же и равняется 27.66%.\n",
    "\n",
    "Доля положительно диагностированных пациентов относительно общего количества пациентов в каждой из групп значительно различаются. Для пациентов, проходивших тестирование, эта доля составляет 1.3%, в то время как для тех, кто не проходил тестирование, она выше и составляет 26.2%."
   ]
  },
  {
   "cell_type": "markdown",
   "metadata": {},
   "source": [
    "##### Отношение пациента с тем, кто заполнял тестирование"
   ]
  },
  {
   "cell_type": "code",
   "execution_count": 68,
   "metadata": {},
   "outputs": [
    {
     "data": {
      "image/png": "[encoded data removed]",
      "text/plain": [
       "<Figure size 1080x432 with 1 Axes>"
      ]
     },
     "metadata": {
      "needs_background": "light"
     },
     "output_type": "display_data"
    }
   ],
   "source": [
    "relation_counts = df.groupby(['relation', 'Class/ASD']).size().unstack(fill_value=0)\n",
    "\n",
    "relation_counts.plot(kind='bar', figsize=(15, 6))\n",
    "plt.title('Диаграмма результатов РАС')\n",
    "plt.xlabel('Кто заполнял тест')\n",
    "plt.ylabel('Количество пациентов')\n",
    "plt.legend(['Отрицательный результат', 'Положительны результат'], title='Результат теста')\n",
    "plt.xticks(rotation=0)\n",
    "plt.show()"
   ]
  },
  {
   "cell_type": "markdown",
   "metadata": {},
   "source": [
    "Посчитаем общее количество пациентов в группах"
   ]
  },
  {
   "cell_type": "code",
   "execution_count": 69,
   "metadata": {},
   "outputs": [],
   "source": [
    "relation_counts['Общее кол-во пациентов в группах'] = relation_counts[0] + relation_counts[1]"
   ]
  },
  {
   "cell_type": "markdown",
   "metadata": {},
   "source": [
    "Посчитаем процент пациентов в группах"
   ]
  },
  {
   "cell_type": "code",
   "execution_count": 70,
   "metadata": {},
   "outputs": [],
   "source": [
    "relation_counts['% пациентов в группах'] = relation_counts['Общее кол-во пациентов в группах'] / 1000 * 100"
   ]
  },
  {
   "cell_type": "markdown",
   "metadata": {},
   "source": [
    "Посчитаем процент положительных пациентов по группам"
   ]
  },
  {
   "cell_type": "code",
   "execution_count": 71,
   "metadata": {},
   "outputs": [],
   "source": [
    "relation_counts['% положительных диагнозов по группам'] = (relation_counts[1] / relation_counts['Общее кол-во пациентов в группах'] * 100).round(2)"
   ]
  },
  {
   "cell_type": "markdown",
   "metadata": {},
   "source": [
    "Посчитаем процент положительных пациентов по группам относительно общего количества пациентов"
   ]
  },
  {
   "cell_type": "code",
   "execution_count": 72,
   "metadata": {},
   "outputs": [],
   "source": [
    "relation_counts['% положительных пациентов группы относительно общего кол-ва пациентов'] = (relation_counts[1] / 1000 * 100).round(2)"
   ]
  },
  {
   "cell_type": "markdown",
   "metadata": {},
   "source": [
    "Посчитаем процент положительных пациентов группы относительно общего количества положительных пациентов"
   ]
  },
  {
   "cell_type": "code",
   "execution_count": 73,
   "metadata": {},
   "outputs": [],
   "source": [
    "relation_counts['% положительных пациентов группы относительно положительных пациентов'] = (relation_counts[1] / ASD_pos * 100).round(2)"
   ]
  },
  {
   "cell_type": "code",
   "execution_count": 74,
   "metadata": {},
   "outputs": [
    {
     "data": {
      "text/html": [
       "<div>\n",
       "<style scoped>\n",
       "    .dataframe tbody tr th:only-of-type {\n",
       "        vertical-align: middle;\n",
       "    }\n",
       "\n",
       "    .dataframe tbody tr th {\n",
       "        vertical-align: top;\n",
       "    }\n",
       "\n",
       "    .dataframe thead th {\n",
       "        text-align: right;\n",
       "    }\n",
       "</style>\n",
       "<table border=\"1\" class=\"dataframe\">\n",
       "  <thead>\n",
       "    <tr style=\"text-align: right;\">\n",
       "      <th>Class/ASD</th>\n",
       "      <th>0</th>\n",
       "      <th>1</th>\n",
       "      <th>Общее кол-во пациентов в группах</th>\n",
       "      <th>% пациентов в группах</th>\n",
       "      <th>% положительных диагнозов по группам</th>\n",
       "      <th>% положительных пациентов группы относительно общего кол-ва пациентов</th>\n",
       "      <th>% положительных пациентов группы относительно положительных пациентов</th>\n",
       "    </tr>\n",
       "    <tr>\n",
       "      <th>relation</th>\n",
       "      <th></th>\n",
       "      <th></th>\n",
       "      <th></th>\n",
       "      <th></th>\n",
       "      <th></th>\n",
       "      <th></th>\n",
       "      <th></th>\n",
       "    </tr>\n",
       "  </thead>\n",
       "  <tbody>\n",
       "    <tr>\n",
       "      <th>Health care professional</th>\n",
       "      <td>8</td>\n",
       "      <td>0</td>\n",
       "      <td>8</td>\n",
       "      <td>0.8</td>\n",
       "      <td>0.00</td>\n",
       "      <td>0.0</td>\n",
       "      <td>0.00</td>\n",
       "    </tr>\n",
       "    <tr>\n",
       "      <th>Others</th>\n",
       "      <td>7</td>\n",
       "      <td>1</td>\n",
       "      <td>8</td>\n",
       "      <td>0.8</td>\n",
       "      <td>12.50</td>\n",
       "      <td>0.1</td>\n",
       "      <td>0.36</td>\n",
       "    </tr>\n",
       "    <tr>\n",
       "      <th>Parent</th>\n",
       "      <td>38</td>\n",
       "      <td>19</td>\n",
       "      <td>57</td>\n",
       "      <td>5.7</td>\n",
       "      <td>33.33</td>\n",
       "      <td>1.9</td>\n",
       "      <td>6.91</td>\n",
       "    </tr>\n",
       "    <tr>\n",
       "      <th>Relative</th>\n",
       "      <td>44</td>\n",
       "      <td>9</td>\n",
       "      <td>53</td>\n",
       "      <td>5.3</td>\n",
       "      <td>16.98</td>\n",
       "      <td>0.9</td>\n",
       "      <td>3.27</td>\n",
       "    </tr>\n",
       "    <tr>\n",
       "      <th>Self</th>\n",
       "      <td>543</td>\n",
       "      <td>240</td>\n",
       "      <td>783</td>\n",
       "      <td>78.3</td>\n",
       "      <td>30.65</td>\n",
       "      <td>24.0</td>\n",
       "      <td>87.27</td>\n",
       "    </tr>\n",
       "    <tr>\n",
       "      <th>Unknown</th>\n",
       "      <td>85</td>\n",
       "      <td>6</td>\n",
       "      <td>91</td>\n",
       "      <td>9.1</td>\n",
       "      <td>6.59</td>\n",
       "      <td>0.6</td>\n",
       "      <td>2.18</td>\n",
       "    </tr>\n",
       "  </tbody>\n",
       "</table>\n",
       "</div>"
      ],
      "text/plain": [
       "Class/ASD                   0    1  Общее кол-во пациентов в группах  \\\n",
       "relation                                                               \n",
       "Health care professional    8    0                                 8   \n",
       "Others                      7    1                                 8   \n",
       "Parent                     38   19                                57   \n",
       "Relative                   44    9                                53   \n",
       "Self                      543  240                               783   \n",
       "Unknown                    85    6                                91   \n",
       "\n",
       "Class/ASD                 % пациентов в группах  \\\n",
       "relation                                          \n",
       "Health care professional                    0.8   \n",
       "Others                                      0.8   \n",
       "Parent                                      5.7   \n",
       "Relative                                    5.3   \n",
       "Self                                       78.3   \n",
       "Unknown                                     9.1   \n",
       "\n",
       "Class/ASD                 % положительных диагнозов по группам  \\\n",
       "relation                                                         \n",
       "Health care professional                                  0.00   \n",
       "Others                                                   12.50   \n",
       "Parent                                                   33.33   \n",
       "Relative                                                 16.98   \n",
       "Self                                                     30.65   \n",
       "Unknown                                                   6.59   \n",
       "\n",
       "Class/ASD                 % положительных пациентов группы относительно общего кол-ва пациентов  \\\n",
       "relation                                                                                          \n",
       "Health care professional                                                0.0                       \n",
       "Others                                                                  0.1                       \n",
       "Parent                                                                  1.9                       \n",
       "Relative                                                                0.9                       \n",
       "Self                                                                   24.0                       \n",
       "Unknown                                                                 0.6                       \n",
       "\n",
       "Class/ASD                 % положительных пациентов группы относительно положительных пациентов  \n",
       "relation                                                                                         \n",
       "Health care professional                                               0.00                      \n",
       "Others                                                                 0.36                      \n",
       "Parent                                                                 6.91                      \n",
       "Relative                                                               3.27                      \n",
       "Self                                                                  87.27                      \n",
       "Unknown                                                                2.18                      "
      ]
     },
     "execution_count": 74,
     "metadata": {},
     "output_type": "execute_result"
    }
   ],
   "source": [
    "relation_counts"
   ]
  },
  {
   "cell_type": "markdown",
   "metadata": {},
   "source": [
    "Группа пациентов, которые сами заполняли тест (\"Self\"), составляют значительное большинство среди всех групп отношений (78.3% от общего числа пациентов). Эта группа также имеет наивысший процент положительных диагнозов среди общего количества пациентов (24.0%), а также занимает второе место по проценту положительных пациентов в группе (30.65%).\n",
    "\n",
    "Группы \"Parent\" и \"Relative\" также имеют значительное количество пациентов (5.7% и 5.3% соответственно) и высокий процент положительных диагнозов внутри группы (33.33% и 16.98% соответственно). Эти группы представляют собой второй и третий по величине процент положительных диагнозов относительно положительных пациентов.\n",
    "\n",
    "Группа \"Health care professional\" имеет самый низкий процент положительных диагнозов (0%) и самый маленький процент пациентов (0.8%). Это может быть связано с тем, что профессионалы в здравоохранении могут иметь больший опыт и знания, что позволяет им более точно определять отрицательные диагнозы РАС.\n",
    "\n",
    "Группа \"Unknown\" включает пациентов, у которых неизвестно отношение к заполнявшему тестирование. У этой группы сравнительно низкий процент положительных диагнозов (6.59% положительных результатов в группе и 2.18% относительно общего количества положительных пациентов), и они составляют 9.1% от общего числа пациентов."
   ]
  },
  {
   "cell_type": "markdown",
   "metadata": {},
   "source": [
    "##### Оценка результатов теста AQ1-10"
   ]
  },
  {
   "cell_type": "code",
   "execution_count": 75,
   "metadata": {},
   "outputs": [
    {
     "data": {
      "image/png": "[encoded data removed]",
      "text/plain": [
       "<Figure size 720x432 with 1 Axes>"
      ]
     },
     "metadata": {
      "needs_background": "light"
     },
     "output_type": "display_data"
    }
   ],
   "source": [
    "A1_Score_counts = df.groupby(['A1_Score', 'Class/ASD']).size().unstack(fill_value=0)\n",
    "\n",
    "A1_Score_counts.plot(kind='bar', figsize=(10, 6))\n",
    "plt.title('Диаграмма результатов РАС')\n",
    "plt.xlabel('Ответы')\n",
    "plt.ylabel('Количество пациентов')\n",
    "plt.legend(['Отрицательный результат', 'Положительны результат'], title='Результат теста')\n",
    "plt.xticks(rotation=0)\n",
    "plt.show()"
   ]
  },
  {
   "cell_type": "code",
   "execution_count": 76,
   "metadata": {},
   "outputs": [
    {
     "data": {
      "image/png": "[encoded data removed]",
      "text/plain": [
       "<Figure size 720x432 with 1 Axes>"
      ]
     },
     "metadata": {
      "needs_background": "light"
     },
     "output_type": "display_data"
    }
   ],
   "source": [
    "A2_Score_counts = df.groupby(['A2_Score', 'Class/ASD']).size().unstack(fill_value=0)\n",
    "\n",
    "A2_Score_counts.plot(kind='bar', figsize=(10, 6))\n",
    "plt.title('Диаграмма результатов РАС')\n",
    "plt.xlabel('Ответы')\n",
    "plt.ylabel('Количество пациентов')\n",
    "plt.legend(['Отрицательный результат', 'Положительны результат'], title='Результат теста')\n",
    "plt.xticks(rotation=0)\n",
    "plt.show()"
   ]
  },
  {
   "cell_type": "code",
   "execution_count": 77,
   "metadata": {},
   "outputs": [
    {
     "data": {
      "image/png": "[encoded data removed]",
      "text/plain": [
       "<Figure size 720x432 with 1 Axes>"
      ]
     },
     "metadata": {
      "needs_background": "light"
     },
     "output_type": "display_data"
    }
   ],
   "source": [
    "A3_Score_counts = df.groupby(['A3_Score', 'Class/ASD']).size().unstack(fill_value=0)\n",
    "\n",
    "A3_Score_counts.plot(kind='bar', figsize=(10, 6))\n",
    "plt.title('Диаграмма результатов РАС')\n",
    "plt.xlabel('Ответы')\n",
    "plt.ylabel('Количество пациентов')\n",
    "plt.legend(['Отрицательный результат', 'Положительны результат'], title='Результат теста')\n",
    "plt.xticks(rotation=0)\n",
    "plt.show()"
   ]
  },
  {
   "cell_type": "code",
   "execution_count": 78,
   "metadata": {},
   "outputs": [
    {
     "data": {
      "image/png": "[encoded data removed]",
      "text/plain": [
       "<Figure size 720x432 with 1 Axes>"
      ]
     },
     "metadata": {
      "needs_background": "light"
     },
     "output_type": "display_data"
    }
   ],
   "source": [
    "A4_Score_counts = df.groupby(['A4_Score', 'Class/ASD']).size().unstack(fill_value=0)\n",
    "\n",
    "A4_Score_counts.plot(kind='bar', figsize=(10, 6))\n",
    "plt.title('Диаграмма результатов РАС')\n",
    "plt.xlabel('Ответы')\n",
    "plt.ylabel('Количество пациентов')\n",
    "plt.legend(['Отрицательный результат', 'Положительны результат'], title='Результат теста')\n",
    "plt.xticks(rotation=0)\n",
    "plt.show()"
   ]
  },
  {
   "cell_type": "code",
   "execution_count": 79,
   "metadata": {},
   "outputs": [
    {
     "data": {
      "image/png": "[encoded data removed]",
      "text/plain": [
       "<Figure size 720x432 with 1 Axes>"
      ]
     },
     "metadata": {
      "needs_background": "light"
     },
     "output_type": "display_data"
    }
   ],
   "source": [
    "A5_Score_counts = df.groupby(['A5_Score', 'Class/ASD']).size().unstack(fill_value=0)\n",
    "\n",
    "A5_Score_counts.plot(kind='bar', figsize=(10, 6))\n",
    "plt.title('Диаграмма результатов РАС')\n",
    "plt.xlabel('Ответы')\n",
    "plt.ylabel('Количество пациентов')\n",
    "plt.legend(['Отрицательный результат', 'Положительны результат'], title='Результат теста')\n",
    "plt.xticks(rotation=0)\n",
    "plt.show()"
   ]
  },
  {
   "cell_type": "code",
   "execution_count": 80,
   "metadata": {},
   "outputs": [
    {
     "data": {
      "image/png": "[encoded data removed]",
      "text/plain": [
       "<Figure size 720x432 with 1 Axes>"
      ]
     },
     "metadata": {
      "needs_background": "light"
     },
     "output_type": "display_data"
    }
   ],
   "source": [
    "A6_Score_counts = df.groupby(['A6_Score', 'Class/ASD']).size().unstack(fill_value=0)\n",
    "\n",
    "A6_Score_counts.plot(kind='bar', figsize=(10, 6))\n",
    "plt.title('Диаграмма результатов РАС')\n",
    "plt.xlabel('Ответы')\n",
    "plt.ylabel('Количество пациентов')\n",
    "plt.legend(['Отрицательный результат', 'Положительны результат'], title='Результат теста')\n",
    "plt.xticks(rotation=0)\n",
    "plt.show()"
   ]
  },
  {
   "cell_type": "code",
   "execution_count": 81,
   "metadata": {},
   "outputs": [
    {
     "data": {
      "image/png": "[encoded data removed]",
      "text/plain": [
       "<Figure size 720x432 with 1 Axes>"
      ]
     },
     "metadata": {
      "needs_background": "light"
     },
     "output_type": "display_data"
    }
   ],
   "source": [
    "A7_Score_counts = df.groupby(['A7_Score', 'Class/ASD']).size().unstack(fill_value=0)\n",
    "\n",
    "A7_Score_counts.plot(kind='bar', figsize=(10, 6))\n",
    "plt.title('Диаграмма результатов РАС')\n",
    "plt.xlabel('Ответы')\n",
    "plt.ylabel('Количество пациентов')\n",
    "plt.legend(['Отрицательный результат', 'Положительны результат'], title='Результат теста')\n",
    "plt.xticks(rotation=0)\n",
    "plt.show()"
   ]
  },
  {
   "cell_type": "code",
   "execution_count": 82,
   "metadata": {},
   "outputs": [
    {
     "data": {
      "image/png": "[encoded data removed]",
      "text/plain": [
       "<Figure size 720x432 with 1 Axes>"
      ]
     },
     "metadata": {
      "needs_background": "light"
     },
     "output_type": "display_data"
    }
   ],
   "source": [
    "A8_Score_counts = df.groupby(['A8_Score', 'Class/ASD']).size().unstack(fill_value=0)\n",
    "\n",
    "A8_Score_counts.plot(kind='bar', figsize=(10, 6))\n",
    "plt.title('Диаграмма результатов РАС')\n",
    "plt.xlabel('Ответы')\n",
    "plt.ylabel('Количество пациентов')\n",
    "plt.legend(['Отрицательный результат', 'Положительны результат'], title='Результат теста')\n",
    "plt.xticks(rotation=0)\n",
    "plt.show()"
   ]
  },
  {
   "cell_type": "code",
   "execution_count": 83,
   "metadata": {},
   "outputs": [
    {
     "data": {
      "image/png": "[encoded data removed]",
      "text/plain": [
       "<Figure size 720x432 with 1 Axes>"
      ]
     },
     "metadata": {
      "needs_background": "light"
     },
     "output_type": "display_data"
    }
   ],
   "source": [
    "A9_Score_counts = df.groupby(['A9_Score', 'Class/ASD']).size().unstack(fill_value=0)\n",
    "\n",
    "A9_Score_counts.plot(kind='bar', figsize=(10, 6))\n",
    "plt.title('Диаграмма результатов РАС')\n",
    "plt.xlabel('Ответы')\n",
    "plt.ylabel('Количество пациентов')\n",
    "plt.legend(['Отрицательный результат', 'Положительны результат'], title='Результат теста')\n",
    "plt.xticks(rotation=0)\n",
    "plt.show()"
   ]
  },
  {
   "cell_type": "code",
   "execution_count": 84,
   "metadata": {},
   "outputs": [
    {
     "data": {
      "image/png": "[encoded data removed]",
      "text/plain": [
       "<Figure size 720x432 with 1 Axes>"
      ]
     },
     "metadata": {
      "needs_background": "light"
     },
     "output_type": "display_data"
    }
   ],
   "source": [
    "A10_Score_counts = df.groupby(['A10_Score', 'Class/ASD']).size().unstack(fill_value=0)\n",
    "\n",
    "A10_Score_counts.plot(kind='bar', figsize=(10, 6))\n",
    "plt.title('Диаграмма результатов РАС')\n",
    "plt.xlabel('Ответы')\n",
    "plt.ylabel('Количество пациентов')\n",
    "plt.legend(['Отрицательный результат', 'Положительны результат'], title='Результат теста')\n",
    "plt.xticks(rotation=0)\n",
    "plt.show()"
   ]
  },
  {
   "cell_type": "markdown",
   "metadata": {},
   "source": [
    "Значения 'yes' и 'no' в полях 'jaundice', 'autism' и 'used_app_before' заменим на '1' и '0' соответсвенно"
   ]
  },
  {
   "cell_type": "code",
   "execution_count": 85,
   "metadata": {},
   "outputs": [],
   "source": [
    "df['jaundice'] = df['jaundice'].replace({'yes': 1, 'no': 0})\n",
    "df['autism'] = df['autism'].replace({'yes': 1, 'no': 0})\n",
    "df['used_app_before'] = df['used_app_before'].replace({'yes': 1, 'no': 0})"
   ]
  },
  {
   "cell_type": "code",
   "execution_count": 86,
   "metadata": {},
   "outputs": [
    {
     "data": {
      "text/html": [
       "<div>\n",
       "<style scoped>\n",
       "    .dataframe tbody tr th:only-of-type {\n",
       "        vertical-align: middle;\n",
       "    }\n",
       "\n",
       "    .dataframe tbody tr th {\n",
       "        vertical-align: top;\n",
       "    }\n",
       "\n",
       "    .dataframe thead th {\n",
       "        text-align: right;\n",
       "    }\n",
       "</style>\n",
       "<table border=\"1\" class=\"dataframe\">\n",
       "  <thead>\n",
       "    <tr style=\"text-align: right;\">\n",
       "      <th></th>\n",
       "      <th>A1_Score</th>\n",
       "      <th>A2_Score</th>\n",
       "      <th>A3_Score</th>\n",
       "      <th>A4_Score</th>\n",
       "      <th>A5_Score</th>\n",
       "      <th>A6_Score</th>\n",
       "      <th>A7_Score</th>\n",
       "      <th>A8_Score</th>\n",
       "      <th>A9_Score</th>\n",
       "      <th>A10_Score</th>\n",
       "      <th>age</th>\n",
       "      <th>gender</th>\n",
       "      <th>ethnicity</th>\n",
       "      <th>jaundice</th>\n",
       "      <th>autism</th>\n",
       "      <th>country_of_res</th>\n",
       "      <th>used_app_before</th>\n",
       "      <th>result</th>\n",
       "      <th>relation</th>\n",
       "      <th>Class/ASD</th>\n",
       "    </tr>\n",
       "  </thead>\n",
       "  <tbody>\n",
       "    <tr>\n",
       "      <th>0</th>\n",
       "      <td>1</td>\n",
       "      <td>0</td>\n",
       "      <td>1</td>\n",
       "      <td>1</td>\n",
       "      <td>1</td>\n",
       "      <td>1</td>\n",
       "      <td>0</td>\n",
       "      <td>1</td>\n",
       "      <td>1</td>\n",
       "      <td>1</td>\n",
       "      <td>18</td>\n",
       "      <td>f</td>\n",
       "      <td>White-European</td>\n",
       "      <td>0</td>\n",
       "      <td>0</td>\n",
       "      <td>United States</td>\n",
       "      <td>0</td>\n",
       "      <td>7.819715</td>\n",
       "      <td>Self</td>\n",
       "      <td>0</td>\n",
       "    </tr>\n",
       "    <tr>\n",
       "      <th>1</th>\n",
       "      <td>0</td>\n",
       "      <td>0</td>\n",
       "      <td>0</td>\n",
       "      <td>0</td>\n",
       "      <td>0</td>\n",
       "      <td>0</td>\n",
       "      <td>0</td>\n",
       "      <td>0</td>\n",
       "      <td>0</td>\n",
       "      <td>1</td>\n",
       "      <td>13</td>\n",
       "      <td>f</td>\n",
       "      <td>South Asian</td>\n",
       "      <td>0</td>\n",
       "      <td>0</td>\n",
       "      <td>Australia</td>\n",
       "      <td>0</td>\n",
       "      <td>10.544296</td>\n",
       "      <td>Unknown</td>\n",
       "      <td>0</td>\n",
       "    </tr>\n",
       "    <tr>\n",
       "      <th>2</th>\n",
       "      <td>1</td>\n",
       "      <td>1</td>\n",
       "      <td>1</td>\n",
       "      <td>1</td>\n",
       "      <td>1</td>\n",
       "      <td>1</td>\n",
       "      <td>0</td>\n",
       "      <td>0</td>\n",
       "      <td>1</td>\n",
       "      <td>1</td>\n",
       "      <td>14</td>\n",
       "      <td>f</td>\n",
       "      <td>White-European</td>\n",
       "      <td>0</td>\n",
       "      <td>0</td>\n",
       "      <td>United Kingdom</td>\n",
       "      <td>0</td>\n",
       "      <td>13.167506</td>\n",
       "      <td>Self</td>\n",
       "      <td>1</td>\n",
       "    </tr>\n",
       "    <tr>\n",
       "      <th>3</th>\n",
       "      <td>0</td>\n",
       "      <td>0</td>\n",
       "      <td>0</td>\n",
       "      <td>1</td>\n",
       "      <td>0</td>\n",
       "      <td>0</td>\n",
       "      <td>0</td>\n",
       "      <td>0</td>\n",
       "      <td>0</td>\n",
       "      <td>0</td>\n",
       "      <td>61</td>\n",
       "      <td>f</td>\n",
       "      <td>South Asian</td>\n",
       "      <td>0</td>\n",
       "      <td>0</td>\n",
       "      <td>New Zealand</td>\n",
       "      <td>0</td>\n",
       "      <td>1.530098</td>\n",
       "      <td>Unknown</td>\n",
       "      <td>0</td>\n",
       "    </tr>\n",
       "    <tr>\n",
       "      <th>4</th>\n",
       "      <td>0</td>\n",
       "      <td>0</td>\n",
       "      <td>0</td>\n",
       "      <td>0</td>\n",
       "      <td>1</td>\n",
       "      <td>0</td>\n",
       "      <td>0</td>\n",
       "      <td>0</td>\n",
       "      <td>1</td>\n",
       "      <td>1</td>\n",
       "      <td>14</td>\n",
       "      <td>m</td>\n",
       "      <td>Black</td>\n",
       "      <td>0</td>\n",
       "      <td>1</td>\n",
       "      <td>Italy</td>\n",
       "      <td>0</td>\n",
       "      <td>7.949723</td>\n",
       "      <td>Self</td>\n",
       "      <td>0</td>\n",
       "    </tr>\n",
       "  </tbody>\n",
       "</table>\n",
       "</div>"
      ],
      "text/plain": [
       "   A1_Score  A2_Score  A3_Score  A4_Score  A5_Score  A6_Score  A7_Score  \\\n",
       "0         1         0         1         1         1         1         0   \n",
       "1         0         0         0         0         0         0         0   \n",
       "2         1         1         1         1         1         1         0   \n",
       "3         0         0         0         1         0         0         0   \n",
       "4         0         0         0         0         1         0         0   \n",
       "\n",
       "   A8_Score  A9_Score  A10_Score  age gender       ethnicity  jaundice  \\\n",
       "0         1         1          1   18      f  White-European         0   \n",
       "1         0         0          1   13      f     South Asian         0   \n",
       "2         0         1          1   14      f  White-European         0   \n",
       "3         0         0          0   61      f     South Asian         0   \n",
       "4         0         1          1   14      m           Black         0   \n",
       "\n",
       "   autism  country_of_res  used_app_before     result relation  Class/ASD  \n",
       "0       0   United States                0   7.819715     Self          0  \n",
       "1       0       Australia                0  10.544296  Unknown          0  \n",
       "2       0  United Kingdom                0  13.167506     Self          1  \n",
       "3       0     New Zealand                0   1.530098  Unknown          0  \n",
       "4       1           Italy                0   7.949723     Self          0  "
      ]
     },
     "execution_count": 86,
     "metadata": {},
     "output_type": "execute_result"
    }
   ],
   "source": [
    "df.head()"
   ]
  },
  {
   "cell_type": "markdown",
   "metadata": {},
   "source": [
    "Построим матрицу корреляции"
   ]
  },
  {
   "cell_type": "code",
   "execution_count": 87,
   "metadata": {},
   "outputs": [
    {
     "data": {
      "image/png": "[encoded data removed]",
      "text/plain": [
       "<Figure size 1080x1080 with 2 Axes>"
      ]
     },
     "metadata": {
      "needs_background": "light"
     },
     "output_type": "display_data"
    }
   ],
   "source": [
    "correlation_matrix = df.corr()\n",
    "\n",
    "plt.figure(figsize=(15, 15))\n",
    "sns.heatmap(correlation_matrix, annot=True, cmap='coolwarm', linewidths=0.5)\n",
    "plt.title('Корреляционная матрица')\n",
    "plt.show()"
   ]
  },
  {
   "cell_type": "markdown",
   "metadata": {},
   "source": [
    "Некоторые пары переменных имеют высокие положительные корреляции. Например, переменные A3_Score и A4_Score имеют корреляцию 0.524366, что говорит о том, что при увеличении ответов на вопросы A3 и A4, результаты также увеличиваются. Аналогично, переменные A3_Score и A9_Score имеют высокую положительную корреляцию (0.554643), что указывает на сильную связь между ответами на вопросы A3 и A9.\n",
    "\n",
    "С другой стороны, некоторые переменные имеют высокие отрицательные корреляции. Например, переменная autism имеет корреляцию -0.108723 с переменной jaundice. Это может указывать на наличие обратной связи между некоторыми переменными.\n",
    "\n",
    "Также стоит отметить, что переменные, связанные с ответами на вопросы в тесте (A1_Score до A10_Score), имеют относительно низкие корреляции с возрастом (age), что может означать, что возраст не сильно влияет на ответы пациентов на вопросы в тесте.\n",
    "\n",
    "Что касается целевой переменной Class/ASD, то некоторые переменные имеют некоторое влияние на эту целевую переменную. Например, переменные A3_Score и A9_Score имеют относительно высокие корреляции с Class/ASD (0.490384 и 0.471378 соответственно), что может означать, что ответы на эти вопросы могут быть связаны с наличием РАС."
   ]
  },
  {
   "cell_type": "markdown",
   "metadata": {},
   "source": [
    "#### Подготовка данных"
   ]
  },
  {
   "cell_type": "markdown",
   "metadata": {},
   "source": [
    "Удалим переменные, которые не играют большого значения в определении РАС (страна проживания пациента и проходил ли пациент до этого диагностику)."
   ]
  },
  {
   "cell_type": "code",
   "execution_count": 88,
   "metadata": {},
   "outputs": [],
   "source": [
    "df = df.drop('country_of_res', axis=1)\n",
    "df = df.drop('used_app_before', axis=1)"
   ]
  },
  {
   "cell_type": "code",
   "execution_count": 89,
   "metadata": {},
   "outputs": [
    {
     "data": {
      "text/html": [
       "<div>\n",
       "<style scoped>\n",
       "    .dataframe tbody tr th:only-of-type {\n",
       "        vertical-align: middle;\n",
       "    }\n",
       "\n",
       "    .dataframe tbody tr th {\n",
       "        vertical-align: top;\n",
       "    }\n",
       "\n",
       "    .dataframe thead th {\n",
       "        text-align: right;\n",
       "    }\n",
       "</style>\n",
       "<table border=\"1\" class=\"dataframe\">\n",
       "  <thead>\n",
       "    <tr style=\"text-align: right;\">\n",
       "      <th></th>\n",
       "      <th>A1_Score</th>\n",
       "      <th>A2_Score</th>\n",
       "      <th>A3_Score</th>\n",
       "      <th>A4_Score</th>\n",
       "      <th>A5_Score</th>\n",
       "      <th>A6_Score</th>\n",
       "      <th>A7_Score</th>\n",
       "      <th>A8_Score</th>\n",
       "      <th>A9_Score</th>\n",
       "      <th>A10_Score</th>\n",
       "      <th>age</th>\n",
       "      <th>gender</th>\n",
       "      <th>ethnicity</th>\n",
       "      <th>jaundice</th>\n",
       "      <th>autism</th>\n",
       "      <th>result</th>\n",
       "      <th>relation</th>\n",
       "      <th>Class/ASD</th>\n",
       "    </tr>\n",
       "  </thead>\n",
       "  <tbody>\n",
       "    <tr>\n",
       "      <th>0</th>\n",
       "      <td>1</td>\n",
       "      <td>0</td>\n",
       "      <td>1</td>\n",
       "      <td>1</td>\n",
       "      <td>1</td>\n",
       "      <td>1</td>\n",
       "      <td>0</td>\n",
       "      <td>1</td>\n",
       "      <td>1</td>\n",
       "      <td>1</td>\n",
       "      <td>18</td>\n",
       "      <td>f</td>\n",
       "      <td>White-European</td>\n",
       "      <td>0</td>\n",
       "      <td>0</td>\n",
       "      <td>7.819715</td>\n",
       "      <td>Self</td>\n",
       "      <td>0</td>\n",
       "    </tr>\n",
       "    <tr>\n",
       "      <th>1</th>\n",
       "      <td>0</td>\n",
       "      <td>0</td>\n",
       "      <td>0</td>\n",
       "      <td>0</td>\n",
       "      <td>0</td>\n",
       "      <td>0</td>\n",
       "      <td>0</td>\n",
       "      <td>0</td>\n",
       "      <td>0</td>\n",
       "      <td>1</td>\n",
       "      <td>13</td>\n",
       "      <td>f</td>\n",
       "      <td>South Asian</td>\n",
       "      <td>0</td>\n",
       "      <td>0</td>\n",
       "      <td>10.544296</td>\n",
       "      <td>Unknown</td>\n",
       "      <td>0</td>\n",
       "    </tr>\n",
       "    <tr>\n",
       "      <th>2</th>\n",
       "      <td>1</td>\n",
       "      <td>1</td>\n",
       "      <td>1</td>\n",
       "      <td>1</td>\n",
       "      <td>1</td>\n",
       "      <td>1</td>\n",
       "      <td>0</td>\n",
       "      <td>0</td>\n",
       "      <td>1</td>\n",
       "      <td>1</td>\n",
       "      <td>14</td>\n",
       "      <td>f</td>\n",
       "      <td>White-European</td>\n",
       "      <td>0</td>\n",
       "      <td>0</td>\n",
       "      <td>13.167506</td>\n",
       "      <td>Self</td>\n",
       "      <td>1</td>\n",
       "    </tr>\n",
       "    <tr>\n",
       "      <th>3</th>\n",
       "      <td>0</td>\n",
       "      <td>0</td>\n",
       "      <td>0</td>\n",
       "      <td>1</td>\n",
       "      <td>0</td>\n",
       "      <td>0</td>\n",
       "      <td>0</td>\n",
       "      <td>0</td>\n",
       "      <td>0</td>\n",
       "      <td>0</td>\n",
       "      <td>61</td>\n",
       "      <td>f</td>\n",
       "      <td>South Asian</td>\n",
       "      <td>0</td>\n",
       "      <td>0</td>\n",
       "      <td>1.530098</td>\n",
       "      <td>Unknown</td>\n",
       "      <td>0</td>\n",
       "    </tr>\n",
       "    <tr>\n",
       "      <th>4</th>\n",
       "      <td>0</td>\n",
       "      <td>0</td>\n",
       "      <td>0</td>\n",
       "      <td>0</td>\n",
       "      <td>1</td>\n",
       "      <td>0</td>\n",
       "      <td>0</td>\n",
       "      <td>0</td>\n",
       "      <td>1</td>\n",
       "      <td>1</td>\n",
       "      <td>14</td>\n",
       "      <td>m</td>\n",
       "      <td>Black</td>\n",
       "      <td>0</td>\n",
       "      <td>1</td>\n",
       "      <td>7.949723</td>\n",
       "      <td>Self</td>\n",
       "      <td>0</td>\n",
       "    </tr>\n",
       "  </tbody>\n",
       "</table>\n",
       "</div>"
      ],
      "text/plain": [
       "   A1_Score  A2_Score  A3_Score  A4_Score  A5_Score  A6_Score  A7_Score  \\\n",
       "0         1         0         1         1         1         1         0   \n",
       "1         0         0         0         0         0         0         0   \n",
       "2         1         1         1         1         1         1         0   \n",
       "3         0         0         0         1         0         0         0   \n",
       "4         0         0         0         0         1         0         0   \n",
       "\n",
       "   A8_Score  A9_Score  A10_Score  age gender       ethnicity  jaundice  \\\n",
       "0         1         1          1   18      f  White-European         0   \n",
       "1         0         0          1   13      f     South Asian         0   \n",
       "2         0         1          1   14      f  White-European         0   \n",
       "3         0         0          0   61      f     South Asian         0   \n",
       "4         0         1          1   14      m           Black         0   \n",
       "\n",
       "   autism     result relation  Class/ASD  \n",
       "0       0   7.819715     Self          0  \n",
       "1       0  10.544296  Unknown          0  \n",
       "2       0  13.167506     Self          1  \n",
       "3       0   1.530098  Unknown          0  \n",
       "4       1   7.949723     Self          0  "
      ]
     },
     "execution_count": 89,
     "metadata": {},
     "output_type": "execute_result"
    }
   ],
   "source": [
    "df.head()"
   ]
  },
  {
   "cell_type": "markdown",
   "metadata": {},
   "source": [
    "Закодируем наши категориальные признаки с использованием OneHotEncoder"
   ]
  },
  {
   "cell_type": "code",
   "execution_count": 90,
   "metadata": {},
   "outputs": [],
   "source": [
    "oh = OneHotEncoder()"
   ]
  },
  {
   "cell_type": "code",
   "execution_count": 91,
   "metadata": {},
   "outputs": [],
   "source": [
    "h_inter1, h_categories1 = df['gender'].factorize()\n",
    "h_inter2, h_categories2 = df['ethnicity'].factorize()\n",
    "h_inter3, h_categories3 = df['relation'].factorize()"
   ]
  },
  {
   "cell_type": "code",
   "execution_count": 92,
   "metadata": {},
   "outputs": [
    {
     "data": {
      "text/plain": [
       "Index(['f', 'm'], dtype='object')"
      ]
     },
     "execution_count": 92,
     "metadata": {},
     "output_type": "execute_result"
    }
   ],
   "source": [
    "h_categories1"
   ]
  },
  {
   "cell_type": "code",
   "execution_count": 93,
   "metadata": {},
   "outputs": [
    {
     "data": {
      "text/plain": [
       "Index(['White-European', 'South Asian', 'Black', 'Asian', 'Middle Eastern ',\n",
       "       'Unknown', 'Others', 'Latino', 'Turkish', 'Hispanic', 'Pasifika'],\n",
       "      dtype='object')"
      ]
     },
     "execution_count": 93,
     "metadata": {},
     "output_type": "execute_result"
    }
   ],
   "source": [
    "h_categories2"
   ]
  },
  {
   "cell_type": "code",
   "execution_count": 94,
   "metadata": {},
   "outputs": [
    {
     "data": {
      "text/plain": [
       "Index(['Self', 'Unknown', 'Health care professional', 'Parent', 'Relative',\n",
       "       'Others'],\n",
       "      dtype='object')"
      ]
     },
     "execution_count": 94,
     "metadata": {},
     "output_type": "execute_result"
    }
   ],
   "source": [
    "h_categories3"
   ]
  },
  {
   "cell_type": "code",
   "execution_count": 95,
   "metadata": {},
   "outputs": [],
   "source": [
    "coded1 = oh.fit_transform(h_inter1.reshape(-1,1))\n",
    "coded2 = oh.fit_transform(h_inter2.reshape(-1,1))\n",
    "coded3 = oh.fit_transform(h_inter3.reshape(-1,1))"
   ]
  },
  {
   "cell_type": "code",
   "execution_count": 96,
   "metadata": {},
   "outputs": [],
   "source": [
    "proxy1 = pd.DataFrame(coded1.toarray(), columns = ['female', 'male'])\n",
    "proxy2 = pd.DataFrame(coded2.toarray(), columns = ['White-European', 'South Asian', 'Black', 'Asian', 'Middle Eastern ',\n",
    "                                                   'Unknown ethnicity', 'Others', 'Latino', 'Turkish', 'Hispanic', 'Pasifika'])\n",
    "proxy3 = pd.DataFrame(coded3.toarray(), columns = ['Self', 'Unknown relation', 'Health care professional', 'Parent', 'Relative',\n",
    "       'Others'])"
   ]
  },
  {
   "cell_type": "code",
   "execution_count": 97,
   "metadata": {},
   "outputs": [],
   "source": [
    "df = pd.concat([df, proxy1], axis = 1)\n",
    "df = pd.concat([df, proxy2], axis = 1)\n",
    "df = pd.concat([df, proxy3], axis = 1)"
   ]
  },
  {
   "cell_type": "code",
   "execution_count": 98,
   "metadata": {},
   "outputs": [],
   "source": [
    "df = df.drop(['gender'], axis=1)\n",
    "df = df.drop(['ethnicity'], axis=1)\n",
    "df = df.drop(['relation'], axis=1)"
   ]
  },
  {
   "cell_type": "code",
   "execution_count": 99,
   "metadata": {},
   "outputs": [
    {
     "data": {
      "text/html": [
       "<div>\n",
       "<style scoped>\n",
       "    .dataframe tbody tr th:only-of-type {\n",
       "        vertical-align: middle;\n",
       "    }\n",
       "\n",
       "    .dataframe tbody tr th {\n",
       "        vertical-align: top;\n",
       "    }\n",
       "\n",
       "    .dataframe thead th {\n",
       "        text-align: right;\n",
       "    }\n",
       "</style>\n",
       "<table border=\"1\" class=\"dataframe\">\n",
       "  <thead>\n",
       "    <tr style=\"text-align: right;\">\n",
       "      <th></th>\n",
       "      <th>A1_Score</th>\n",
       "      <th>A2_Score</th>\n",
       "      <th>A3_Score</th>\n",
       "      <th>A4_Score</th>\n",
       "      <th>A5_Score</th>\n",
       "      <th>A6_Score</th>\n",
       "      <th>A7_Score</th>\n",
       "      <th>A8_Score</th>\n",
       "      <th>A9_Score</th>\n",
       "      <th>A10_Score</th>\n",
       "      <th>...</th>\n",
       "      <th>Latino</th>\n",
       "      <th>Turkish</th>\n",
       "      <th>Hispanic</th>\n",
       "      <th>Pasifika</th>\n",
       "      <th>Self</th>\n",
       "      <th>Unknown relation</th>\n",
       "      <th>Health care professional</th>\n",
       "      <th>Parent</th>\n",
       "      <th>Relative</th>\n",
       "      <th>Others</th>\n",
       "    </tr>\n",
       "  </thead>\n",
       "  <tbody>\n",
       "    <tr>\n",
       "      <th>0</th>\n",
       "      <td>1</td>\n",
       "      <td>0</td>\n",
       "      <td>1</td>\n",
       "      <td>1</td>\n",
       "      <td>1</td>\n",
       "      <td>1</td>\n",
       "      <td>0</td>\n",
       "      <td>1</td>\n",
       "      <td>1</td>\n",
       "      <td>1</td>\n",
       "      <td>...</td>\n",
       "      <td>0.0</td>\n",
       "      <td>0.0</td>\n",
       "      <td>0.0</td>\n",
       "      <td>0.0</td>\n",
       "      <td>1.0</td>\n",
       "      <td>0.0</td>\n",
       "      <td>0.0</td>\n",
       "      <td>0.0</td>\n",
       "      <td>0.0</td>\n",
       "      <td>0.0</td>\n",
       "    </tr>\n",
       "    <tr>\n",
       "      <th>1</th>\n",
       "      <td>0</td>\n",
       "      <td>0</td>\n",
       "      <td>0</td>\n",
       "      <td>0</td>\n",
       "      <td>0</td>\n",
       "      <td>0</td>\n",
       "      <td>0</td>\n",
       "      <td>0</td>\n",
       "      <td>0</td>\n",
       "      <td>1</td>\n",
       "      <td>...</td>\n",
       "      <td>0.0</td>\n",
       "      <td>0.0</td>\n",
       "      <td>0.0</td>\n",
       "      <td>0.0</td>\n",
       "      <td>0.0</td>\n",
       "      <td>1.0</td>\n",
       "      <td>0.0</td>\n",
       "      <td>0.0</td>\n",
       "      <td>0.0</td>\n",
       "      <td>0.0</td>\n",
       "    </tr>\n",
       "    <tr>\n",
       "      <th>2</th>\n",
       "      <td>1</td>\n",
       "      <td>1</td>\n",
       "      <td>1</td>\n",
       "      <td>1</td>\n",
       "      <td>1</td>\n",
       "      <td>1</td>\n",
       "      <td>0</td>\n",
       "      <td>0</td>\n",
       "      <td>1</td>\n",
       "      <td>1</td>\n",
       "      <td>...</td>\n",
       "      <td>0.0</td>\n",
       "      <td>0.0</td>\n",
       "      <td>0.0</td>\n",
       "      <td>0.0</td>\n",
       "      <td>1.0</td>\n",
       "      <td>0.0</td>\n",
       "      <td>0.0</td>\n",
       "      <td>0.0</td>\n",
       "      <td>0.0</td>\n",
       "      <td>0.0</td>\n",
       "    </tr>\n",
       "    <tr>\n",
       "      <th>3</th>\n",
       "      <td>0</td>\n",
       "      <td>0</td>\n",
       "      <td>0</td>\n",
       "      <td>1</td>\n",
       "      <td>0</td>\n",
       "      <td>0</td>\n",
       "      <td>0</td>\n",
       "      <td>0</td>\n",
       "      <td>0</td>\n",
       "      <td>0</td>\n",
       "      <td>...</td>\n",
       "      <td>0.0</td>\n",
       "      <td>0.0</td>\n",
       "      <td>0.0</td>\n",
       "      <td>0.0</td>\n",
       "      <td>0.0</td>\n",
       "      <td>1.0</td>\n",
       "      <td>0.0</td>\n",
       "      <td>0.0</td>\n",
       "      <td>0.0</td>\n",
       "      <td>0.0</td>\n",
       "    </tr>\n",
       "    <tr>\n",
       "      <th>4</th>\n",
       "      <td>0</td>\n",
       "      <td>0</td>\n",
       "      <td>0</td>\n",
       "      <td>0</td>\n",
       "      <td>1</td>\n",
       "      <td>0</td>\n",
       "      <td>0</td>\n",
       "      <td>0</td>\n",
       "      <td>1</td>\n",
       "      <td>1</td>\n",
       "      <td>...</td>\n",
       "      <td>0.0</td>\n",
       "      <td>0.0</td>\n",
       "      <td>0.0</td>\n",
       "      <td>0.0</td>\n",
       "      <td>1.0</td>\n",
       "      <td>0.0</td>\n",
       "      <td>0.0</td>\n",
       "      <td>0.0</td>\n",
       "      <td>0.0</td>\n",
       "      <td>0.0</td>\n",
       "    </tr>\n",
       "  </tbody>\n",
       "</table>\n",
       "<p>5 rows × 34 columns</p>\n",
       "</div>"
      ],
      "text/plain": [
       "   A1_Score  A2_Score  A3_Score  A4_Score  A5_Score  A6_Score  A7_Score  \\\n",
       "0         1         0         1         1         1         1         0   \n",
       "1         0         0         0         0         0         0         0   \n",
       "2         1         1         1         1         1         1         0   \n",
       "3         0         0         0         1         0         0         0   \n",
       "4         0         0         0         0         1         0         0   \n",
       "\n",
       "   A8_Score  A9_Score  A10_Score  ...  Latino  Turkish  Hispanic  Pasifika  \\\n",
       "0         1         1          1  ...     0.0      0.0       0.0       0.0   \n",
       "1         0         0          1  ...     0.0      0.0       0.0       0.0   \n",
       "2         0         1          1  ...     0.0      0.0       0.0       0.0   \n",
       "3         0         0          0  ...     0.0      0.0       0.0       0.0   \n",
       "4         0         1          1  ...     0.0      0.0       0.0       0.0   \n",
       "\n",
       "   Self  Unknown relation  Health care professional  Parent  Relative  Others  \n",
       "0   1.0               0.0                       0.0     0.0       0.0     0.0  \n",
       "1   0.0               1.0                       0.0     0.0       0.0     0.0  \n",
       "2   1.0               0.0                       0.0     0.0       0.0     0.0  \n",
       "3   0.0               1.0                       0.0     0.0       0.0     0.0  \n",
       "4   1.0               0.0                       0.0     0.0       0.0     0.0  \n",
       "\n",
       "[5 rows x 34 columns]"
      ]
     },
     "execution_count": 99,
     "metadata": {},
     "output_type": "execute_result"
    }
   ],
   "source": [
    "df.head()"
   ]
  },
  {
   "cell_type": "markdown",
   "metadata": {},
   "source": [
    "Отделим нашу целевую переменную Class/ASD"
   ]
  },
  {
   "cell_type": "code",
   "execution_count": 100,
   "metadata": {},
   "outputs": [],
   "source": [
    "X = df.drop(['Class/ASD'], axis=1)\n",
    "Y = df['Class/ASD']"
   ]
  },
  {
   "cell_type": "markdown",
   "metadata": {},
   "source": [
    "Разделим наши данные на данные для обучения и проверки"
   ]
  },
  {
   "cell_type": "code",
   "execution_count": 101,
   "metadata": {},
   "outputs": [],
   "source": [
    "X_train, X_test, Y_train, Y_test =  train_test_split(X, Y, test_size = 0.2, random_state = 42)"
   ]
  },
  {
   "cell_type": "markdown",
   "metadata": {},
   "source": [
    "Сделаем масштабирование данных с использованием StandardScaler"
   ]
  },
  {
   "cell_type": "code",
   "execution_count": 102,
   "metadata": {},
   "outputs": [],
   "source": [
    "ss = StandardScaler()"
   ]
  },
  {
   "cell_type": "code",
   "execution_count": 103,
   "metadata": {},
   "outputs": [],
   "source": [
    "X_train_ss = ss.fit_transform(X_train)"
   ]
  },
  {
   "cell_type": "code",
   "execution_count": 104,
   "metadata": {},
   "outputs": [],
   "source": [
    "X_test_ss = ss.transform(X_test)"
   ]
  },
  {
   "cell_type": "markdown",
   "metadata": {},
   "source": [
    "#### Логистическая регрессия"
   ]
  },
  {
   "cell_type": "code",
   "execution_count": 105,
   "metadata": {},
   "outputs": [],
   "source": [
    "logreg = LogisticRegression()"
   ]
  },
  {
   "cell_type": "code",
   "execution_count": 106,
   "metadata": {},
   "outputs": [
    {
     "data": {
      "text/plain": [
       "LogisticRegression()"
      ]
     },
     "execution_count": 106,
     "metadata": {},
     "output_type": "execute_result"
    }
   ],
   "source": [
    "logreg.fit(X_train_ss, Y_train)"
   ]
  },
  {
   "cell_type": "code",
   "execution_count": 107,
   "metadata": {},
   "outputs": [],
   "source": [
    "pred_logreg = logreg.predict(X_test_ss)"
   ]
  },
  {
   "cell_type": "code",
   "execution_count": 108,
   "metadata": {},
   "outputs": [],
   "source": [
    "binary_pred_logreg = [1 if pred >= 0.5 else 0 for pred in pred_logreg]"
   ]
  },
  {
   "cell_type": "code",
   "execution_count": 109,
   "metadata": {},
   "outputs": [
    {
     "data": {
      "text/plain": [
       "array([[133,  14],\n",
       "       [ 27,  26]], dtype=int64)"
      ]
     },
     "execution_count": 109,
     "metadata": {},
     "output_type": "execute_result"
    }
   ],
   "source": [
    "confusion_matrix(Y_test, binary_pred_logreg)"
   ]
  },
  {
   "cell_type": "code",
   "execution_count": 110,
   "metadata": {},
   "outputs": [
    {
     "data": {
      "text/plain": [
       "0.795"
      ]
     },
     "execution_count": 110,
     "metadata": {},
     "output_type": "execute_result"
    }
   ],
   "source": [
    "accuracy_score(Y_test, binary_pred_logreg)"
   ]
  },
  {
   "cell_type": "markdown",
   "metadata": {},
   "source": [
    "#### Дерево решений"
   ]
  },
  {
   "cell_type": "code",
   "execution_count": 111,
   "metadata": {},
   "outputs": [],
   "source": [
    "tree = DecisionTreeClassifier()"
   ]
  },
  {
   "cell_type": "code",
   "execution_count": 112,
   "metadata": {},
   "outputs": [
    {
     "data": {
      "text/plain": [
       "DecisionTreeClassifier()"
      ]
     },
     "execution_count": 112,
     "metadata": {},
     "output_type": "execute_result"
    }
   ],
   "source": [
    "tree.fit(X_train, Y_train)"
   ]
  },
  {
   "cell_type": "code",
   "execution_count": 113,
   "metadata": {},
   "outputs": [],
   "source": [
    "pred_tree = tree.predict(X_test_ss)"
   ]
  },
  {
   "cell_type": "code",
   "execution_count": 114,
   "metadata": {},
   "outputs": [
    {
     "data": {
      "text/plain": [
       "array([[119,  28],\n",
       "       [ 48,   5]], dtype=int64)"
      ]
     },
     "execution_count": 114,
     "metadata": {},
     "output_type": "execute_result"
    }
   ],
   "source": [
    "confusion_matrix(Y_test,pred_tree)"
   ]
  },
  {
   "cell_type": "code",
   "execution_count": 115,
   "metadata": {},
   "outputs": [
    {
     "data": {
      "text/plain": [
       "0.62"
      ]
     },
     "execution_count": 115,
     "metadata": {},
     "output_type": "execute_result"
    }
   ],
   "source": [
    "accuracy_score(Y_test,pred_tree)"
   ]
  },
  {
   "cell_type": "markdown",
   "metadata": {},
   "source": [
    "#### Случайный лес"
   ]
  },
  {
   "cell_type": "code",
   "execution_count": 116,
   "metadata": {},
   "outputs": [],
   "source": [
    "forest_class = RandomForestClassifier()"
   ]
  },
  {
   "cell_type": "code",
   "execution_count": 117,
   "metadata": {},
   "outputs": [
    {
     "data": {
      "text/plain": [
       "RandomForestClassifier()"
      ]
     },
     "execution_count": 117,
     "metadata": {},
     "output_type": "execute_result"
    }
   ],
   "source": [
    "forest_class.fit(X_train_ss, Y_train)"
   ]
  },
  {
   "cell_type": "code",
   "execution_count": 118,
   "metadata": {},
   "outputs": [],
   "source": [
    "preds_forest_class = forest_class.predict(X_test_ss)"
   ]
  },
  {
   "cell_type": "code",
   "execution_count": 119,
   "metadata": {},
   "outputs": [
    {
     "data": {
      "text/plain": [
       "0.79"
      ]
     },
     "execution_count": 119,
     "metadata": {},
     "output_type": "execute_result"
    }
   ],
   "source": [
    "accuracy_score(Y_test, preds_forest_class)"
   ]
  },
  {
   "cell_type": "code",
   "execution_count": 120,
   "metadata": {},
   "outputs": [
    {
     "data": {
      "text/plain": [
       "array([[132,  15],\n",
       "       [ 27,  26]], dtype=int64)"
      ]
     },
     "execution_count": 120,
     "metadata": {},
     "output_type": "execute_result"
    }
   ],
   "source": [
    "confusion_matrix(Y_test,preds_forest_class)"
   ]
  },
  {
   "cell_type": "markdown",
   "metadata": {},
   "source": [
    "Рассмотрим важность признаков"
   ]
  },
  {
   "cell_type": "code",
   "execution_count": 121,
   "metadata": {},
   "outputs": [
    {
     "name": "stdout",
     "output_type": "stream",
     "text": [
      "Признак: result, Важность: 0.20093547406823833\n",
      "Признак: age, Важность: 0.11629528161409718\n",
      "Признак: A4_Score, Важность: 0.08142608735018188\n",
      "Признак: A6_Score, Важность: 0.07154389653024938\n",
      "Признак: A3_Score, Важность: 0.06942667838769151\n",
      "Признак: A9_Score, Важность: 0.048976624453738384\n",
      "Признак: A5_Score, Важность: 0.0489087111630372\n",
      "Признак: A7_Score, Важность: 0.0415257333224732\n",
      "Признак: A2_Score, Важность: 0.02947823949569969\n",
      "Признак: A10_Score, Важность: 0.029066040114375868\n",
      "Признак: autism, Важность: 0.028051158035171855\n",
      "Признак: jaundice, Важность: 0.024508350145954195\n",
      "Признак: White-European, Важность: 0.024430152522190093\n",
      "Признак: A8_Score, Важность: 0.021496832310794422\n",
      "Признак: A1_Score, Важность: 0.0195025370482114\n",
      "Признак: Unknown ethnicity, Важность: 0.017075851162322898\n",
      "Признак: female, Важность: 0.01602211179743347\n",
      "Признак: male, Важность: 0.016010245295910896\n",
      "Признак: Asian, Важность: 0.01194516140190859\n",
      "Признак: Self, Важность: 0.011650421997696956\n",
      "Признак: Middle Eastern , Важность: 0.010708676103539079\n",
      "Признак: Black, Важность: 0.008023105031438018\n",
      "Признак: South Asian, Важность: 0.007995684153722623\n",
      "Признак: Latino, Важность: 0.007847223913507655\n",
      "Признак: Parent, Важность: 0.0077090148294078386\n",
      "Признак: Relative, Важность: 0.006873229910993548\n",
      "Признак: Pasifika, Важность: 0.0051092385238477615\n",
      "Признак: Hispanic, Важность: 0.004932173900976592\n",
      "Признак: Others, Важность: 0.004704705525605166\n",
      "Признак: Unknown relation, Важность: 0.004643912938105949\n",
      "Признак: Others, Важность: 0.0014164938491972106\n",
      "Признак: Health care professional, Важность: 0.001344305045777236\n",
      "Признак: Turkish, Важность: 0.0004166480565038659\n"
     ]
    }
   ],
   "source": [
    "importances = forest_class.feature_importances_\n",
    "\n",
    "features = X_train.columns\n",
    "feature_importance = list(zip(features, importances))\n",
    "\n",
    "# отсортируем важности наших признаков в порядке убывания\n",
    "feature_importance = sorted(feature_importance, key=lambda x: x[1], reverse=True)\n",
    "\n",
    "for feature, importance in feature_importance:\n",
    "    print(f\"Признак: {feature}, Важность: {importance}\")"
   ]
  },
  {
   "cell_type": "markdown",
   "metadata": {},
   "source": [
    "На основе анализа важности признаков видно, что оценка результата теста (result) и возраст пациента (age) оказывают наибольшее влияние на модель диагностики РАС. Эти признаки имеют наибольшие значения важности, что может указывать на их решающую роль в прогнозировании диагноза. Оценки по некоторым конкретным вопросам теста, таким как A4_Score, A6_Score, A3_Score, и A5_Score, также оказывают существенное влияние. Важность этнической принадлежности, пола, наличия желтухи при рождении и других признаков относительно результатов тестов относительно невелика."
   ]
  },
  {
   "cell_type": "markdown",
   "metadata": {},
   "source": [
    "#### GRID SEARCH"
   ]
  },
  {
   "cell_type": "code",
   "execution_count": 122,
   "metadata": {},
   "outputs": [],
   "source": [
    "param_grid = {'n_estimators': [5,10,15,20], 'max_features':[5,10,15,20,25,30]}\n",
    "\n",
    "grid_search = GridSearchCV(forest_class, param_grid, cv = 5, scoring = 'roc_auc')"
   ]
  },
  {
   "cell_type": "code",
   "execution_count": 123,
   "metadata": {},
   "outputs": [
    {
     "data": {
      "text/plain": [
       "GridSearchCV(cv=5, estimator=RandomForestClassifier(),\n",
       "             param_grid={'max_features': [5, 10, 15, 20, 25, 30],\n",
       "                         'n_estimators': [5, 10, 15, 20]},\n",
       "             scoring='roc_auc')"
      ]
     },
     "execution_count": 123,
     "metadata": {},
     "output_type": "execute_result"
    }
   ],
   "source": [
    "grid_search.fit(X_train_ss, Y_train)"
   ]
  },
  {
   "cell_type": "code",
   "execution_count": 124,
   "metadata": {},
   "outputs": [
    {
     "data": {
      "text/plain": [
       "{'max_features': 10, 'n_estimators': 15}"
      ]
     },
     "execution_count": 124,
     "metadata": {},
     "output_type": "execute_result"
    }
   ],
   "source": [
    "grid_search.best_params_"
   ]
  },
  {
   "cell_type": "code",
   "execution_count": 125,
   "metadata": {},
   "outputs": [],
   "source": [
    "grid_forest = grid_search.best_estimator_"
   ]
  },
  {
   "cell_type": "code",
   "execution_count": 126,
   "metadata": {},
   "outputs": [],
   "source": [
    "pred_grid_serch = grid_forest.predict(X_test_ss)"
   ]
  },
  {
   "cell_type": "code",
   "execution_count": 127,
   "metadata": {},
   "outputs": [
    {
     "data": {
      "text/plain": [
       "array([[133,  14],\n",
       "       [ 25,  28]], dtype=int64)"
      ]
     },
     "execution_count": 127,
     "metadata": {},
     "output_type": "execute_result"
    }
   ],
   "source": [
    "confusion_matrix(Y_test,pred_grid_serch)"
   ]
  },
  {
   "cell_type": "code",
   "execution_count": 128,
   "metadata": {},
   "outputs": [
    {
     "data": {
      "text/plain": [
       "0.805"
      ]
     },
     "execution_count": 128,
     "metadata": {},
     "output_type": "execute_result"
    }
   ],
   "source": [
    "accuracy_score(Y_test, pred_grid_serch)"
   ]
  },
  {
   "cell_type": "markdown",
   "metadata": {},
   "source": [
    "#### Стохастический поиск"
   ]
  },
  {
   "cell_type": "code",
   "execution_count": 129,
   "metadata": {},
   "outputs": [],
   "source": [
    "SGDclf = SGDClassifier()"
   ]
  },
  {
   "cell_type": "code",
   "execution_count": 130,
   "metadata": {},
   "outputs": [
    {
     "data": {
      "text/plain": [
       "SGDClassifier()"
      ]
     },
     "execution_count": 130,
     "metadata": {},
     "output_type": "execute_result"
    }
   ],
   "source": [
    "SGDclf.fit(X_train_ss, Y_train)"
   ]
  },
  {
   "cell_type": "code",
   "execution_count": 131,
   "metadata": {},
   "outputs": [],
   "source": [
    "pred_SGDclf = SGDclf.predict(X_test_ss)"
   ]
  },
  {
   "cell_type": "code",
   "execution_count": 132,
   "metadata": {},
   "outputs": [
    {
     "data": {
      "text/plain": [
       "array([[125,  22],\n",
       "       [ 18,  35]], dtype=int64)"
      ]
     },
     "execution_count": 132,
     "metadata": {},
     "output_type": "execute_result"
    }
   ],
   "source": [
    "confusion_matrix(Y_test, pred_SGDclf)"
   ]
  },
  {
   "cell_type": "code",
   "execution_count": 133,
   "metadata": {},
   "outputs": [
    {
     "data": {
      "text/plain": [
       "0.8"
      ]
     },
     "execution_count": 133,
     "metadata": {},
     "output_type": "execute_result"
    }
   ],
   "source": [
    "accuracy_score(Y_test, pred_SGDclf)"
   ]
  },
  {
   "cell_type": "markdown",
   "metadata": {},
   "source": [
    "#### Метод опорных векторов"
   ]
  },
  {
   "cell_type": "code",
   "execution_count": 134,
   "metadata": {},
   "outputs": [],
   "source": [
    "SVMclf = svm.SVC(kernel='linear')"
   ]
  },
  {
   "cell_type": "code",
   "execution_count": 135,
   "metadata": {},
   "outputs": [
    {
     "data": {
      "text/plain": [
       "SVC(kernel='linear')"
      ]
     },
     "execution_count": 135,
     "metadata": {},
     "output_type": "execute_result"
    }
   ],
   "source": [
    "SVMclf.fit(X_train_ss, Y_train)"
   ]
  },
  {
   "cell_type": "code",
   "execution_count": 136,
   "metadata": {},
   "outputs": [],
   "source": [
    "pred_SVMclf = SVMclf.predict(X_test_ss)"
   ]
  },
  {
   "cell_type": "code",
   "execution_count": 137,
   "metadata": {},
   "outputs": [
    {
     "data": {
      "text/plain": [
       "array([[132,  15],\n",
       "       [ 25,  28]], dtype=int64)"
      ]
     },
     "execution_count": 137,
     "metadata": {},
     "output_type": "execute_result"
    }
   ],
   "source": [
    "confusion_matrix(Y_test, pred_SVMclf)"
   ]
  },
  {
   "cell_type": "code",
   "execution_count": 138,
   "metadata": {},
   "outputs": [
    {
     "data": {
      "text/plain": [
       "0.8"
      ]
     },
     "execution_count": 138,
     "metadata": {},
     "output_type": "execute_result"
    }
   ],
   "source": [
    "accuracy_score(Y_test, pred_SVMclf)"
   ]
  },
  {
   "cell_type": "markdown",
   "metadata": {},
   "source": [
    "#### Адаптивный бустинг"
   ]
  },
  {
   "cell_type": "code",
   "execution_count": 139,
   "metadata": {},
   "outputs": [],
   "source": [
    "Adaclf = AdaBoostClassifier()"
   ]
  },
  {
   "cell_type": "code",
   "execution_count": 140,
   "metadata": {},
   "outputs": [
    {
     "data": {
      "text/plain": [
       "AdaBoostClassifier()"
      ]
     },
     "execution_count": 140,
     "metadata": {},
     "output_type": "execute_result"
    }
   ],
   "source": [
    "Adaclf.fit(X_train_ss, Y_train)"
   ]
  },
  {
   "cell_type": "code",
   "execution_count": 141,
   "metadata": {},
   "outputs": [],
   "source": [
    "pred_Adaclf = Adaclf.predict(X_test_ss)"
   ]
  },
  {
   "cell_type": "code",
   "execution_count": 142,
   "metadata": {},
   "outputs": [
    {
     "data": {
      "text/plain": [
       "array([[132,  15],\n",
       "       [ 28,  25]], dtype=int64)"
      ]
     },
     "execution_count": 142,
     "metadata": {},
     "output_type": "execute_result"
    }
   ],
   "source": [
    "confusion_matrix(Y_test, pred_Adaclf)"
   ]
  },
  {
   "cell_type": "code",
   "execution_count": 143,
   "metadata": {},
   "outputs": [
    {
     "data": {
      "text/plain": [
       "0.785"
      ]
     },
     "execution_count": 143,
     "metadata": {},
     "output_type": "execute_result"
    }
   ],
   "source": [
    "accuracy_score(Y_test, pred_Adaclf)"
   ]
  },
  {
   "cell_type": "markdown",
   "metadata": {},
   "source": [
    "#### Модель голосования"
   ]
  },
  {
   "cell_type": "markdown",
   "metadata": {},
   "source": [
    "Для Voting модели объединим несколько различных моделей для принятия решения."
   ]
  },
  {
   "cell_type": "code",
   "execution_count": 144,
   "metadata": {},
   "outputs": [],
   "source": [
    "best_rf_params = grid_search.best_params_"
   ]
  },
  {
   "cell_type": "code",
   "execution_count": 145,
   "metadata": {},
   "outputs": [
    {
     "data": {
      "text/plain": [
       "{'max_features': 10, 'n_estimators': 15}"
      ]
     },
     "execution_count": 145,
     "metadata": {},
     "output_type": "execute_result"
    }
   ],
   "source": [
    "best_rf_params"
   ]
  },
  {
   "cell_type": "code",
   "execution_count": 146,
   "metadata": {},
   "outputs": [],
   "source": [
    "voiting_rf = RandomForestClassifier(max_features=best_rf_params['max_features'], n_estimators=best_rf_params['n_estimators'])\n",
    "voiting_ada = AdaBoostClassifier()\n",
    "voiting_svm = svm.SVC(kernel='linear', probability=True)"
   ]
  },
  {
   "cell_type": "code",
   "execution_count": 147,
   "metadata": {},
   "outputs": [],
   "source": [
    "voting_clf = VotingClassifier(estimators=[('rf', voiting_rf), ('ada', voiting_ada), ('svc', voiting_svm)], voting='soft')"
   ]
  },
  {
   "cell_type": "code",
   "execution_count": 148,
   "metadata": {},
   "outputs": [
    {
     "data": {
      "text/plain": [
       "VotingClassifier(estimators=[('rf',\n",
       "                              RandomForestClassifier(max_features=10,\n",
       "                                                     n_estimators=15)),\n",
       "                             ('ada', AdaBoostClassifier()),\n",
       "                             ('svc', SVC(kernel='linear', probability=True))],\n",
       "                 voting='soft')"
      ]
     },
     "execution_count": 148,
     "metadata": {},
     "output_type": "execute_result"
    }
   ],
   "source": [
    "voting_clf.fit(X_train_ss, Y_train)"
   ]
  },
  {
   "cell_type": "code",
   "execution_count": 149,
   "metadata": {},
   "outputs": [],
   "source": [
    "pred_voiting = voting_clf.predict(X_test_ss)"
   ]
  },
  {
   "cell_type": "code",
   "execution_count": 150,
   "metadata": {},
   "outputs": [
    {
     "data": {
      "text/plain": [
       "array([[133,  14],\n",
       "       [ 24,  29]], dtype=int64)"
      ]
     },
     "execution_count": 150,
     "metadata": {},
     "output_type": "execute_result"
    }
   ],
   "source": [
    "confusion_matrix(Y_test, pred_voiting)"
   ]
  },
  {
   "cell_type": "code",
   "execution_count": 151,
   "metadata": {},
   "outputs": [
    {
     "data": {
      "text/plain": [
       "0.81"
      ]
     },
     "execution_count": 151,
     "metadata": {},
     "output_type": "execute_result"
    }
   ],
   "source": [
    "accuracy_score(Y_test, pred_voiting)"
   ]
  },
  {
   "cell_type": "markdown",
   "metadata": {},
   "source": [
    "#### Нейронные сети"
   ]
  },
  {
   "cell_type": "code",
   "execution_count": 152,
   "metadata": {},
   "outputs": [
    {
     "data": {
      "text/plain": [
       "(800, 33)"
      ]
     },
     "execution_count": 152,
     "metadata": {},
     "output_type": "execute_result"
    }
   ],
   "source": [
    "X_train.shape"
   ]
  },
  {
   "cell_type": "code",
   "execution_count": 153,
   "metadata": {},
   "outputs": [],
   "source": [
    "model = models.Sequential()\n",
    "\n",
    "model.add(layers.Dense(128,input_shape=(33,),activation='relu'))\n",
    "model.add(layers.Dense(64,activation='relu'))\n",
    "model.add(layers.Dense(32,activation='relu'))\n",
    "model.add(layers.Dense(16,activation='relu'))\n",
    "model.add(layers.Dense(1, activation=\"sigmoid\"))"
   ]
  },
  {
   "cell_type": "code",
   "execution_count": 154,
   "metadata": {},
   "outputs": [
    {
     "name": "stdout",
     "output_type": "stream",
     "text": [
      "Model: \"sequential\"\n",
      "_________________________________________________________________\n",
      " Layer (type)                Output Shape              Param #   \n",
      "=================================================================\n",
      " dense (Dense)               (None, 128)               4352      \n",
      "                                                                 \n",
      " dense_1 (Dense)             (None, 64)                8256      \n",
      "                                                                 \n",
      " dense_2 (Dense)             (None, 32)                2080      \n",
      "                                                                 \n",
      " dense_3 (Dense)             (None, 16)                528       \n",
      "                                                                 \n",
      " dense_4 (Dense)             (None, 1)                 17        \n",
      "                                                                 \n",
      "=================================================================\n",
      "Total params: 15,233\n",
      "Trainable params: 15,233\n",
      "Non-trainable params: 0\n",
      "_________________________________________________________________\n"
     ]
    }
   ],
   "source": [
    "model.summary()"
   ]
  },
  {
   "cell_type": "code",
   "execution_count": 155,
   "metadata": {},
   "outputs": [],
   "source": [
    "model.compile(loss=\"binary_crossentropy\",\n",
    "              optimizer=\"adam\",\n",
    "              metrics=[\"accuracy\"])"
   ]
  },
  {
   "cell_type": "code",
   "execution_count": 156,
   "metadata": {},
   "outputs": [],
   "source": [
    "X_train_new, X_val, Y_train_new, Y_val =  train_test_split(X_train_ss, Y_train, test_size = 0.2, random_state = 4)"
   ]
  },
  {
   "cell_type": "code",
   "execution_count": 157,
   "metadata": {},
   "outputs": [
    {
     "name": "stdout",
     "output_type": "stream",
     "text": [
      "Epoch 1/20\n",
      "10/10 [==============================] - 2s 38ms/step - loss: 0.5550 - accuracy: 0.7578 - val_loss: 0.4939 - val_accuracy: 0.8375\n",
      "Epoch 2/20\n",
      "10/10 [==============================] - 0s 16ms/step - loss: 0.4386 - accuracy: 0.8250 - val_loss: 0.4186 - val_accuracy: 0.8500\n",
      "Epoch 3/20\n",
      "10/10 [==============================] - 0s 8ms/step - loss: 0.3868 - accuracy: 0.8484 - val_loss: 0.4084 - val_accuracy: 0.8500\n",
      "Epoch 4/20\n",
      "10/10 [==============================] - 0s 11ms/step - loss: 0.3629 - accuracy: 0.8625 - val_loss: 0.4089 - val_accuracy: 0.8438\n",
      "Epoch 5/20\n",
      "10/10 [==============================] - 0s 13ms/step - loss: 0.3414 - accuracy: 0.8656 - val_loss: 0.4091 - val_accuracy: 0.8438\n",
      "Epoch 6/20\n",
      "10/10 [==============================] - 0s 11ms/step - loss: 0.3254 - accuracy: 0.8766 - val_loss: 0.4133 - val_accuracy: 0.8625\n",
      "Epoch 7/20\n",
      "10/10 [==============================] - 0s 10ms/step - loss: 0.3117 - accuracy: 0.8797 - val_loss: 0.4299 - val_accuracy: 0.8438\n",
      "Epoch 8/20\n",
      "10/10 [==============================] - 0s 13ms/step - loss: 0.2964 - accuracy: 0.8859 - val_loss: 0.4359 - val_accuracy: 0.8625\n",
      "Epoch 9/20\n",
      "10/10 [==============================] - 0s 11ms/step - loss: 0.2806 - accuracy: 0.8875 - val_loss: 0.4364 - val_accuracy: 0.8687\n",
      "Epoch 10/20\n",
      "10/10 [==============================] - 0s 10ms/step - loss: 0.2648 - accuracy: 0.9016 - val_loss: 0.4525 - val_accuracy: 0.8625\n",
      "Epoch 11/20\n",
      "10/10 [==============================] - 0s 14ms/step - loss: 0.2511 - accuracy: 0.9094 - val_loss: 0.4635 - val_accuracy: 0.8625\n",
      "Epoch 12/20\n",
      "10/10 [==============================] - 0s 12ms/step - loss: 0.2374 - accuracy: 0.9141 - val_loss: 0.4734 - val_accuracy: 0.8625\n",
      "Epoch 13/20\n",
      "10/10 [==============================] - 0s 11ms/step - loss: 0.2214 - accuracy: 0.9219 - val_loss: 0.4899 - val_accuracy: 0.8625\n",
      "Epoch 14/20\n",
      "10/10 [==============================] - 0s 11ms/step - loss: 0.2070 - accuracy: 0.9234 - val_loss: 0.5011 - val_accuracy: 0.8625\n",
      "Epoch 15/20\n",
      "10/10 [==============================] - 0s 8ms/step - loss: 0.1896 - accuracy: 0.9328 - val_loss: 0.5316 - val_accuracy: 0.8500\n",
      "Epoch 16/20\n",
      "10/10 [==============================] - 0s 11ms/step - loss: 0.1810 - accuracy: 0.9312 - val_loss: 0.5401 - val_accuracy: 0.8500\n",
      "Epoch 17/20\n",
      "10/10 [==============================] - 0s 13ms/step - loss: 0.1673 - accuracy: 0.9375 - val_loss: 0.5457 - val_accuracy: 0.8562\n",
      "Epoch 18/20\n",
      "10/10 [==============================] - 0s 22ms/step - loss: 0.1541 - accuracy: 0.9484 - val_loss: 0.5723 - val_accuracy: 0.8562\n",
      "Epoch 19/20\n",
      "10/10 [==============================] - 0s 19ms/step - loss: 0.1383 - accuracy: 0.9563 - val_loss: 0.5972 - val_accuracy: 0.8625\n",
      "Epoch 20/20\n",
      "10/10 [==============================] - 0s 13ms/step - loss: 0.1246 - accuracy: 0.9688 - val_loss: 0.6476 - val_accuracy: 0.8500\n"
     ]
    }
   ],
   "source": [
    "history = model.fit(X_train_new, Y_train_new, epochs=20, batch_size=64, validation_data=(X_val, Y_val))"
   ]
  },
  {
   "cell_type": "code",
   "execution_count": 158,
   "metadata": {},
   "outputs": [
    {
     "name": "stdout",
     "output_type": "stream",
     "text": [
      "7/7 [==============================] - 0s 3ms/step - loss: 0.8487 - accuracy: 0.7750\n"
     ]
    }
   ],
   "source": [
    "loss, accuracy = model.evaluate(X_test_ss, Y_test)"
   ]
  },
  {
   "cell_type": "markdown",
   "metadata": {},
   "source": [
    "### Выводы"
   ]
  },
  {
   "cell_type": "markdown",
   "metadata": {},
   "source": [
    "##### Выводы основываясь на анализе показателей:\n",
    "\n",
    "На основе анализа важности признаков видно, что оценка результата теста (result) и возраст пациента (age) оказывают наибольшее влияние на модель диагностики РАС. Оценки по некоторым конкретным вопросам теста, таким как A4_Score, A6_Score, A3_Score, и A5_Score, также оказывают существенное влияние. Важность этнической принадлежности, пола, наличия желтухи при рождении и других признаков относительно результатов тестов относительно невелика."
   ]
  },
  {
   "cell_type": "markdown",
   "metadata": {},
   "source": [
    "##### Анализ результатов, полученных в процессе обучения различных моделей:\n",
    "\n",
    "В процессе обучения различных моделей и оценки их производительности по метрике точности (accuracy_score), мы получили следующие результаты.\n",
    "\n",
    "Наибольшую точность продемонстрировала модель VotingClassifier, которая объединила RandomForestClassifier, AdaBoostClassifier и SVC, достигнув точности в 0.81. Это подтверждает силу ансамблевых методов, объединяя модели с разными алгоритмами и делает данную модель лучшим выбором среди рассмотренных.\n",
    "\n",
    "Затем идут модели GridSearchCV с точностью 0.805 и SVC и SGDClassifier, которые обе имеют точность 0.8. Эти модели также показали отличную производительность.\n",
    "\n",
    "LogisticRegression, RandomForestClassifier и AdaBoostClassifier показывают незначительные снижения точности 0.795, 0.79 и 0.785 соответственно.\n",
    "\n",
    "Однако, модель DecisionTreeClassifier показала более скромные результаты, достигнув точности в 0.62.\n",
    "\n",
    "Нейронные сети также показали неплохую производительность с точностью в 0.775, что делает их конкурентоспособными, хотя они уступают тем же VotingClassifier и GridSearchCV, которые обеспечивают наилучшую точность в данном контексте.\n"
   ]
  },
  {
   "cell_type": "markdown",
   "metadata": {},
   "source": [
    "##### Финальный вывод\n",
    "\n",
    "Результаты теста AQ-10 не могут заменить клинический диагноз расстройства аутистического спектра (РАС), так как они представляют собой всего лишь первоначальное тестирование, направленное на определение необходимости дальнейших диагностических мероприятий, проводимых медицинским персоналом. Однако важно отметить, что результаты, полученные с использованием моделей машинного обучения, могут быть полезными инструментами для первичного скрининга и оценки риска.\n",
    "\n",
    "Согласно исследованиям ученых, около 75% пациентов, у которых AQ-10 показывает высокие результаты, впоследствии получают клинический диагноз РАС. Это подчеркивает важность теста AQ-10 как первого этапа для выявления потенциальных случаев РАС.\n",
    "\n",
    "Исходя из наших результатов, где модели машинного обучения продемонстрировали точность в 80%, можно считать, что они предсказывают клинический диагноз с высокой степенью точности. Этот результат является весьма обнадеживающим, и, хотя он не может быть конечным диагнозом, он служит важным инструментом для первоначального выявления случаев РАС и направления на дополнительные медицинские исследования."
   ]
  }
 ],
 "metadata": {
  "kernelspec": {
   "display_name": "Python 3",
   "language": "python",
   "name": "python3"
  },
  "language_info": {
   "codemirror_mode": {
    "name": "ipython",
    "version": 3
   },
   "file_extension": ".py",
   "mimetype": "text/x-python",
   "name": "python",
   "nbconvert_exporter": "python",
   "pygments_lexer": "ipython3",
   "version": "3.8.5"
  }
 },
 "nbformat": 4,
 "nbformat_minor": 4
}
